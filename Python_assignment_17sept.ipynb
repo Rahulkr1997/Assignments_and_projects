{
 "cells": [
  {
   "cell_type": "code",
   "execution_count": 1,
   "id": "52ec055c-ff44-44d4-b4d2-150e8b30b060",
   "metadata": {},
   "outputs": [
    {
     "name": "stdout",
     "output_type": "stream",
     "text": [
      "1\n",
      "2\n",
      "3\n",
      "4\n",
      "5\n",
      "6\n",
      "7\n",
      "8\n",
      "9\n",
      "10\n"
     ]
    }
   ],
   "source": [
    "# For loop\n",
    "# Q-1\n",
    "for i in range(1, 11):\n",
    "    print(i)"
   ]
  },
  {
   "cell_type": "code",
   "execution_count": 2,
   "id": "55d6db4d-00d1-4eac-90fa-df2ad3706ec2",
   "metadata": {},
   "outputs": [],
   "source": [
    "# Q-2\n",
    "# Answer - A for loop is used to iterate over a sequence (such as a list, tuple, or string) \n",
    "#and execute a block of code for each item in the sequence.\n",
    "#A while loop is used to execute a block of code as long as a certain condition is true."
   ]
  },
  {
   "cell_type": "code",
   "execution_count": 3,
   "id": "b8628268-045b-4ae9-b71a-11cb5615aeec",
   "metadata": {},
   "outputs": [
    {
     "name": "stdout",
     "output_type": "stream",
     "text": [
      "5050\n"
     ]
    }
   ],
   "source": [
    "# Q-3\n",
    "sum = 0\n",
    "for i in range(1, 101):\n",
    "    sum += i\n",
    "print(sum)"
   ]
  },
  {
   "cell_type": "code",
   "execution_count": 4,
   "id": "1ee71ff5-feef-43a1-bdea-f5b279b3428f",
   "metadata": {},
   "outputs": [
    {
     "name": "stdout",
     "output_type": "stream",
     "text": [
      "apple\n",
      "banana\n",
      "cherry\n"
     ]
    }
   ],
   "source": [
    "# Q-4\n",
    "fruits = [\"apple\", \"banana\", \"cherry\"]\n",
    "for fruit in fruits:\n",
    "    print(fruit)"
   ]
  },
  {
   "cell_type": "code",
   "execution_count": 5,
   "id": "a3dfa643-cd08-4f6c-b9cf-8587f82b272c",
   "metadata": {},
   "outputs": [
    {
     "name": "stdout",
     "output_type": "stream",
     "text": [
      "120\n"
     ]
    }
   ],
   "source": [
    "# Q-5\n",
    "numbers = [1, 2, 3, 4, 5]\n",
    "product = 1\n",
    "for num in numbers:\n",
    "    product *= num\n",
    "print(product)"
   ]
  },
  {
   "cell_type": "code",
   "execution_count": 6,
   "id": "ccc19539-44c4-4a33-ae54-6f165e3c4507",
   "metadata": {},
   "outputs": [
    {
     "name": "stdout",
     "output_type": "stream",
     "text": [
      "2\n",
      "4\n",
      "6\n",
      "8\n",
      "10\n",
      "12\n",
      "14\n",
      "16\n",
      "18\n",
      "20\n"
     ]
    }
   ],
   "source": [
    "# Q-6\n",
    "for i in range(1, 21):\n",
    "    if i % 2 == 0:\n",
    "        print(i)"
   ]
  },
  {
   "cell_type": "code",
   "execution_count": 7,
   "id": "4e152703-261c-4125-b8ea-fbc4d336d7e8",
   "metadata": {},
   "outputs": [
    {
     "name": "stdout",
     "output_type": "stream",
     "text": [
      "120\n"
     ]
    }
   ],
   "source": [
    "# Q-7\n",
    "def factorial(n):\n",
    "    result = 1\n",
    "    for i in range(1, n + 1):\n",
    "        result *= i\n",
    "    return result\n",
    "\n",
    "print(factorial(5))"
   ]
  },
  {
   "cell_type": "code",
   "execution_count": 8,
   "id": "cfee58ed-c75f-4b2f-bfab-4ad14f965f0d",
   "metadata": {},
   "outputs": [
    {
     "name": "stdout",
     "output_type": "stream",
     "text": [
      "R\n",
      "a\n",
      "h\n",
      "u\n",
      "l\n"
     ]
    }
   ],
   "source": [
    "# Q-8\n",
    "s = \"Rahul\"\n",
    "for char in s:\n",
    "    print(char)"
   ]
  },
  {
   "cell_type": "code",
   "execution_count": 9,
   "id": "e9701357-a538-43c3-9a10-81aee4b08c4a",
   "metadata": {},
   "outputs": [
    {
     "name": "stdout",
     "output_type": "stream",
     "text": [
      "5\n"
     ]
    }
   ],
   "source": [
    "# Q-9\n",
    "numbers = [1, 2, 3, 4, 5]\n",
    "max_num = numbers[0]\n",
    "for num in numbers:\n",
    "    if num > max_num:\n",
    "        max_num = num\n",
    "print(max_num)"
   ]
  },
  {
   "cell_type": "code",
   "execution_count": 10,
   "id": "447228a8-ca33-4732-af76-8e40d0ff65a7",
   "metadata": {},
   "outputs": [
    {
     "name": "stdout",
     "output_type": "stream",
     "text": [
      "0\n",
      "1\n",
      "1\n",
      "2\n",
      "3\n",
      "5\n",
      "8\n",
      "13\n",
      "21\n",
      "34\n"
     ]
    }
   ],
   "source": [
    "# Q-10\n",
    "def fibonacci(limit):\n",
    "    a, b = 0, 1\n",
    "    for i in range(limit):\n",
    "        print(a)\n",
    "        a, b = b, a + b\n",
    "\n",
    "fibonacci(10)"
   ]
  },
  {
   "cell_type": "code",
   "execution_count": 11,
   "id": "6f80ffdd-94c4-49f9-b542-c9aa0586b651",
   "metadata": {},
   "outputs": [
    {
     "name": "stdout",
     "output_type": "stream",
     "text": [
      "2\n"
     ]
    }
   ],
   "source": [
    "# Q-11\n",
    "s = \"hello\"\n",
    "vowels = 0\n",
    "for char in s:\n",
    "    if char in \"aeiou\":\n",
    "        vowels += 1\n",
    "print(vowels)"
   ]
  },
  {
   "cell_type": "code",
   "execution_count": 12,
   "id": "e4e71a59-3b44-428c-a213-55063002eaa8",
   "metadata": {},
   "outputs": [
    {
     "name": "stdout",
     "output_type": "stream",
     "text": [
      "5 * 1 = 5\n",
      "5 * 2 = 10\n",
      "5 * 3 = 15\n",
      "5 * 4 = 20\n",
      "5 * 5 = 25\n",
      "5 * 6 = 30\n",
      "5 * 7 = 35\n",
      "5 * 8 = 40\n",
      "5 * 9 = 45\n",
      "5 * 10 = 50\n"
     ]
    }
   ],
   "source": [
    "# Q-12\n",
    "num = 5\n",
    "for i in range(1, 11):\n",
    "    print(f\"{num} * {i} = {num * i}\")"
   ]
  },
  {
   "cell_type": "code",
   "execution_count": 13,
   "id": "29fc2787-ffb7-4d29-add8-6ae0763291c6",
   "metadata": {},
   "outputs": [
    {
     "name": "stdout",
     "output_type": "stream",
     "text": [
      "[5, 4, 3, 2, 1]\n"
     ]
    }
   ],
   "source": [
    "# Q-13\n",
    "numbers = [1, 2, 3, 4, 5]\n",
    "reversed_numbers = []\n",
    "for num in numbers[::-1]:\n",
    "    reversed_numbers.append(num)\n",
    "print(reversed_numbers)"
   ]
  },
  {
   "cell_type": "code",
   "execution_count": 14,
   "id": "246f66dd-46cd-45cf-ba88-49baa82586b4",
   "metadata": {},
   "outputs": [
    {
     "name": "stdout",
     "output_type": "stream",
     "text": [
      "[4, 5]\n"
     ]
    }
   ],
   "source": [
    "# Q-14\n",
    "list1 = [1, 2, 3, 4, 5]\n",
    "list2 = [4, 5, 6, 7, 8]\n",
    "common_elements = []\n",
    "for num in list1:\n",
    "    if num in list2:\n",
    "        common_elements.append(num)\n",
    "print(common_elements)"
   ]
  },
  {
   "cell_type": "code",
   "execution_count": 15,
   "id": "5415cf90-7977-4a0a-9aef-966f45912ef0",
   "metadata": {},
   "outputs": [
    {
     "name": "stdout",
     "output_type": "stream",
     "text": [
      "a: 1\n",
      "b: 2\n",
      "c: 3\n"
     ]
    }
   ],
   "source": [
    "# Q-15\n",
    "d = {\"a\": 1, \"b\": 2, \"c\": 3}\n",
    "for key, value in d.items():\n",
    "    print(f\"{key}: {value}\")"
   ]
  },
  {
   "cell_type": "code",
   "execution_count": 16,
   "id": "230903fd-f6d1-4809-90d7-430f8644df96",
   "metadata": {},
   "outputs": [
    {
     "name": "stdout",
     "output_type": "stream",
     "text": [
      "3\n"
     ]
    }
   ],
   "source": [
    "# Q-16\n",
    "def gcd(a, b):\n",
    "    while b != 0:\n",
    "        a, b = b, a % b\n",
    "    return a\n",
    "\n",
    "print(gcd(12, 15))"
   ]
  },
  {
   "cell_type": "code",
   "execution_count": 17,
   "id": "c58c4f5c-924e-463c-92d6-e982c818398f",
   "metadata": {},
   "outputs": [
    {
     "name": "stdout",
     "output_type": "stream",
     "text": [
      "Palindrome\n"
     ]
    }
   ],
   "source": [
    "# Q-17\n",
    "s = \"radar\"\n",
    "for i in range(len(s)):\n",
    "    if s[i] != s[-i - 1]:\n",
    "        print(\"Not a palindrome\")\n",
    "        break\n",
    "else:\n",
    "    print(\"Palindrome\")"
   ]
  },
  {
   "cell_type": "code",
   "execution_count": 18,
   "id": "1d29e7d0-9332-4516-b8c3-f7a70d1c5f52",
   "metadata": {},
   "outputs": [
    {
     "name": "stdout",
     "output_type": "stream",
     "text": [
      "[1, 2, 3, 4, 5]\n"
     ]
    }
   ],
   "source": [
    "# Q-18\n",
    "numbers = [1, 2, 2, 3, 4, 4, 5]\n",
    "unique_numbers = []\n",
    "for num in numbers:\n",
    "    if num not in unique_numbers:\n",
    "        unique_numbers.append(num)\n",
    "print(unique_numbers)"
   ]
  },
  {
   "cell_type": "code",
   "execution_count": 19,
   "id": "09145fdc-9c21-4c6c-a99d-1768cf33a999",
   "metadata": {},
   "outputs": [
    {
     "name": "stdout",
     "output_type": "stream",
     "text": [
      "2\n"
     ]
    }
   ],
   "source": [
    "# Q-19\n",
    "s = \"Hello world\"\n",
    "words = s.split()\n",
    "print(len(words))"
   ]
  },
  {
   "cell_type": "code",
   "execution_count": 20,
   "id": "db559748-7c8e-4dbb-962f-eb3c48e2768d",
   "metadata": {},
   "outputs": [
    {
     "name": "stdout",
     "output_type": "stream",
     "text": [
      "625\n"
     ]
    }
   ],
   "source": [
    "# Q-20\n",
    "sum = 0\n",
    "for i in range(1, 51):\n",
    "    if i % 2 != 0:\n",
    "        sum += i\n",
    "print(sum)"
   ]
  },
  {
   "cell_type": "code",
   "execution_count": 21,
   "id": "66ff87e3-0489-4c97-a502-72f8cfcab919",
   "metadata": {},
   "outputs": [
    {
     "name": "stdout",
     "output_type": "stream",
     "text": [
      "Leap year\n"
     ]
    }
   ],
   "source": [
    "# Q-21\n",
    "year = 2024\n",
    "if year % 4 == 0 and (year % 100 != 0 or year % 400 == 0):\n",
    "    print(\"Leap year\")\n",
    "else:\n",
    "    print(\"Not a leap year\")"
   ]
  },
  {
   "cell_type": "code",
   "execution_count": 22,
   "id": "8a478808-647a-4432-aa6e-7525cdaa4a2f",
   "metadata": {},
   "outputs": [
    {
     "name": "stdout",
     "output_type": "stream",
     "text": [
      "4\n"
     ]
    }
   ],
   "source": [
    "# Q-22\n",
    "def sqrt(n):\n",
    "    for i in range(n + 1):\n",
    "        if i * i == n:\n",
    "            return i\n",
    "    return None\n",
    "\n",
    "print(sqrt(16))"
   ]
  },
  {
   "cell_type": "code",
   "execution_count": 23,
   "id": "57768bc1-1b6c-4ef1-acc2-5ec55d0aaba6",
   "metadata": {},
   "outputs": [
    {
     "name": "stdout",
     "output_type": "stream",
     "text": [
      "180\n"
     ]
    }
   ],
   "source": [
    "# Q-23\n",
    "def lcm(a, b):\n",
    "    for i in range(a * b, 0, -1):\n",
    "        if i % a == 0 and i % b == 0:\n",
    "            return i\n",
    "    return None\n",
    "\n",
    "print(lcm(12, 15))"
   ]
  },
  {
   "cell_type": "code",
   "execution_count": 25,
   "id": "120805f7-27ba-426e-97ef-4172ad2a0083",
   "metadata": {},
   "outputs": [
    {
     "name": "stdout",
     "output_type": "stream",
     "text": [
      "Positive\n"
     ]
    }
   ],
   "source": [
    "# if-else:\n",
    "# Q-1\n",
    "def check_number(num):\n",
    "    if num > 0:\n",
    "        return \"Positive\"\n",
    "    elif num < 0:\n",
    "        return \"Negative\"\n",
    "    else:\n",
    "        return \"Zero\"\n",
    "\n",
    "num = 5\n",
    "result = check_number(num)\n",
    "print(result)"
   ]
  },
  {
   "cell_type": "code",
   "execution_count": 26,
   "id": "e4ed6df1-bc36-47f2-8b64-74997fcb893f",
   "metadata": {},
   "outputs": [
    {
     "name": "stdout",
     "output_type": "stream",
     "text": [
      "Even\n"
     ]
    }
   ],
   "source": [
    "# Q-2\n",
    "def check_even_odd(num):\n",
    "    if num % 2 == 0:\n",
    "        return \"Even\"\n",
    "    else:\n",
    "        return \"Odd\"\n",
    "\n",
    "num = 4\n",
    "result = check_even_odd(num)\n",
    "print(result)"
   ]
  },
  {
   "cell_type": "code",
   "execution_count": 27,
   "id": "f7b2a9ed-950f-4396-9568-0bd3dd71191d",
   "metadata": {},
   "outputs": [
    {
     "name": "stdout",
     "output_type": "stream",
     "text": [
      "B+\n"
     ]
    }
   ],
   "source": [
    "# Q-3\n",
    "def check_grade(score):\n",
    "    if score >= 90:\n",
    "        if score >= 95:\n",
    "            return \"A+\"\n",
    "        else:\n",
    "            return \"A\"\n",
    "    elif score >= 80:\n",
    "        if score >= 85:\n",
    "            return \"B+\"\n",
    "        else:\n",
    "            return \"B\"\n",
    "    elif score >= 70:\n",
    "        if score >= 75:\n",
    "            return \"C+\"\n",
    "        else:\n",
    "            return \"C\"\n",
    "    else:\n",
    "        return \"F\"\n",
    "\n",
    "score = 85\n",
    "result = check_grade(score)\n",
    "print(result)"
   ]
  },
  {
   "cell_type": "code",
   "execution_count": 28,
   "id": "8fd9eacd-372e-4168-9af6-7918e8bc3c23",
   "metadata": {},
   "outputs": [
    {
     "name": "stdout",
     "output_type": "stream",
     "text": [
      "8\n"
     ]
    }
   ],
   "source": [
    "# Q-4\n",
    "def find_largest(num1, num2, num3):\n",
    "    if num1 >= num2 and num1 >= num3:\n",
    "        return num1\n",
    "    elif num2 >= num1 and num2 >= num3:\n",
    "        return num2\n",
    "    else:\n",
    "        return num3\n",
    "\n",
    "num1 = 5\n",
    "num2 = 3\n",
    "num3 = 8\n",
    "result = find_largest(num1, num2, num3)\n",
    "print(result)"
   ]
  },
  {
   "cell_type": "code",
   "execution_count": 29,
   "id": "b37ce7f1-5773-4d98-ba0c-c57f8c311ff8",
   "metadata": {},
   "outputs": [
    {
     "name": "stdout",
     "output_type": "stream",
     "text": [
      "5\n"
     ]
    }
   ],
   "source": [
    "# Q-5\n",
    "def absolute_value(num):\n",
    "    if num >= 0:\n",
    "        return num\n",
    "    else:\n",
    "        return -num\n",
    "\n",
    "num = -5\n",
    "result = absolute_value(num)\n",
    "print(result)"
   ]
  },
  {
   "cell_type": "code",
   "execution_count": 30,
   "id": "338afd06-766f-4162-b0b7-4ce6f92351f6",
   "metadata": {},
   "outputs": [
    {
     "name": "stdout",
     "output_type": "stream",
     "text": [
      "Vowel\n"
     ]
    }
   ],
   "source": [
    "# Q-6\n",
    "def check_vowel_consonant(char):\n",
    "    if char.lower() in \"aeiou\":\n",
    "        return \"Vowel\"\n",
    "    elif char.isalpha():\n",
    "        return \"Consonant\"\n",
    "    else:\n",
    "        return \"Invalid input\"\n",
    "\n",
    "char = \"a\"\n",
    "result = check_vowel_consonant(char)\n",
    "print(result)"
   ]
  },
  {
   "cell_type": "code",
   "execution_count": 31,
   "id": "49563885-a2b7-45c3-a1ca-f5aaed01274a",
   "metadata": {},
   "outputs": [
    {
     "name": "stdout",
     "output_type": "stream",
     "text": [
      "Eligible to vote\n"
     ]
    }
   ],
   "source": [
    "# Q-7\n",
    "def check_voting_eligibility(age):\n",
    "    if age >= 18:\n",
    "        return \"Eligible to vote\"\n",
    "    else:\n",
    "        return \"Not eligible to vote\"\n",
    "\n",
    "age = 20\n",
    "result = check_voting_eligibility(age)\n",
    "print(result)"
   ]
  },
  {
   "cell_type": "code",
   "execution_count": 32,
   "id": "a161d595-0afd-4c9f-8611-74f92ad6e826",
   "metadata": {},
   "outputs": [
    {
     "name": "stdout",
     "output_type": "stream",
     "text": [
      "40.0\n"
     ]
    }
   ],
   "source": [
    "# Q-8\n",
    "def calculate_discount(purchase_amount):\n",
    "    if purchase_amount >= 1000:\n",
    "        return purchase_amount * 0.1\n",
    "    elif purchase_amount >= 500:\n",
    "        return purchase_amount * 0.05\n",
    "    else:\n",
    "        return 0\n",
    "\n",
    "purchase_amount = 800\n",
    "result = calculate_discount(purchase_amount)\n",
    "print(result)"
   ]
  },
  {
   "cell_type": "code",
   "execution_count": 34,
   "id": "8c9a0b28-a041-4054-a0f3-1c35972f1b9a",
   "metadata": {},
   "outputs": [
    {
     "name": "stdout",
     "output_type": "stream",
     "text": [
      "Within range\n"
     ]
    }
   ],
   "source": [
    "# Q-9\n",
    "def check_range(num, min_value, max_value):\n",
    "    if num >= min_value and num <= max_value:\n",
    "        return \"Within range\"\n",
    "    else:\n",
    "        return \"Outside range\"\n",
    "\n",
    "num = 5\n",
    "min_value = 1\n",
    "max_value = 10\n",
    "result = check_range(num, min_value, max_value)\n",
    "print(result)"
   ]
  },
  {
   "cell_type": "code",
   "execution_count": 35,
   "id": "b632bc16-d863-4ffa-bd30-5fbedbcda721",
   "metadata": {},
   "outputs": [
    {
     "name": "stdout",
     "output_type": "stream",
     "text": [
      "B\n"
     ]
    }
   ],
   "source": [
    "# Q-10\n",
    "def check_grade(score):\n",
    "    if score >= 90:\n",
    "        return \"A\"\n",
    "    elif score >= 80:\n",
    "        return \"B\"\n",
    "    elif score >= 70:\n",
    "        return \"C\"\n",
    "    elif score >= 60:\n",
    "        return \"D\"\n",
    "    else:\n",
    "        return \"F\"\n",
    "\n",
    "score = 85\n",
    "result = check_grade(score)\n",
    "print(result)"
   ]
  },
  {
   "cell_type": "code",
   "execution_count": 37,
   "id": "7257f85f-0882-4629-9b66-b2d0dc51212a",
   "metadata": {},
   "outputs": [
    {
     "name": "stdout",
     "output_type": "stream",
     "text": [
      "Non-empty string\n"
     ]
    }
   ],
   "source": [
    "# Q-11\n",
    "def check_empty_string(s):\n",
    "    if s == \"\":\n",
    "        return \"Empty string\"\n",
    "    else:\n",
    "        return \"Non-empty string\"\n",
    "\n",
    "s = \"rahul\"\n",
    "result = check_empty_string(s)\n",
    "print(result)"
   ]
  },
  {
   "cell_type": "code",
   "execution_count": 38,
   "id": "75e9b4e7-eea9-45b5-81f5-8ded226e2958",
   "metadata": {},
   "outputs": [
    {
     "name": "stdout",
     "output_type": "stream",
     "text": [
      "Equilateral\n"
     ]
    }
   ],
   "source": [
    "# Q-12\n",
    "def check_triangle_type(a, b, c):\n",
    "    if a == b == c:\n",
    "        return \"Equilateral\"\n",
    "    elif a == b or a == c or b == c:\n",
    "        return \"Isosceles\"\n",
    "    else:\n",
    "        return \"Scalene\"\n",
    "\n",
    "a = 5\n",
    "b = 5\n",
    "c = 5\n",
    "result = check_triangle_type(a, b, c)\n",
    "print(result)"
   ]
  },
  {
   "cell_type": "code",
   "execution_count": 40,
   "id": "2d727d1b-c91b-40b3-ab22-31288b05daa6",
   "metadata": {},
   "outputs": [
    {
     "name": "stdout",
     "output_type": "stream",
     "text": [
      "Saturday\n"
     ]
    }
   ],
   "source": [
    "# Q-13\n",
    "def determine_day(day_number):\n",
    "    days = [\"Monday\", \"Tuesday\", \"Wednesday\", \"Thursday\", \"Friday\", \"Saturday\", \"Sunday\"]\n",
    "    return days[day_number - 1]\n",
    "\n",
    "day_number = 6\n",
    "result = determine_day(day_number)\n",
    "print(result)"
   ]
  },
  {
   "cell_type": "code",
   "execution_count": 41,
   "id": "8af41d54-c21b-4d6c-a81c-85d5676c2b3b",
   "metadata": {},
   "outputs": [
    {
     "name": "stdout",
     "output_type": "stream",
     "text": [
      "Leap year\n"
     ]
    }
   ],
   "source": [
    "# Q-14\n",
    "def check_leap_year(year):\n",
    "    if year % 4 == 0 and year % 100 != 0:\n",
    "        return \"Leap year\"\n",
    "    elif year % 400 == 0:\n",
    "        return \"Leap year\"\n",
    "    else:\n",
    "        return \"Not a leap year\"\n",
    "\n",
    "year = 2024\n",
    "result = check_leap_year(year)\n",
    "print(result)"
   ]
  },
  {
   "cell_type": "code",
   "execution_count": 42,
   "id": "cef00f02-19b1-4b87-b542-9429545c9ee7",
   "metadata": {},
   "outputs": [
    {
     "name": "stdout",
     "output_type": "stream",
     "text": [
      "Positive\n"
     ]
    }
   ],
   "source": [
    "# Q-15\n",
    "def check_number(num):\n",
    "    assert num >= 0, \"Number must be non-negative\"\n",
    "    if num > 0:\n",
    "        return \"Positive\"\n",
    "    elif num < 0:\n",
    "        return \"Negative\"\n",
    "    else:\n",
    "        return \"Zero\"\n",
    "\n",
    "num = 5\n",
    "result = check_number(num)\n",
    "print(result)"
   ]
  },
  {
   "cell_type": "code",
   "execution_count": 43,
   "id": "56776791-1950-4c9c-8d72-3491ba37dfc3",
   "metadata": {},
   "outputs": [
    {
     "name": "stdout",
     "output_type": "stream",
     "text": [
      "Eligible for senior citizen discount\n"
     ]
    }
   ],
   "source": [
    "# Q-16\n",
    "def check_senior_citizen_discount(age):\n",
    "    if age >= 65:\n",
    "        return \"Eligible for senior citizen discount\"\n",
    "    else:\n",
    "        return \"Not eligible for senior citizen discount\"\n",
    "\n",
    "age = 70\n",
    "result = check_senior_citizen_discount(age)\n",
    "print(result)"
   ]
  },
  {
   "cell_type": "code",
   "execution_count": 44,
   "id": "f138cea9-939d-4407-99ae-de91abf4ba01",
   "metadata": {},
   "outputs": [
    {
     "name": "stdout",
     "output_type": "stream",
     "text": [
      "Uppercase\n"
     ]
    }
   ],
   "source": [
    "# Q-17\n",
    "def check_case(char):\n",
    "    if char.isupper():\n",
    "        return \"Uppercase\"\n",
    "    elif char.islower():\n",
    "        return \"Lowercase\"\n",
    "    else:\n",
    "        return \"Neither\"\n",
    "\n",
    "char = \"A\"\n",
    "result = check_case(char)\n",
    "print(result)"
   ]
  },
  {
   "cell_type": "code",
   "execution_count": 45,
   "id": "deb2c560-9335-4a12-b873-e87210422d2c",
   "metadata": {},
   "outputs": [
    {
     "name": "stdout",
     "output_type": "stream",
     "text": [
      "Perfect square\n"
     ]
    }
   ],
   "source": [
    "# Q-18\n",
    "def check_perfect_square(num):\n",
    "    if num >= 0:\n",
    "        root = int(num ** 0.5)\n",
    "        if root ** 2 == num:\n",
    "            return \"Perfect square\"\n",
    "        else:\n",
    "            return \"Not a perfect square\"\n",
    "    else:\n",
    "        return \"Number must be non-negative\"\n",
    "\n",
    "num = 16\n",
    "result = check_perfect_square(num)\n",
    "print(result)"
   ]
  },
  {
   "cell_type": "code",
   "execution_count": 51,
   "id": "be4eb6da-cc07-4d71-b2c7-6fe6fc3ef2db",
   "metadata": {},
   "outputs": [
    {
     "name": "stdout",
     "output_type": "stream",
     "text": [
      "Century year\n"
     ]
    }
   ],
   "source": [
    "# Q-19\n",
    "def is_century_year(year):\n",
    "    if year % 100 == 0:\n",
    "        return \"Century year\"\n",
    "    else:\n",
    "        return \"Not a century year\"\n",
    "\n",
    "year = 2000\n",
    "result = is_century_year(year)\n",
    "print(result)"
   ]
  },
  {
   "cell_type": "code",
   "execution_count": 52,
   "id": "4844dd32-2654-4ae4-9d10-208abc876975",
   "metadata": {},
   "outputs": [
    {
     "name": "stdout",
     "output_type": "stream",
     "text": [
      "Perfect square\n"
     ]
    }
   ],
   "source": [
    "# Q-20\n",
    "def is_perfect_square(num):\n",
    "    if num < 0:\n",
    "        return \"Number must be non-negative\"\n",
    "    elif num == 0 or num == 1:\n",
    "        return \"Perfect square\"\n",
    "    else:\n",
    "        for i in range(2, num):\n",
    "            if i * i == num:\n",
    "                return \"Perfect square\"\n",
    "            elif i * i > num:\n",
    "                return \"Not a perfect square\"\n",
    "    return \"Not a perfect square\"\n",
    "\n",
    "num = 16\n",
    "result = is_perfect_square(num)\n",
    "print(result)"
   ]
  },
  {
   "cell_type": "code",
   "execution_count": null,
   "id": "0a7bc3b2-d1d4-472b-b630-4be3d4578550",
   "metadata": {},
   "outputs": [],
   "source": [
    "# Q-21\n",
    "#Break:A break statement in Python alters the flow of a loop by terminating it once a specified condition is met.\n",
    "#Continue: The continue statement in Python is used to skip the remaining code \n",
    "#inside a loop for the current iteration only.\n"
   ]
  },
  {
   "cell_type": "code",
   "execution_count": 47,
   "id": "17e9e6be-3c21-40e3-a551-546ef4db0df7",
   "metadata": {},
   "outputs": [
    {
     "name": "stdout",
     "output_type": "stream",
     "text": [
      "Normal\n"
     ]
    }
   ],
   "source": [
    "# Q-22\n",
    "def calculate_bmi(weight, height):\n",
    "    if weight <= 0 or height <= 0:\n",
    "        return \"Invalid input\"\n",
    "    else:\n",
    "        bmi = weight / (height ** 2)\n",
    "        if bmi < 18.5:\n",
    "            return \"Underweight\"\n",
    "        elif bmi >= 18.5 and bmi < 25:\n",
    "            return \"Normal\"\n",
    "        elif bmi >= 25 and bmi < 30:\n",
    "            return \"Overweight\"\n",
    "        else:\n",
    "            return \"Obese\"\n",
    "\n",
    "weight = 60\n",
    "height = 1.7\n",
    "result = calculate_bmi(weight, height)\n",
    "print(result)"
   ]
  },
  {
   "cell_type": "code",
   "execution_count": 48,
   "id": "51997dcd-eb73-4f95-a55c-1ff12455a63e",
   "metadata": {},
   "outputs": [
    {
     "name": "stdout",
     "output_type": "stream",
     "text": [
      "[2, 4, 6]\n"
     ]
    }
   ],
   "source": [
    "# Q-23\n",
    "def filter_even_numbers(numbers):\n",
    "    return list(filter(lambda x: x % 2 == 0, numbers))\n",
    "\n",
    "numbers = [1, 2, 3, 4, 5, 6]\n",
    "result = filter_even_numbers(numbers)\n",
    "print(result)"
   ]
  },
  {
   "cell_type": "code",
   "execution_count": 49,
   "id": "37ef39f6-ca0f-421f-b45c-dff758fde44d",
   "metadata": {},
   "outputs": [
    {
     "name": "stdout",
     "output_type": "stream",
     "text": [
      "Prime\n"
     ]
    }
   ],
   "source": [
    "# Q-24\n",
    "def check_prime(num):\n",
    "    if num <= 1:\n",
    "        return \"Not prime\"\n",
    "    elif num > 1:\n",
    "        for i in range(2, int(num ** 0.5) + 1):\n",
    "            if num % i == 0:\n",
    "                return \"Not prime\"\n",
    "        else:\n",
    "            return \"Prime\"\n",
    "\n",
    "num = 7\n",
    "result = check_prime(num)\n",
    "print(result)"
   ]
  },
  {
   "cell_type": "code",
   "execution_count": 3,
   "id": "8b2fc3f2-af12-4c16-98f0-d43472625aad",
   "metadata": {},
   "outputs": [
    {
     "name": "stdout",
     "output_type": "stream",
     "text": [
      "Original numbers: (1, 2, 3)\n",
      "Squared numbers: (1, 4, 9)\n"
     ]
    }
   ],
   "source": [
    "# Maps\n",
    "# Q-1\n",
    "# The map() function in Python is used to apply a given function to each item of an iterable(such as a list, tuple, etc.)\n",
    "# and return a new iterable (a map object) containing the results.\n",
    "# The primary purpose of map() is to transform data by applying the same operation to each element in the iterable.\n",
    "# Define a function to square a number\n",
    "\n",
    "def square(x):\n",
    "    return x * x\n",
    "# List of numbers\n",
    "numbers = (1,2,3)\n",
    "# Apply the square function to each element in the list using map\n",
    "squared_numbers = map(square, numbers)\n",
    "# Convert the map object to a list to see the results\n",
    "squared_numbers_list = tuple(squared_numbers)\n",
    "\n",
    "print(\"Original numbers:\", numbers)\n",
    "print(\"Squared numbers:\", squared_numbers_list)"
   ]
  },
  {
   "cell_type": "code",
   "execution_count": 6,
   "id": "b4c18b13-7528-45ab-8090-c8486d22537a",
   "metadata": {},
   "outputs": [
    {
     "name": "stdout",
     "output_type": "stream",
     "text": [
      "New squared list : [9, 16, 25, 36]\n"
     ]
    }
   ],
   "source": [
    "# Q-2\n",
    "def square(x):\n",
    "    return x * x\n",
    "\n",
    "l1 = [3, 4, 5, 6]\n",
    "squared_list = map(square, l1)\n",
    "squared_num_list = list(squared_list)\n",
    "\n",
    "print(\"New squared list :\",squared_num_list)"
   ]
  },
  {
   "cell_type": "code",
   "execution_count": 7,
   "id": "8cad60bc-651e-4e79-8562-7093df55fb34",
   "metadata": {},
   "outputs": [],
   "source": [
    "# Q-3\n",
    "# map is suitable for simple transformations and memory efficiency,\n",
    "# Prefer map when you have an existing function that you want to apply to each item in an iterable. \n",
    "# while list comprehension is preferred for its readability, filtering capabilities, and direct list creation\n",
    "# List Comprehension: Prefer list comprehensions for readability and when the transformation logic is simple.\n",
    "# They are often more Pythonic and concise."
   ]
  },
  {
   "cell_type": "code",
   "execution_count": 8,
   "id": "dae7fcd2-1974-4e3c-8a38-974a000d7ca1",
   "metadata": {},
   "outputs": [
    {
     "name": "stdout",
     "output_type": "stream",
     "text": [
      "Original names: ['alice', 'bob', 'charlie']\n",
      "Uppercase names: ['ALICE', 'BOB', 'CHARLIE']\n"
     ]
    }
   ],
   "source": [
    "# Q-4\n",
    "names = [\"alice\", \"bob\", \"charlie\"]\n",
    "uppercase_names = list(map(str.upper, names))\n",
    "\n",
    "print(\"Original names:\", names)\n",
    "print(\"Uppercase names:\", uppercase_names)"
   ]
  },
  {
   "cell_type": "code",
   "execution_count": 17,
   "id": "848961c1-5f48-443e-bec7-5e67cf185dc5",
   "metadata": {},
   "outputs": [
    {
     "name": "stdout",
     "output_type": "stream",
     "text": [
      "Words: ['apple', 'rahul', 'pwskills']\n",
      "Lengths of words: [5, 5, 8]\n"
     ]
    }
   ],
   "source": [
    "# Q-5\n",
    "# List of words\n",
    "words = [\"apple\", \"rahul\", \"pwskills\", ]\n",
    "word_lengths = list(map(len, words))\n",
    "\n",
    "print(\"Words:\", words)\n",
    "print(\"Lengths of words:\", word_lengths)"
   ]
  },
  {
   "cell_type": "code",
   "execution_count": 18,
   "id": "9178b527-20b9-43d0-bfc8-def743f875e9",
   "metadata": {},
   "outputs": [
    {
     "name": "stdout",
     "output_type": "stream",
     "text": [
      "List 1: [1, 2, 3, 4, 5]\n",
      "List 2: [10, 20, 30, 40, 50]\n",
      "Summed numbers: [11, 22, 33, 44, 55]\n"
     ]
    }
   ],
   "source": [
    "# Q-6\n",
    "def add(x, y):\n",
    "    return x + y\n",
    "\n",
    "list1 = [1, 2, 3, 4, 5]\n",
    "list2 = [10, 20, 30, 40, 50]\n",
    "\n",
    "summed_numbers = list(map(add, list1, list2))\n",
    "\n",
    "print(\"List 1:\", list1)\n",
    "print(\"List 2:\", list2)\n",
    "print(\"Summed numbers:\", summed_numbers)"
   ]
  },
  {
   "cell_type": "code",
   "execution_count": 20,
   "id": "f791bdaa-4295-47b2-bf2a-db495995520c",
   "metadata": {},
   "outputs": [
    {
     "name": "stdout",
     "output_type": "stream",
     "text": [
      "Celsius temperatures: [0, 20, 37, 100]\n",
      "Fahrenheit temperatures: [32.0, 68.0, 98.6, 212.0]\n"
     ]
    }
   ],
   "source": [
    "# Q-7\n",
    "def celsius_to_fahrenheit(celsius):\n",
    "    return (celsius * 9/5) + 32\n",
    "\n",
    "celsius_temps = [0, 20, 37, 100]\n",
    "fahrenheit_temps = list(map(celsius_to_fahrenheit, celsius_temps))\n",
    "\n",
    "print(\"Celsius temperatures:\", celsius_temps)\n",
    "print(\"Fahrenheit temperatures:\", fahrenheit_temps)"
   ]
  },
  {
   "cell_type": "code",
   "execution_count": 21,
   "id": "a277c1ee-0be1-437a-ab30-7501665ce651",
   "metadata": {},
   "outputs": [
    {
     "name": "stdout",
     "output_type": "stream",
     "text": [
      "Original floating-point numbers: [1.2, 2.5, 3.7, 4.4, 5.9]\n",
      "Rounded numbers: [1, 2, 4, 4, 6]\n"
     ]
    }
   ],
   "source": [
    "# Q-8\n",
    "import math\n",
    "float_numbers = [1.2, 2.5, 3.7, 4.4, 5.9]\n",
    "rounded_numbers = list(map(round, float_numbers))\n",
    "\n",
    "print(\"Original floating-point numbers:\", float_numbers)\n",
    "print(\"Rounded numbers:\", rounded_numbers)"
   ]
  },
  {
   "cell_type": "code",
   "execution_count": 22,
   "id": "0b54a646-e2fa-4e07-a271-9bd00068fcdf",
   "metadata": {},
   "outputs": [
    {
     "name": "stdout",
     "output_type": "stream",
     "text": [
      "Sum of the numbers: 15\n"
     ]
    }
   ],
   "source": [
    "# Reduce\n",
    "# Q-1\n",
    "# The reduce function is used to apply a specified function to the elements of an iterable, cumulatively, from left to\n",
    "# right, so as to reduce the iterable to a single value. To use reduce, you need to import it from the functools module.\n",
    "from functools import reduce\n",
    "def add(x, y):\n",
    "    return x + y\n",
    "\n",
    "numbers = [1, 2, 3, 4, 5]\n",
    "result = reduce(add, numbers)\n",
    "\n",
    "print(\"Sum of the numbers:\", result)"
   ]
  },
  {
   "cell_type": "code",
   "execution_count": 23,
   "id": "79c78c02-c879-4773-8a97-bd18d4fb5f1d",
   "metadata": {},
   "outputs": [
    {
     "name": "stdout",
     "output_type": "stream",
     "text": [
      "Product of the numbers: 120\n"
     ]
    }
   ],
   "source": [
    "# Q-2\n",
    "def multiply(x, y):\n",
    "    return x * y\n",
    "\n",
    "numbers = [1, 2, 3, 4, 5]\n",
    "product = reduce(multiply, numbers)\n",
    "\n",
    "print(\"Product of the numbers:\", product)"
   ]
  },
  {
   "cell_type": "code",
   "execution_count": 26,
   "id": "6a9b9d09-9c6b-4aaa-ad96-e98e68ce478a",
   "metadata": {},
   "outputs": [
    {
     "name": "stdout",
     "output_type": "stream",
     "text": [
      "Maximum number: 22\n"
     ]
    }
   ],
   "source": [
    "# Q-3\n",
    "numbers = [16, 11, 7, 9, 22, 18]\n",
    "max_number = reduce(lambda x, y: x if x > y else y, numbers)\n",
    "\n",
    "print(\"Maximum number:\", max_number)"
   ]
  },
  {
   "cell_type": "code",
   "execution_count": 27,
   "id": "b0dd334d-3500-411f-9140-c34f6f597a87",
   "metadata": {},
   "outputs": [
    {
     "name": "stdout",
     "output_type": "stream",
     "text": [
      "Concatenated string: Rahul kumar\n"
     ]
    }
   ],
   "source": [
    "# Q-4\n",
    "strings = [\"Rahul\", \" \", \"kumar\"]\n",
    "concatenated_string = reduce(lambda x, y: x + y, strings)\n",
    "\n",
    "print(\"Concatenated string:\", concatenated_string)"
   ]
  },
  {
   "cell_type": "code",
   "execution_count": 28,
   "id": "62242b27-472f-4653-93ec-50759d171023",
   "metadata": {},
   "outputs": [
    {
     "name": "stdout",
     "output_type": "stream",
     "text": [
      "Factorial of 5: 120\n"
     ]
    }
   ],
   "source": [
    "# Q-5\n",
    "def multiply(x, y):\n",
    "    return x * y\n",
    "\n",
    "number = 5\n",
    "factorial = reduce(multiply, range(1, number + 1))\n",
    "\n",
    "print(f\"Factorial of {number}:\", factorial)"
   ]
  },
  {
   "cell_type": "code",
   "execution_count": 29,
   "id": "f4d14bc4-5552-4fa4-b8db-4e0749a5cb11",
   "metadata": {},
   "outputs": [
    {
     "name": "stdout",
     "output_type": "stream",
     "text": [
      "GCD of the numbers: 16\n"
     ]
    }
   ],
   "source": [
    "# Q-6\n",
    "numbers = [48, 64, 16, 32]\n",
    "gcd_result = reduce(math.gcd, numbers)\n",
    "\n",
    "print(\"GCD of the numbers:\", gcd_result)"
   ]
  },
  {
   "cell_type": "code",
   "execution_count": 31,
   "id": "9ac1d762-7fa0-4be3-98c4-4f18ebac0e0d",
   "metadata": {},
   "outputs": [
    {
     "name": "stdout",
     "output_type": "stream",
     "text": [
      "Sum of digits of the number is : 28\n"
     ]
    }
   ],
   "source": [
    "# Q-7\n",
    "def add(x, y):\n",
    "    return x + y\n",
    "\n",
    "number = 27658\n",
    "digits = [int(digit) for digit in str(number)]\n",
    "sum_of_digits = reduce(add, digits)\n",
    "\n",
    "print(\"Sum of digits of the number is :\",sum_of_digits)"
   ]
  },
  {
   "cell_type": "code",
   "execution_count": 36,
   "id": "5a0fa63a-deb5-470e-92bf-1bfb781457cc",
   "metadata": {},
   "outputs": [],
   "source": [
    "# Filter\n",
    "# Q-1\n",
    "# The filter function is used to filter elements from an iterable (such as a list, tuple, or string)\n",
    "# based on a function that returns either True or False. \n",
    "# Only the elements for which the function returns True are included in the output iterable."
   ]
  },
  {
   "cell_type": "code",
   "execution_count": 37,
   "id": "2f19004f-3ef0-490f-a36f-4aa6fc103399",
   "metadata": {},
   "outputs": [
    {
     "name": "stdout",
     "output_type": "stream",
     "text": [
      "Even numbers: [2, 4, 6, 8, 10]\n"
     ]
    }
   ],
   "source": [
    "# Q-2\n",
    "def is_even(number):\n",
    "    return number % 2 == 0\n",
    "numbers = [1, 2, 3, 4, 5, 6, 7, 8, 9, 10]\n",
    "even_numbers = list(filter(is_even, numbers))\n",
    "\n",
    "print(\"Even numbers:\", even_numbers)"
   ]
  },
  {
   "cell_type": "code",
   "execution_count": 40,
   "id": "7606e7ce-1142-45b6-b186-e281b54851e1",
   "metadata": {},
   "outputs": [
    {
     "name": "stdout",
     "output_type": "stream",
     "text": [
      "Names starting with 'J': ['Jai']\n"
     ]
    }
   ],
   "source": [
    "# Q-3\n",
    "def starts_with_letter(name, letter):\n",
    "    return name.startswith(letter)\n",
    "\n",
    "names = [\"Rahul\", \"Jai\", \"Kunal\", \"David\", \"Pwskills\"]\n",
    "letter = 'J'\n",
    "filtered_names = list(filter(lambda name: starts_with_letter(name, letter), names))\n",
    "\n",
    "print(f\"Names starting with '{letter}':\", filtered_names)"
   ]
  },
  {
   "cell_type": "code",
   "execution_count": 45,
   "id": "26e6a5d7-e2e8-4dd7-82a5-0e8b245b59ad",
   "metadata": {},
   "outputs": [
    {
     "name": "stdout",
     "output_type": "stream",
     "text": [
      "Prime numbers: [2, 3, 5, 7, 11, 13, 17, 19]\n"
     ]
    }
   ],
   "source": [
    "# Q-4\n",
    "def is_prime(number):\n",
    "    if number < 2:\n",
    "        return False\n",
    "    for i in range(2, int(number**0.5) + 1):\n",
    "        if number % i == 0:\n",
    "            return False\n",
    "    return True\n",
    "\n",
    "numbers = [2, 3, 4, 5, 6, 7, 8, 9, 10, 11, 12, 13, 14, 15, 16, 17, 18, 19, 20]\n",
    "prime_numbers = list(filter(is_prime, numbers))\n",
    "\n",
    "print(\"Prime numbers:\", prime_numbers)"
   ]
  },
  {
   "cell_type": "code",
   "execution_count": 48,
   "id": "13f875e0-6da8-4a0d-981d-cfbc1fb30785",
   "metadata": {},
   "outputs": [
    {
     "name": "stdout",
     "output_type": "stream",
     "text": [
      "Values without None: [1, 2, 3, 4, 5]\n"
     ]
    }
   ],
   "source": [
    "# Q-5\n",
    "values = [1, None, 2, None, 3, 4, None, 5]\n",
    "filtered_values = list(filter(None, values))\n",
    "\n",
    "print(\"Values without None:\", filtered_values)"
   ]
  },
  {
   "cell_type": "code",
   "execution_count": 50,
   "id": "ae82b31c-bb2e-4bc3-884a-7110305fdc7f",
   "metadata": {},
   "outputs": [
    {
     "name": "stdout",
     "output_type": "stream",
     "text": [
      "Words longer than 4 characters: ['Rahul', 'Kunal', 'Pwskills']\n"
     ]
    }
   ],
   "source": [
    "# Q-6\n",
    "def longer_than(word, length):\n",
    "    return len(word) > length\n",
    "\n",
    "words = [\"Rahul\", \"Jai\", \"Kunal\", \"Roy\", \"Pwskills\"]\n",
    "length = 4\n",
    "filtered_words = list(filter(lambda word: longer_than(word, length), words))\n",
    "\n",
    "print(f\"Words longer than {length} characters:\", filtered_words)"
   ]
  },
  {
   "cell_type": "code",
   "execution_count": 51,
   "id": "198be98a-eb5c-434c-8593-4428274b6c3f",
   "metadata": {},
   "outputs": [
    {
     "name": "stdout",
     "output_type": "stream",
     "text": [
      "Numbers greater than 15: [16, 21, 30, 42]\n"
     ]
    }
   ],
   "source": [
    "# Q-7\n",
    "def greater_than(number, threshold):\n",
    "    return number > threshold\n",
    "\n",
    "numbers = [1, 5, 8, 12, 16, 21, 30, 42]\n",
    "threshold = 15\n",
    "filtered_numbers = list(filter(lambda number: greater_than(number, threshold), numbers))\n",
    "\n",
    "print(f\"Numbers greater than {threshold}:\", filtered_numbers)"
   ]
  },
  {
   "cell_type": "code",
   "execution_count": 52,
   "id": "80ebdbfa-d38b-422b-a2fb-45fa08fac41f",
   "metadata": {},
   "outputs": [],
   "source": [
    "# Recursion\n",
    "# Q-1\n",
    "# Recursion and Iteration are two important concepts of programming where we need to repetitively do certain operations\n",
    "# until the given condition is not met. In recursion, the function calls itself in its body to solve the problem,\n",
    "# typically breaking into smaller and more manageable sub-problems.\n",
    "# whereas Iteration is a technique that repetitively executes a code block until the condition is unmet."
   ]
  },
  {
   "cell_type": "code",
   "execution_count": 55,
   "id": "c53b8b75-a0da-4b00-843b-ebbc286e6126",
   "metadata": {},
   "outputs": [
    {
     "name": "stdout",
     "output_type": "stream",
     "text": [
      "Facrotial of given no. is : 120\n"
     ]
    }
   ],
   "source": [
    "# Q-2\n",
    "def factorial(n):\n",
    "    if n == 0:\n",
    "        return 1\n",
    "    else:\n",
    "        return n * factorial(n-1)\n",
    "\n",
    "print(\"Facrotial of given no. is :\",factorial(5))"
   ]
  },
  {
   "cell_type": "code",
   "execution_count": 56,
   "id": "cf03939f-8528-47b6-8d91-fab5be9a8a39",
   "metadata": {},
   "outputs": [
    {
     "name": "stdout",
     "output_type": "stream",
     "text": [
      "Fibonacci of given no. is : 21\n"
     ]
    }
   ],
   "source": [
    "# Q-3\n",
    "def fibonacci(n):\n",
    "    if n <= 0:\n",
    "        return \"Input should be a positive integer.\"\n",
    "    elif n == 1:\n",
    "        return 0\n",
    "    elif n == 2:\n",
    "        return 1\n",
    "    else:\n",
    "        return fibonacci(n-1) + fibonacci(n-2)\n",
    "\n",
    "n = 9\n",
    "print(\"Fibonacci of given no. is :\",fibonacci(n))"
   ]
  },
  {
   "cell_type": "code",
   "execution_count": 57,
   "id": "3a399108-1f0f-4f00-a04b-030979ecc1ae",
   "metadata": {},
   "outputs": [
    {
     "name": "stdout",
     "output_type": "stream",
     "text": [
      "Sum of all the elements in the list is : 15\n"
     ]
    }
   ],
   "source": [
    "# Q-4\n",
    "def sum_list(lst):\n",
    "    if len(lst) == 0:\n",
    "        return 0\n",
    "    else:\n",
    "        return lst[0] + sum_list(lst[1:])\n",
    "\n",
    "numbers = [1, 2, 3, 4, 5]\n",
    "print(\"Sum of all the elements in the list is :\",sum_list(numbers))"
   ]
  },
  {
   "cell_type": "code",
   "execution_count": 59,
   "id": "fde113fa-603d-43c7-a024-96d451dc53ef",
   "metadata": {},
   "outputs": [],
   "source": [
    "# Q-5\n",
    "# To prevent a recursive function from running indefinitely and causing a stack overflow error,\n",
    "# you can implement the following strategies:\n",
    "#Base Case: Ensure that the function has a clear base case that stops the recursion.\n",
    "# This base case should be defined such that it will eventually be reached, preventing infinite recursion.\n",
    "#Memoization: Use memoization to store previously calculated results.\n",
    "# This can help by avoiding redundant calculations and reducing the number of recursive calls.\n",
    "#Iterative Approach: Consider using an iterative approach instead of recursion.\n",
    "#This can be more efficient and less prone to stack overflow errors.\n",
    "#Recursion Limit: Increase the recursion limit if necessary. \n",
    "#However, this should be done with caution, as excessive recursion can still cause performance issues."
   ]
  },
  {
   "cell_type": "code",
   "execution_count": 64,
   "id": "bc95c780-0250-4d7c-badf-4b621513a8d4",
   "metadata": {},
   "outputs": [
    {
     "name": "stdout",
     "output_type": "stream",
     "text": [
      "Greatest common divisor is : 6\n"
     ]
    }
   ],
   "source": [
    "# Q-6\n",
    "def gcd(a, b):\n",
    "    if b == 0:\n",
    "        return a\n",
    "    else:\n",
    "        return gcd(b, a % b)\n",
    "\n",
    "print(\"Greatest common divisor is :\",(gcd(24, 18)))"
   ]
  },
  {
   "cell_type": "code",
   "execution_count": 67,
   "id": "813be001-6d2b-4476-8f03-3d48a73cf3f2",
   "metadata": {},
   "outputs": [
    {
     "name": "stdout",
     "output_type": "stream",
     "text": [
      "Reversed string is : ylevol\n"
     ]
    }
   ],
   "source": [
    "# Q-7\n",
    "def reverse_string(s):\n",
    "    if len(s) == 0:\n",
    "        return s\n",
    "    else:\n",
    "        return reverse_string(s[1:]) + s[0]\n",
    "    \n",
    "print(\"Reversed string is :\",(reverse_string(\"lovely\")))"
   ]
  },
  {
   "cell_type": "code",
   "execution_count": 71,
   "id": "e57fc60b-a0e0-4d33-8e26-a527be1dfaf4",
   "metadata": {},
   "outputs": [
    {
     "name": "stdout",
     "output_type": "stream",
     "text": [
      "Power of the number is : 512\n"
     ]
    }
   ],
   "source": [
    "# Q-8\n",
    "def power(x, n):\n",
    "    if n == 0:\n",
    "        return 1\n",
    "    elif n % 2 == 0:\n",
    "        return power(x * x, n // 2)\n",
    "    else:\n",
    "        return x * power(x * x, n // 2)\n",
    "\n",
    "print(\"Power of the number is :\",power(8,3))"
   ]
  },
  {
   "cell_type": "code",
   "execution_count": 73,
   "id": "7f38c69e-0896-4536-9243-ac62c95d6b37",
   "metadata": {},
   "outputs": [
    {
     "name": "stdout",
     "output_type": "stream",
     "text": [
      "Palindrome is true or false : False\n"
     ]
    }
   ],
   "source": [
    "# Q-10\n",
    "def is_palindrome(s):\n",
    "    s = ''.join(char for char in s.lower() if char.isalnum())\n",
    "    \n",
    "    if len(s) <= 1:\n",
    "        return True\n",
    "    \n",
    "    if s[0] == s[-1]:\n",
    "        return is_palindrome(s[1:-1])\n",
    "    else:\n",
    "        return False\n",
    "\n",
    "print(\"Palindrome is true or false :\",is_palindrome(\"Rahul\"))"
   ]
  },
  {
   "cell_type": "code",
   "execution_count": 74,
   "id": "a44333ac-16e0-44b1-96b2-274eb5617216",
   "metadata": {},
   "outputs": [
    {
     "name": "stdout",
     "output_type": "stream",
     "text": [
      "Possible combinations are : [[1, 2], [1, 3], [2, 3]]\n"
     ]
    }
   ],
   "source": [
    "# Q-11\n",
    "def combinations(elements, n):\n",
    "    if n == 0:\n",
    "        return [[]]\n",
    "    \n",
    "    combos = []\n",
    "    for i in range(len(elements)):\n",
    "        element = elements[i]\n",
    "        remaining_elements = elements[i+1:]\n",
    "        \n",
    "        for combo in combinations(remaining_elements, n-1):\n",
    "            combos.append([element] + combo)\n",
    "    \n",
    "    return combos\n",
    "\n",
    "print(\"Possible combinations are :\",combinations([1, 2, 3], 2))"
   ]
  },
  {
   "cell_type": "code",
   "execution_count": null,
   "id": "c68e4826-0871-4dea-a2bc-ef391d7ea4c9",
   "metadata": {},
   "outputs": [],
   "source": []
  }
 ],
 "metadata": {
  "kernelspec": {
   "display_name": "Python 3 (ipykernel)",
   "language": "python",
   "name": "python3"
  },
  "language_info": {
   "codemirror_mode": {
    "name": "ipython",
    "version": 3
   },
   "file_extension": ".py",
   "mimetype": "text/x-python",
   "name": "python",
   "nbconvert_exporter": "python",
   "pygments_lexer": "ipython3",
   "version": "3.10.8"
  }
 },
 "nbformat": 4,
 "nbformat_minor": 5
}
