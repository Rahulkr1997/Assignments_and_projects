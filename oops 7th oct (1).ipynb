{
 "cells": [
  {
   "cell_type": "code",
   "execution_count": 9,
   "id": "8b6a7b1a-3ff5-4b22-be3e-d3b2d7aa7e3a",
   "metadata": {},
   "outputs": [],
   "source": [
    "class a :\n",
    "    \n",
    "    def test(self):\n",
    "        print(\"this test method is a part of class a\")\n",
    "        \n",
    "    def test1(self):\n",
    "        print(\"this is test1 from class a \")"
   ]
  },
  {
   "cell_type": "code",
   "execution_count": 10,
   "id": "8e4d306f-fdb4-47a0-a93d-597f5b21d30b",
   "metadata": {},
   "outputs": [],
   "source": [
    "obj_a = a()"
   ]
  },
  {
   "cell_type": "code",
   "execution_count": 11,
   "id": "81ef5597-cf96-4ed9-a4f6-21e2e93aca70",
   "metadata": {},
   "outputs": [
    {
     "name": "stdout",
     "output_type": "stream",
     "text": [
      "this test method is a part of class a\n"
     ]
    }
   ],
   "source": [
    "obj_a.test()"
   ]
  },
  {
   "cell_type": "code",
   "execution_count": 16,
   "id": "11ee63d6-433d-48dc-ada0-5dd6771310ba",
   "metadata": {},
   "outputs": [],
   "source": [
    "class b(a) :\n",
    "    def test1b(self):\n",
    "        print(\"this is a part of class b \")"
   ]
  },
  {
   "cell_type": "code",
   "execution_count": 17,
   "id": "badaedfe-57d1-43c6-9193-e5afb0f31dbc",
   "metadata": {},
   "outputs": [],
   "source": [
    "obj_b = b()"
   ]
  },
  {
   "cell_type": "code",
   "execution_count": 18,
   "id": "3ce19f61-ba8e-4050-9d4d-614adfd964c5",
   "metadata": {},
   "outputs": [
    {
     "name": "stdout",
     "output_type": "stream",
     "text": [
      "this test method is a part of class a\n"
     ]
    }
   ],
   "source": [
    "obj_b.test()"
   ]
  },
  {
   "cell_type": "code",
   "execution_count": 19,
   "id": "5e473fae-e094-4407-99df-16a04ab4c80a",
   "metadata": {},
   "outputs": [
    {
     "name": "stdout",
     "output_type": "stream",
     "text": [
      "this is test1 from class a \n"
     ]
    }
   ],
   "source": [
    "obj_b.test1()"
   ]
  },
  {
   "cell_type": "code",
   "execution_count": null,
   "id": "02a8f055-535f-4bc2-adc1-575445f82570",
   "metadata": {},
   "outputs": [],
   "source": [
    "obj_b."
   ]
  },
  {
   "cell_type": "code",
   "execution_count": 21,
   "id": "59361cd3-c0c4-4ddd-abac-cbe3275ade5f",
   "metadata": {},
   "outputs": [],
   "source": [
    "class lecture:\n",
    "    \n",
    "    def topic(self):\n",
    "        print(\"todays class we are discussing about inheritance condept in oops\")\n",
    "        \n",
    "    def timing(self):\n",
    "        print(\"timing for todays class is 9 AM IST\")\n",
    "        \n",
    "    def end_time(self):\n",
    "        print(\"today i will try to end class bit early\")"
   ]
  },
  {
   "cell_type": "code",
   "execution_count": 23,
   "id": "6e3dd2de-883e-4e9e-98a0-4a7089af1627",
   "metadata": {},
   "outputs": [],
   "source": [
    "class student(lecture):\n",
    "    \n",
    "    def student_details(self):\n",
    "        print(\"this class will give you a student details\")"
   ]
  },
  {
   "cell_type": "code",
   "execution_count": 24,
   "id": "c2ad2a89-0f29-4410-86c4-e33f47b4186d",
   "metadata": {},
   "outputs": [],
   "source": [
    "naval = student()"
   ]
  },
  {
   "cell_type": "code",
   "execution_count": 25,
   "id": "38c86e7f-5560-464a-b597-c88a74819f1a",
   "metadata": {},
   "outputs": [
    {
     "name": "stdout",
     "output_type": "stream",
     "text": [
      "todays class we are discussing about inheritance condept in oops\n"
     ]
    }
   ],
   "source": [
    "naval.topic()"
   ]
  },
  {
   "cell_type": "code",
   "execution_count": 26,
   "id": "02efc8a4-f995-4f85-87d2-620ccc0f61fa",
   "metadata": {},
   "outputs": [
    {
     "name": "stdout",
     "output_type": "stream",
     "text": [
      "timing for todays class is 9 AM IST\n"
     ]
    }
   ],
   "source": [
    "satish = student()\n",
    "satish.timing()"
   ]
  },
  {
   "cell_type": "code",
   "execution_count": 28,
   "id": "03932972-a58b-46e5-a3f8-ffc43c84ce53",
   "metadata": {},
   "outputs": [],
   "source": [
    "class teacher(student):\n",
    "    def details(self):\n",
    "        print(\"this will give you a details about teacher\")"
   ]
  },
  {
   "cell_type": "code",
   "execution_count": 29,
   "id": "fff36c1b-f1e9-467e-b29f-c304aa9feec9",
   "metadata": {},
   "outputs": [
    {
     "name": "stdout",
     "output_type": "stream",
     "text": [
      "timing for todays class is 9 AM IST\n"
     ]
    }
   ],
   "source": [
    "sudh = teacher()\n",
    "sudh.timing()"
   ]
  },
  {
   "cell_type": "code",
   "execution_count": 39,
   "id": "a5e8c94b-de62-4ef5-8eba-81259d83dd3d",
   "metadata": {},
   "outputs": [],
   "source": [
    "class lecture:\n",
    "    def topic(self):\n",
    "        print(\"todays class we are discussing about inheritance condept in oops\")\n",
    "        \n",
    "    def timing(self):\n",
    "        print(\"timing for todays class is 9 AM IST\")\n",
    "        \n",
    "    def end_time(self):\n",
    "        print(\"today i will try to end class bit early\")"
   ]
  },
  {
   "cell_type": "code",
   "execution_count": 40,
   "id": "2007141c-1b71-4cd4-9bed-a3cd8d851baa",
   "metadata": {},
   "outputs": [],
   "source": [
    "class student:\n",
    "    \n",
    "    def student_details(self):\n",
    "        print(\"this class will give you a student details\")\n",
    "        \n",
    "    def timing(self):\n",
    "        print(\"this is a timing fun from student class\")\n",
    "        "
   ]
  },
  {
   "cell_type": "code",
   "execution_count": 48,
   "id": "272860d3-1fac-475b-8c09-0490069224bc",
   "metadata": {},
   "outputs": [],
   "source": [
    "class teacher(lecture,student):\n",
    "    def details(self):\n",
    "        print(\"this will give you a details about teacher\")"
   ]
  },
  {
   "cell_type": "code",
   "execution_count": 49,
   "id": "f4a9ae16-f0e3-4a4a-a003-38773611cd2a",
   "metadata": {},
   "outputs": [],
   "source": [
    "krish = teacher()"
   ]
  },
  {
   "cell_type": "code",
   "execution_count": 50,
   "id": "6dc85f37-219e-4c72-927c-9aebb550fea9",
   "metadata": {},
   "outputs": [
    {
     "name": "stdout",
     "output_type": "stream",
     "text": [
      "timing for todays class is 9 AM IST\n"
     ]
    }
   ],
   "source": [
    "krish.timing()"
   ]
  },
  {
   "cell_type": "code",
   "execution_count": 37,
   "id": "8bcbac88-9172-4a31-a191-9c4b9a1c6eac",
   "metadata": {},
   "outputs": [
    {
     "name": "stdout",
     "output_type": "stream",
     "text": [
      "this class will give you a student details\n"
     ]
    }
   ],
   "source": [
    "krish.student_details()"
   ]
  },
  {
   "cell_type": "markdown",
   "id": "86b47d4f-860e-4702-83a0-0145887ab41a",
   "metadata": {},
   "source": [
    "Problem 1: Bank Account Create a class representing a bank account with attributes like account number, account holder name, and balance. Implement methods to deposit and withdraw money from the account.\n",
    "\n",
    "Problem 2: Employee Management Create a class representing an employee with attributes like employee ID, name, and salary. Implement methods to calculate the yearly bonus and display employee details.\n",
    "\n",
    "Problem 3: Vehicle Rental Create a class representing a vehicle rental system. Implement methods to rent a vehicle, return a vehicle, and display available vehicles.\n",
    "\n",
    "Problem 4: Library Catalog Create classes representing a library and a book. Implement methods to add books to the library, borrow books, and display available books.\n",
    "\n",
    "Problem 5: Product Inventory Create classes representing a product and an inventory system. Implement methods to add products to the inventory, update product quantity, and display available products.\n",
    "\n",
    "Problem 6: Shape Calculation Create a class representing a shape with attributes like length, width, and height. Implement methods to calculate the area and perimeter of the shape.\n",
    "\n",
    "Problem 7: Student Management Create a class representing a student with attributes like student ID, name, and grades. Implement methods to calculate the average grade and display student details.\n",
    "\n",
    "Problem 8: Email Management Create a class representing an email with attributes like sender, recipient, and subject. Implement methods to send an email and display email details.\n",
    "\n",
    "Problem 9: Social Media Profile Create a class representing a social media profile with attributes like username and posts. Implement methods to add posts, display posts, and search for posts by keyword.\n",
    "\n",
    "Problem 10: ToDo List Create a class representing a ToDo list with attributes like tasks and due dates. Implement methods to add tasks, mark tasks as completed, and display pending tasks."
   ]
  },
  {
   "cell_type": "code",
   "execution_count": 2,
   "id": "fef1683a-faa4-4d27-a0a6-7a742e512e9b",
   "metadata": {},
   "outputs": [
    {
     "name": "stdout",
     "output_type": "stream",
     "text": [
      "Deposited 500 into account 12345678. New balance: 1500\n",
      "Withdraw 200 from account 12345678. New balance: 1300\n",
      "Account 12345678 balance: 1300\n"
     ]
    }
   ],
   "source": [
    "# Problem 1:\n",
    "class BankAccount:\n",
    "    def __init__(self, account_number, account_holder, balance=0):\n",
    "        self.account_number = account_number\n",
    "        self.account_holder = account_holder\n",
    "        self.balance = balance\n",
    "\n",
    "    def deposit(self, amount):\n",
    "        if amount > 0:\n",
    "            self.balance += amount\n",
    "            print(f\"Deposited {amount} into account {self.account_number}. New balance: {self.balance}\")\n",
    "        else:\n",
    "            print(\"Invalid deposit amount.\")\n",
    "\n",
    "    def withdraw(self, amount):\n",
    "        if amount > 0 and self.balance >= amount:\n",
    "            self.balance -= amount\n",
    "            print(f\"Withdraw {amount} from account {self.account_number}. New balance: {self.balance}\")\n",
    "        else:\n",
    "            print(\"Insufficient funds or invalid withdrawal amount.\")\n",
    "\n",
    "    def check_balance(self):\n",
    "        print(f\"Account {self.account_number} balance: {self.balance}\")\n",
    "\n",
    "\n",
    "account = BankAccount(\"12345678\", \"Rahul\", 1000)\n",
    "\n",
    "account.deposit(500)\n",
    "\n",
    "account.withdraw(200)\n",
    "\n",
    "account.check_balance()"
   ]
  },
  {
   "cell_type": "code",
   "execution_count": 6,
   "id": "d7b737be-c8b9-482f-8ae7-efcf36611314",
   "metadata": {},
   "outputs": [
    {
     "name": "stdout",
     "output_type": "stream",
     "text": [
      "Yearly bonus for Rahul kumar: 6000.0\n",
      "Employee ID: E12345\n",
      "Name: Rahul kumar\n",
      "Salary: 60000\n"
     ]
    }
   ],
   "source": [
    "# Problem 2:\n",
    "class Employee:\n",
    "    def __init__(self, employee_id, name, salary):\n",
    "        self.employee_id = employee_id\n",
    "        self.name = name\n",
    "        self.salary = salary\n",
    "\n",
    "    def calculate_yearly_bonus(self, bonus_percentage):\n",
    "        bonus_amount = (bonus_percentage / 100) * self.salary\n",
    "        return bonus_amount\n",
    "\n",
    "    def display_employee_details(self):\n",
    "        print(f\"Employee ID: {self.employee_id}\")\n",
    "        print(f\"Name: {self.name}\")\n",
    "        print(f\"Salary: {self.salary}\")\n",
    "\n",
    "employee = Employee(\"E12345\", \"Rahul kumar\", 60000)\n",
    "bonus_percentage = 10\n",
    "bonus_amount = employee.calculate_yearly_bonus(bonus_percentage)\n",
    "print(f\"Yearly bonus for {employee.name}: {bonus_amount}\")\n",
    "\n",
    "employee.display_employee_details()"
   ]
  },
  {
   "cell_type": "code",
   "execution_count": 7,
   "id": "25bf96d3-6011-4aa1-9bf1-7b78651372ba",
   "metadata": {},
   "outputs": [
    {
     "name": "stdout",
     "output_type": "stream",
     "text": [
      "Rented vehicle: Toyota Corolla\n",
      "Available vehicles:\n",
      "Honda Civic\n",
      "Ford Mustang\n",
      "Returned vehicle: Toyota Corolla\n",
      "Available vehicles:\n",
      "Honda Civic\n",
      "Ford Mustang\n",
      "Toyota Corolla\n"
     ]
    }
   ],
   "source": [
    "# Problem 3:\n",
    "class VehicleRentalSystem:\n",
    "    def __init__(self):\n",
    "        self.available_vehicles = []\n",
    "        self.rented_vehicles = []\n",
    "\n",
    "    def add_vehicle(self, vehicle):\n",
    "        self.available_vehicles.append(vehicle)\n",
    "\n",
    "    def rent_vehicle(self, vehicle):\n",
    "        if vehicle in self.available_vehicles:\n",
    "            self.available_vehicles.remove(vehicle)\n",
    "            self.rented_vehicles.append(vehicle)\n",
    "            print(f\"Rented vehicle: {vehicle}\")\n",
    "        else:\n",
    "            print(f\"{vehicle} is not available for rent.\")\n",
    "\n",
    "    def return_vehicle(self, vehicle):\n",
    "        if vehicle in self.rented_vehicles:\n",
    "            self.rented_vehicles.remove(vehicle)\n",
    "            self.available_vehicles.append(vehicle)\n",
    "            print(f\"Returned vehicle: {vehicle}\")\n",
    "        else:\n",
    "            print(f\"{vehicle} was not rented from this system.\")\n",
    "\n",
    "    def display_available_vehicles(self):\n",
    "        print(\"Available vehicles:\")\n",
    "        for vehicle in self.available_vehicles:\n",
    "            print(vehicle)\n",
    "\n",
    "rental_system = VehicleRentalSystem()\n",
    "\n",
    "rental_system.add_vehicle(\"Toyota Corolla\")\n",
    "rental_system.add_vehicle(\"Honda Civic\")\n",
    "rental_system.add_vehicle(\"Ford Mustang\")\n",
    "\n",
    "rental_system.rent_vehicle(\"Toyota Corolla\")\n",
    "\n",
    "rental_system.display_available_vehicles()\n",
    "\n",
    "rental_system.return_vehicle(\"Toyota Corolla\")\n",
    "\n",
    "rental_system.display_available_vehicles()"
   ]
  },
  {
   "cell_type": "code",
   "execution_count": 8,
   "id": "3a144e6a-2d1c-429c-9525-8b4339e5aa43",
   "metadata": {},
   "outputs": [
    {
     "name": "stdout",
     "output_type": "stream",
     "text": [
      "Available books:\n",
      " Data science by  sudh \n",
      " AI  by  krish \n",
      "You borrowed:  Data science by  sudh \n",
      "Available books:\n",
      " AI  by  krish \n",
      "You returned:  Data science by  sudh \n",
      "Available books:\n",
      " Data science by  sudh \n",
      " AI  by  krish \n"
     ]
    }
   ],
   "source": [
    "# Problem  4:\n",
    "class Book:\n",
    "    def __init__(self, title, author):\n",
    "        self.title = title\n",
    "        self.author = author\n",
    "        self.is_available = True\n",
    "\n",
    "    def __str__(self):\n",
    "        return f\"{self.title} by {self.author}\"\n",
    "\n",
    "class Library:\n",
    "    def __init__(self):\n",
    "        self.books = []\n",
    "\n",
    "    def add_book(self, book):\n",
    "        self.books.append(book)\n",
    "\n",
    "    def borrow_book(self, book):\n",
    "        for b in self.books:\n",
    "            if b.title == book.title and b.is_available:\n",
    "                b.is_available = False\n",
    "                print(f\"You borrowed: {b}\")\n",
    "                return\n",
    "        print(f\"Sorry, {book.title} is not available.\")\n",
    "\n",
    "    def return_book(self, book):\n",
    "        for b in self.books:\n",
    "            if b.title == book.title and not b.is_available:\n",
    "                b.is_available = True\n",
    "                print(f\"You returned: {b}\")\n",
    "                return\n",
    "        print(f\"{book.title} is not from this library.\")\n",
    "\n",
    "    def display_available_books(self):\n",
    "        print(\"Available books:\")\n",
    "        for book in self.books:\n",
    "            if book.is_available:\n",
    "                print(book)\n",
    "\n",
    "# Create a library\n",
    "library = Library()\n",
    "\n",
    "# Create books\n",
    "book1 = Book(\" Data science\", \" sudh \")\n",
    "book2 = Book(\" AI \", \" krish \")\n",
    "library.add_book(book1)\n",
    "library.add_book(book2)\n",
    "\n",
    "library.display_available_books()\n",
    "library.borrow_book(book1)\n",
    "library.display_available_books()\n",
    "library.return_book(book1)\n",
    "library.display_available_books()"
   ]
  },
  {
   "cell_type": "code",
   "execution_count": 10,
   "id": "996e5385-32c3-4ed9-be04-3f09ff7c984d",
   "metadata": {},
   "outputs": [
    {
     "name": "stdout",
     "output_type": "stream",
     "text": [
      "Apple added to the inventory.\n",
      "Banana added to the inventory.\n",
      "Orange added to the inventory.\n",
      "Updated Apple quantity to 10.\n",
      "Updated Banana quantity to 15.\n",
      "Updated Orange quantity to 5.\n",
      "Current Inventory:\n",
      "Apple - Price: 0.50 - Quantity: 10\n",
      "Banana - Price: 0.25 - Quantity: 15\n",
      "Orange - Price: 0.75 - Quantity: 5\n",
      "Apple already exists in the inventory.\n"
     ]
    }
   ],
   "source": [
    "# Problem 5:\n",
    "class Product:\n",
    "    def __init__(self, name, price):\n",
    "        self.name = name\n",
    "        self.price = price\n",
    "        self.quantity = 0\n",
    "\n",
    "    def __str__(self):\n",
    "        return f\"{self.name} - Price: {self.price:.2f} - Quantity: {self.quantity}\"\n",
    "\n",
    "class Inventory:\n",
    "    def __init__(self):\n",
    "        self.products = []\n",
    "\n",
    "    def add_product(self, product):\n",
    "        for p in self.products:\n",
    "            if p.name == product.name:\n",
    "                print(f\"{product.name} already exists in the inventory.\")\n",
    "                return\n",
    "        self.products.append(product)\n",
    "        print(f\"{product.name} added to the inventory.\")\n",
    "\n",
    "    def update_quantity(self, product, quantity):\n",
    "        for p in self.products:\n",
    "            if p.name == product.name:\n",
    "                p.quantity += quantity\n",
    "                print(f\"Updated {product.name} quantity to {p.quantity}.\")\n",
    "                return\n",
    "        print(f\"{product.name} not found in the inventory.\")\n",
    "\n",
    "    def display_products(self):\n",
    "        print(\"Current Inventory:\")\n",
    "        for product in self.products:\n",
    "            print(product)\n",
    "\n",
    "inventory = Inventory()\n",
    "\n",
    "product1 = Product(\"Apple\", 0.5)\n",
    "product2 = Product(\"Banana\", 0.25)\n",
    "product3 = Product(\"Orange\", 0.75)\n",
    "\n",
    "inventory.add_product(product1)\n",
    "inventory.add_product(product2)\n",
    "inventory.add_product(product3)\n",
    "\n",
    "inventory.update_quantity(product1, 10)\n",
    "inventory.update_quantity(product2, 15)\n",
    "inventory.update_quantity(product3, 5)\n",
    "\n",
    "inventory.display_products()\n",
    "inventory.add_product(product1)"
   ]
  },
  {
   "cell_type": "code",
   "execution_count": 14,
   "id": "5a690e4a-d91d-45ca-920a-795444d0eca5",
   "metadata": {},
   "outputs": [
    {
     "name": "stdout",
     "output_type": "stream",
     "text": [
      "Rectangle area: 15\n",
      "Rectangle perimeter: 16\n",
      "Square area: 16\n",
      "Square perimeter: 16\n"
     ]
    }
   ],
   "source": [
    "# Problem 6:\n",
    "class Shape:\n",
    "    def __init__(self, length, width, height=None):\n",
    "        self.length = length\n",
    "        self.width = width\n",
    "        self.height = height\n",
    "\n",
    "    def calculate_area(self):\n",
    "        pass\n",
    "\n",
    "    def calculate_perimeter(self):\n",
    "        pass\n",
    "\n",
    "class Rectangle(Shape):\n",
    "    def calculate_area(self):\n",
    "        return self.length * self.width\n",
    "\n",
    "    def calculate_perimeter(self):\n",
    "        return 2 * (self.length + self.width)\n",
    "\n",
    "class Square(Rectangle):\n",
    "    def __init__(self, side_length):\n",
    "        super().__init__(side_length, side_length)\n",
    "\n",
    "\n",
    "rectangle = Rectangle(5, 3)\n",
    "square = Square(4)\n",
    "\n",
    "print(f\"Rectangle area: {rectangle.calculate_area()}\")\n",
    "print(f\"Rectangle perimeter: {rectangle.calculate_perimeter()}\")\n",
    "\n",
    "print(f\"Square area: {square.calculate_area()}\")\n",
    "print(f\"Square perimeter: {square.calculate_perimeter()}\")"
   ]
  },
  {
   "cell_type": "code",
   "execution_count": 17,
   "id": "830075e7-0155-42d4-9c1d-9b101119a835",
   "metadata": {},
   "outputs": [
    {
     "name": "stdout",
     "output_type": "stream",
     "text": [
      "Student ID: S12345\n",
      "Name: Rahulkr\n",
      "Grades: [90, 80, 70]\n",
      "Average Grade: 80.00\n"
     ]
    }
   ],
   "source": [
    "# Problem 7:\n",
    "class Student:\n",
    "    def __init__(self, student_id, name):\n",
    "        self.student_id = student_id\n",
    "        self.name = name\n",
    "        self.grades = []\n",
    "\n",
    "    def add_grade(self, grade):\n",
    "        self.grades.append(grade)\n",
    "\n",
    "    def calculate_average_grade(self):\n",
    "        return sum(self.grades) / len(self.grades)\n",
    "\n",
    "    def display_student_details(self):\n",
    "        print(f\"Student ID: {self.student_id}\")\n",
    "        print(f\"Name: {self.name}\")\n",
    "        print(f\"Grades: {self.grades}\")\n",
    "        print(f\"Average Grade: {self.calculate_average_grade():.2f}\")\n",
    "\n",
    "student = Student(\"S12345\", \"Rahulkr\")\n",
    "\n",
    "student.add_grade(90)\n",
    "student.add_grade(80)\n",
    "student.add_grade(70)\n",
    "\n",
    "student.display_student_details()"
   ]
  },
  {
   "cell_type": "code",
   "execution_count": 18,
   "id": "7790c4f4-3b6b-4782-8a16-a2c7a9be1394",
   "metadata": {},
   "outputs": [
    {
     "name": "stdout",
     "output_type": "stream",
     "text": [
      "Sending email...\n",
      "From: sender@example.com\n",
      "To: recipient@example.com\n",
      "Subject: Hello\n",
      "Body: This is the email body.\n",
      "Email sent successfully!\n",
      "From: sender@example.com\n",
      "To: recipient@example.com\n",
      "Subject: Hello\n",
      "Body: This is the email body.\n"
     ]
    }
   ],
   "source": [
    "# Problem 8:\n",
    "class Email:\n",
    "    def __init__(self, sender, recipient, subject, body):\n",
    "        self.sender = sender\n",
    "        self.recipient = recipient\n",
    "        self.subject = subject\n",
    "        self.body = body\n",
    "\n",
    "    def send_email(self):\n",
    "        print(\"Sending email...\")\n",
    "        print(f\"From: {self.sender}\")\n",
    "        print(f\"To: {self.recipient}\")\n",
    "        print(f\"Subject: {self.subject}\")\n",
    "        print(f\"Body: {self.body}\")\n",
    "        print(\"Email sent successfully!\")\n",
    "\n",
    "    def display_email_details(self):\n",
    "        print(f\"From: {self.sender}\")\n",
    "        print(f\"To: {self.recipient}\")\n",
    "        print(f\"Subject: {self.subject}\")\n",
    "        print(f\"Body: {self.body}\")\n",
    "\n",
    "email = Email(\"sender@example.com\", \"recipient@example.com\", \"Hello\", \"This is the email body.\")\n",
    "\n",
    "email.send_email()\n",
    "email.display_email_details()"
   ]
  },
  {
   "cell_type": "code",
   "execution_count": 19,
   "id": "10f5c1e9-50c9-4e6b-97f5-e8d042a45944",
   "metadata": {},
   "outputs": [
    {
     "name": "stdout",
     "output_type": "stream",
     "text": [
      "Rahul kumar's Posts:\n",
      "Enjoying a sunny day!\n",
      "Just had a delicious lunch.\n",
      "Working on a new project.\n",
      "Searching for 'lunch' in Rahul kumar's posts:\n",
      "Just had a delicious lunch.\n",
      "Searching for 'project' in Rahul kumar's posts:\n",
      "Working on a new project.\n"
     ]
    }
   ],
   "source": [
    "# Problem 9:\n",
    "class Post:\n",
    "    def __init__(self, content):\n",
    "        self.content = content\n",
    "\n",
    "    def __str__(self):\n",
    "        return self.content\n",
    "\n",
    "class Profile:\n",
    "    def __init__(self, username):\n",
    "        self.username = username\n",
    "        self.posts = []\n",
    "\n",
    "    def add_post(self, post):\n",
    "        self.posts.append(post)\n",
    "\n",
    "    def display_posts(self):\n",
    "        print(f\"{self.username}'s Posts:\")\n",
    "        for post in self.posts:\n",
    "            print(post)\n",
    "\n",
    "    def search_posts(self, keyword):\n",
    "        print(f\"Searching for '{keyword}' in {self.username}'s posts:\")\n",
    "        for post in self.posts:\n",
    "            if keyword.lower() in post.content.lower():\n",
    "                print(post)\n",
    "\n",
    "profile = Profile(\"Rahul kumar\")\n",
    "\n",
    "post1 = Post(\"Enjoying a sunny day!\")\n",
    "post2 = Post(\"Just had a delicious lunch.\")\n",
    "post3 = Post(\"Working on a new project.\")\n",
    "\n",
    "profile.add_post(post1)\n",
    "profile.add_post(post2)\n",
    "profile.add_post(post3)\n",
    "\n",
    "profile.display_posts()\n",
    "\n",
    "profile.search_posts(\"lunch\")\n",
    "profile.search_posts(\"project\")"
   ]
  },
  {
   "cell_type": "code",
   "execution_count": 20,
   "id": "a4177ffa-29dc-4310-a0a4-b0d2646b3978",
   "metadata": {},
   "outputs": [
    {
     "name": "stdout",
     "output_type": "stream",
     "text": [
      "Pending Tasks:\n",
      "Finish report (Due: 2022-06-30) - Pending\n",
      "Buy groceries (Due: 2022-06-25) - Pending\n",
      "Call client (Due: 2022-07-05) - Pending\n",
      "Task 'Buy groceries' marked as completed.\n",
      "Pending Tasks:\n",
      "Finish report (Due: 2022-06-30) - Pending\n",
      "Call client (Due: 2022-07-05) - Pending\n"
     ]
    }
   ],
   "source": [
    "class Task:\n",
    "    def __init__(self, description, due_date):\n",
    "        self.description = description\n",
    "        self.due_date = due_date\n",
    "        self.completed = False\n",
    "\n",
    "    def __str__(self):\n",
    "        status = \"Completed\" if self.completed else \"Pending\"\n",
    "        return f\"{self.description} (Due: {self.due_date}) - {status}\"\n",
    "\n",
    "class ToDoList:\n",
    "    def __init__(self):\n",
    "        self.tasks = []\n",
    "\n",
    "    def add_task(self, task):\n",
    "        self.tasks.append(task)\n",
    "\n",
    "    def mark_task_as_completed(self, description):\n",
    "        for task in self.tasks:\n",
    "            if task.description == description:\n",
    "                task.completed = True\n",
    "                print(f\"Task '{description}' marked as completed.\")\n",
    "                return\n",
    "        print(f\"Task '{description}' not found in the ToDo list.\")\n",
    "\n",
    "    def display_pending_tasks(self):\n",
    "        print(\"Pending Tasks:\")\n",
    "        for task in self.tasks:\n",
    "            if not task.completed:\n",
    "                print(task)\n",
    "\n",
    "todo_list = ToDoList()\n",
    "\n",
    "task1 = Task(\"Finish report\", \"2022-06-30\")\n",
    "task2 = Task(\"Buy groceries\", \"2022-06-25\")\n",
    "task3 = Task(\"Call client\", \"2022-07-05\")\n",
    "\n",
    "todo_list.add_task(task1)\n",
    "todo_list.add_task(task2)\n",
    "todo_list.add_task(task3)\n",
    "\n",
    "todo_list.display_pending_tasks()\n",
    "todo_list.mark_task_as_completed(\"Buy groceries\")\n",
    "\n",
    "todo_list.display_pending_tasks()"
   ]
  },
  {
   "cell_type": "code",
   "execution_count": null,
   "id": "1a747c50-a017-4b8c-a04a-479b9440a0b1",
   "metadata": {},
   "outputs": [],
   "source": []
  }
 ],
 "metadata": {
  "kernelspec": {
   "display_name": "Python 3 (ipykernel)",
   "language": "python",
   "name": "python3"
  },
  "language_info": {
   "codemirror_mode": {
    "name": "ipython",
    "version": 3
   },
   "file_extension": ".py",
   "mimetype": "text/x-python",
   "name": "python",
   "nbconvert_exporter": "python",
   "pygments_lexer": "ipython3",
   "version": "3.10.8"
  }
 },
 "nbformat": 4,
 "nbformat_minor": 5
}
