{
 "cells": [
  {
   "cell_type": "code",
   "execution_count": 2,
   "id": "fecdc4bc-0d3f-4dc0-929f-86d8321a4a42",
   "metadata": {},
   "outputs": [
    {
     "name": "stdout",
     "output_type": "stream",
     "text": [
      "ramuk_luhaR\n"
     ]
    }
   ],
   "source": [
    "# String Based Assignment Problem\n",
    "# Q-1\n",
    "x = \"Rahul_kumar\"\n",
    "y = x[::-1]\n",
    "print (y)"
   ]
  },
  {
   "cell_type": "code",
   "execution_count": 5,
   "id": "6410fea4-8c80-42ca-8fc3-c8b5963276f2",
   "metadata": {},
   "outputs": [
    {
     "name": "stdout",
     "output_type": "stream",
     "text": [
      "Yes\n"
     ]
    }
   ],
   "source": [
    "# Q-2\n",
    "def Palindromecheck(x):\n",
    "\treturn x == x[::-1]\n",
    "x = \"AbbA\"\n",
    "ans = isPalindrome(x)\n",
    "if ans:\n",
    "\tprint(\"Yes\")\n",
    "else:\n",
    "\tprint(\"No\")"
   ]
  },
  {
   "cell_type": "code",
   "execution_count": 7,
   "id": "29541b5c-0e6c-4123-903b-c436e7ca922f",
   "metadata": {},
   "outputs": [
    {
     "name": "stdout",
     "output_type": "stream",
     "text": [
      "HELLO RAHUL\n"
     ]
    }
   ],
   "source": [
    "# Q-3\n",
    "txt = \"Hello Rahul\"\n",
    "\n",
    "x = txt.upper()\n",
    "\n",
    "print(x)"
   ]
  },
  {
   "cell_type": "code",
   "execution_count": 8,
   "id": "7f7e789e-92d8-42ca-b495-b501cbee2e3f",
   "metadata": {},
   "outputs": [
    {
     "name": "stdout",
     "output_type": "stream",
     "text": [
      "hello rahul\n"
     ]
    }
   ],
   "source": [
    "# Q-4\n",
    "txt = \"Hello Rahul\"\n",
    "\n",
    "x = txt.lower()\n",
    "\n",
    "print(x)"
   ]
  },
  {
   "cell_type": "code",
   "execution_count": 10,
   "id": "cfaa694c-45fd-4d46-ae2d-7b29fdf3faf8",
   "metadata": {},
   "outputs": [
    {
     "name": "stdout",
     "output_type": "stream",
     "text": [
      "4\n"
     ]
    }
   ],
   "source": [
    "# Q-5\n",
    "x = \"Rahul_kumar\"\n",
    "vowels = \"aeiouAEIOU\"\n",
    "\n",
    "count = sum(x.count(vowel) for vowel in vowels)\n",
    "print(count)"
   ]
  },
  {
   "cell_type": "code",
   "execution_count": 20,
   "id": "f199f6f1-4d1e-44ce-a891-59b044d58eee",
   "metadata": {},
   "outputs": [],
   "source": [
    "# Q-6\n",
    "def count_consonants(x):\n",
    "    consonants = \"bcdfghjklmnpqrstvwxyzBCDFGHJKLMNPQRSTVWXYZ\"\n",
    "    count = 0\n",
    "    for char in x:\n",
    "        if char in consonants:\n",
    "            count += 1\n",
    "    return count"
   ]
  },
  {
   "cell_type": "code",
   "execution_count": 25,
   "id": "25932ff7-2451-4483-bddf-ee76a48e9053",
   "metadata": {},
   "outputs": [
    {
     "data": {
      "text/plain": [
       "6"
      ]
     },
     "execution_count": 25,
     "metadata": {},
     "output_type": "execute_result"
    }
   ],
   "source": [
    "count_consonants(\"Rahul kumar\")"
   ]
  },
  {
   "cell_type": "code",
   "execution_count": 34,
   "id": "f11d67a1-6bf2-4ea2-b0ac-17b5cca8c35c",
   "metadata": {},
   "outputs": [
    {
     "name": "stdout",
     "output_type": "stream",
     "text": [
      "Rahulkumar\n"
     ]
    }
   ],
   "source": [
    "# Q-7\n",
    "# Python3 code to remove whitespace\n",
    "def remove(x):\n",
    "\treturn x.replace(\" \", \"\")\n",
    "\n",
    "x = \" R a hul ku m a r \"\n",
    "print(remove(x))"
   ]
  },
  {
   "cell_type": "code",
   "execution_count": 36,
   "id": "699fe597-abf0-4495-8989-e4ecb23f2f58",
   "metadata": {},
   "outputs": [
    {
     "name": "stdin",
     "output_type": "stream",
     "text": [
      "Enter string: hello rahul\n"
     ]
    },
    {
     "name": "stdout",
     "output_type": "stream",
     "text": [
      "Length of the string is:\n",
      "11\n"
     ]
    }
   ],
   "source": [
    "# Q-8\n",
    "string=input(\"Enter string:\")\n",
    "count=0\n",
    "for i in string:\n",
    "      count=count+1\n",
    "print(\"Length of the string is:\")\n",
    "print(count)"
   ]
  },
  {
   "cell_type": "code",
   "execution_count": 42,
   "id": "d7ff18c1-20ab-4011-838a-8c61b97d2e28",
   "metadata": {},
   "outputs": [
    {
     "name": "stdout",
     "output_type": "stream",
     "text": [
      "\"I am learning Python\" contains \"Python\" = True\n",
      "\"I am learning Python\" contains \"Java\" = False\n",
      "\"I am learning Python\" contains \"Python\"\n"
     ]
    }
   ],
   "source": [
    "# Q-9\n",
    "str1 = 'I am learning Python'\n",
    "\n",
    "str2 = 'Python'\n",
    "\n",
    "str3 = 'Java'\n",
    "\n",
    "print(f'\"{str1}\" contains \"{str2}\" = {str2 in str1}')\n",
    "print(f'\"{str1}\" contains \"{str3}\" = {str3 in str1}')\n",
    "if str2 in str1:\n",
    "    print(f'\"{str1}\" contains \"{str2}\"')\n",
    "else:\n",
    "    print(f'\"{str1}\" does not contain \"{str2}\"')"
   ]
  },
  {
   "cell_type": "code",
   "execution_count": 47,
   "id": "452266b6-64fd-4660-a837-579af6fd4151",
   "metadata": {},
   "outputs": [
    {
     "name": "stdout",
     "output_type": "stream",
     "text": [
      "This is the old string\n",
      "This is the new string\n"
     ]
    }
   ],
   "source": [
    "# Q-10\n",
    "string_1 = \"This is the old string\"\n",
    "string_2 = string_1.replace(\"old\",\"new\")\n",
    "print(string_1)\n",
    "print(string_2)"
   ]
  },
  {
   "cell_type": "code",
   "execution_count": 52,
   "id": "e30c87d5-45fc-4df7-9881-1537ce68af31",
   "metadata": {},
   "outputs": [
    {
     "name": "stdout",
     "output_type": "stream",
     "text": [
      "3\n"
     ]
    }
   ],
   "source": [
    "# Q-11\n",
    "word = \"rahul\"\n",
    "str1 = \"rahul name is rahul kumar rahul\"\n",
    "\n",
    "count = str1.count(word)\n",
    "print(count)"
   ]
  },
  {
   "cell_type": "code",
   "execution_count": 57,
   "id": "d5dd5ed1-c870-4742-9fba-c79d21378795",
   "metadata": {},
   "outputs": [
    {
     "name": "stdout",
     "output_type": "stream",
     "text": [
      "The original string is : my name is rahul kumar\n",
      "The index of first element occurrence: 17\n"
     ]
    }
   ],
   "source": [
    "# Q-12\n",
    "test_str = \"my name is rahul kumar\"\n",
    "\n",
    "print (\"The original string is : \" + str(test_str)) \n",
    "\n",
    "find = test_str.rfind('kumar') \n",
    "\n",
    "print (\"The index of first element occurrence: \" + str(find))"
   ]
  },
  {
   "cell_type": "code",
   "execution_count": 62,
   "id": "0baa2e8d-30e6-410c-93e2-1717679e3647",
   "metadata": {},
   "outputs": [
    {
     "name": "stdout",
     "output_type": "stream",
     "text": [
      "The original string : pw is best for skills and also best for Learning\n",
      "Index of last occurrence of substring is : 31\n"
     ]
    }
   ],
   "source": [
    "# Q-13\n",
    "test_string = \"pw is best for skills and also best for Learning\"\n",
    "\n",
    "word = \"best\"\n",
    "\n",
    "print(\"The original string : \" + str(test_string))\n",
    "\n",
    "find = test_string.rfind(word)\n",
    "\n",
    "print(\"Index of last occurrence of substring is : \" + str(find))"
   ]
  },
  {
   "cell_type": "code",
   "execution_count": 68,
   "id": "375b3e06-647d-4aa1-9098-e584e6bfefa2",
   "metadata": {},
   "outputs": [
    {
     "name": "stdout",
     "output_type": "stream",
     "text": [
      "List of words: ['my', 'name', 'is', 'rahul', 'kumar', 'rajak']\n"
     ]
    }
   ],
   "source": [
    "# Q-14\n",
    "def split_into_words(x):\n",
    "    return x.split()\n",
    "\n",
    "input_string = \"my name is rahul kumar rajak\"\n",
    "words_list = split_into_words(input_string)\n",
    "print(\"List of words:\", words_list)"
   ]
  },
  {
   "cell_type": "code",
   "execution_count": 70,
   "id": "6dd9808a-b6a8-40fa-83ab-f6cffb509a58",
   "metadata": {},
   "outputs": [
    {
     "name": "stdout",
     "output_type": "stream",
     "text": [
      "Joined string: my name is rahul kumar\n"
     ]
    }
   ],
   "source": [
    "# Q-15\n",
    "def join_words(words_list):\n",
    "    return \" \".join(words_list)\n",
    "\n",
    "words_list = [\"my\", \"name\", \"is\", \"rahul\", \"kumar\"]\n",
    "joined_string = join_words(words_list)\n",
    "print(\"Joined string:\", joined_string)"
   ]
  },
  {
   "cell_type": "code",
   "execution_count": 72,
   "id": "8fb59a86-7828-4030-97ae-05be22e7489c",
   "metadata": {},
   "outputs": [
    {
     "name": "stdout",
     "output_type": "stream",
     "text": [
      "Modified string: my_name_is_rahul_kumar\n"
     ]
    }
   ],
   "source": [
    "# Q-16\n",
    "def replace_spaces_with_underscores(string):\n",
    "    return string.replace(\" \", \"_\")\n",
    "\n",
    "input_string = \"my name is rahul kumar\"\n",
    "modified_string = replace_spaces_with_underscores(input_string)\n",
    "print(\"Modified string:\", modified_string)"
   ]
  },
  {
   "cell_type": "code",
   "execution_count": 81,
   "id": "5540ec7d-4fb0-4e7f-9ebf-82aaa9b33988",
   "metadata": {},
   "outputs": [
    {
     "name": "stdout",
     "output_type": "stream",
     "text": [
      "The string starts with the word 'My'.\n"
     ]
    }
   ],
   "source": [
    "# Q-17\n",
    "def starts_with_word(string, word):\n",
    "    return string.startswith(word)\n",
    "\n",
    "input_string = \"My name is rahul kumar\"\n",
    "word_to_check = \"My\"\n",
    "if starts_with_word(input_string, word_to_check):\n",
    "    print(\"The string starts with the word '{}'.\".format(word_to_check))\n",
    "else:\n",
    "    print(\"The string does not start with the word '{}'.\".format(word_to_check))"
   ]
  },
  {
   "cell_type": "code",
   "execution_count": 84,
   "id": "c755c44c-8800-4174-9a14-cc93ed004b4f",
   "metadata": {},
   "outputs": [
    {
     "name": "stdout",
     "output_type": "stream",
     "text": [
      "The string ends with the word 'kumar'.\n"
     ]
    }
   ],
   "source": [
    "# Q-18\n",
    "def starts_with_word(string, word):\n",
    "    return string.endswith(word)\n",
    "\n",
    "input_string = \"My name is rahul kumar\"\n",
    "word_to_check = \"kumar\"\n",
    "if starts_with_word(input_string, word_to_check):\n",
    "    print(\"The string ends with the word '{}'.\".format(word_to_check))\n",
    "else:\n",
    "    print(\"The string does not ends with the word '{}'.\".format(word_to_check))"
   ]
  },
  {
   "cell_type": "code",
   "execution_count": 85,
   "id": "3a09173f-a4c6-402a-8dfd-4dd660d1a006",
   "metadata": {},
   "outputs": [
    {
     "name": "stdout",
     "output_type": "stream",
     "text": [
      "Title case string: My Name Is Rahul Kumar\n"
     ]
    }
   ],
   "source": [
    "# Q-19\n",
    "def convert_to_title_case(string):\n",
    "    return string.title()\n",
    "input_string = \"My name is rahul kumar\"\n",
    "title_case_string = convert_to_title_case(input_string)\n",
    "print(\"Title case string:\", title_case_string)"
   ]
  },
  {
   "cell_type": "code",
   "execution_count": 101,
   "id": "42f80f8f-de73-460b-a544-c545368d6cd3",
   "metadata": {},
   "outputs": [
    {
     "name": "stdout",
     "output_type": "stream",
     "text": [
      "longest word: scientist\n"
     ]
    }
   ],
   "source": [
    "# Q-20\n",
    "def longest_word(string):\n",
    "    words = string.split()\n",
    "    longest = max(words, key=len)\n",
    "    return longest\n",
    "\n",
    "input_string = \"I am a data scientist\"\n",
    "longest = longest_word(input_string)\n",
    "print(\"longest word:\", longest)"
   ]
  },
  {
   "cell_type": "code",
   "execution_count": 102,
   "id": "39515b0f-3f33-4fb0-ac48-ac1f213cdd02",
   "metadata": {},
   "outputs": [
    {
     "name": "stdout",
     "output_type": "stream",
     "text": [
      "Shortest word: I\n"
     ]
    }
   ],
   "source": [
    "# Q-21\n",
    "def shortest_word(string):\n",
    "    words = string.split()\n",
    "    shortest = min(words, key=len)\n",
    "    return shortest\n",
    "\n",
    "input_string = \"I am a data scientist\"\n",
    "shortest = shortest_word(input_string)\n",
    "print(\"Shortest word:\", shortest)"
   ]
  },
  {
   "cell_type": "code",
   "execution_count": 104,
   "id": "3128bb69-2acb-4390-a6ca-5792af7bc84e",
   "metadata": {},
   "outputs": [
    {
     "name": "stdout",
     "output_type": "stream",
     "text": [
      "Reversed string: kumar rahul is Me\n"
     ]
    }
   ],
   "source": [
    "# Q-22\n",
    "def reverse_words(string):\n",
    "    words = string.split()\n",
    "    reversed_string = ' '.join(reversed(words))\n",
    "    return reversed_string\n",
    "\n",
    "input_string = \"Me is rahul kumar\"\n",
    "reversed_string = reverse_words(input_string)\n",
    "print(\"Reversed string:\", reversed_string)"
   ]
  },
  {
   "cell_type": "code",
   "execution_count": 105,
   "id": "6c8cbd9b-313f-400c-ba7c-8a69bbcdc209",
   "metadata": {},
   "outputs": [
    {
     "name": "stdout",
     "output_type": "stream",
     "text": [
      "The string 'Rahul123' is alphanumeric.\n"
     ]
    }
   ],
   "source": [
    "# Q-23\n",
    "def is_alphanumeric(string):\n",
    "    return string.isalnum()\n",
    "\n",
    "input_string = \"Rahul123\"\n",
    "if is_alphanumeric(input_string):\n",
    "    print(\"The string '{}' is alphanumeric.\".format(input_string))\n",
    "else:\n",
    "    print(\"The string '{}' is not alphanumeric.\".format(input_string))"
   ]
  },
  {
   "cell_type": "code",
   "execution_count": 106,
   "id": "e90f40f5-a3e0-4104-a5f8-3785ba95651c",
   "metadata": {},
   "outputs": [
    {
     "name": "stdout",
     "output_type": "stream",
     "text": [
      "The original string : There are 15 employees for 30 casual labour\n",
      "The numbers list is :[15, 30]\n"
     ]
    }
   ],
   "source": [
    "# Q-24\n",
    "test_string = \"There are 15 employees for 30 casual labour\"\n",
    "\n",
    "print(\"The original string : \" + test_string)\n",
    "\n",
    "find = [int(i) for i in test_string.split() if i.isdigit()]\n",
    "\n",
    "print(\"The numbers list is :\" + str(find))"
   ]
  },
  {
   "cell_type": "code",
   "execution_count": 114,
   "id": "324b81a1-277a-454d-8628-6ccc9462c99a",
   "metadata": {},
   "outputs": [
    {
     "name": "stdin",
     "output_type": "stream",
     "text": [
      "Enter something:  rahul 1997\n"
     ]
    },
    {
     "name": "stdout",
     "output_type": "stream",
     "text": [
      "Given string :  rahul 1997\n",
      "Result:  rahul\n"
     ]
    }
   ],
   "source": [
    "# Q-25\n",
    "test_string= input(\"Enter something: \")\n",
    "\n",
    "print(\"Given string : \", test_string)\n",
    "\n",
    "res = \"\"\n",
    "for i in test_string:\n",
    "    if i.isalpha():\n",
    "        res = \"\".join([res, i])\n",
    "\n",
    "print(\"Result: \", res)"
   ]
  },
  {
   "cell_type": "code",
   "execution_count": 115,
   "id": "4818f3f5-6c51-42fd-8963-9595575ea1b0",
   "metadata": {},
   "outputs": [
    {
     "name": "stdout",
     "output_type": "stream",
     "text": [
      "Number of uppercase letters: 3\n"
     ]
    }
   ],
   "source": [
    "# Q-26\n",
    "def count_uppercase(string):\n",
    "    count = 0\n",
    "    for char in string:\n",
    "        if char.isupper():\n",
    "            count += 1\n",
    "    return count\n",
    "\n",
    "input_string = \"My name is Rahul Kumar\"\n",
    "uppercase_count = count_uppercase(input_string)\n",
    "print(\"Number of uppercase letters:\", uppercase_count)"
   ]
  },
  {
   "cell_type": "code",
   "execution_count": 117,
   "id": "a579d93a-d76b-4090-a4c9-ab94b8876166",
   "metadata": {},
   "outputs": [
    {
     "name": "stdout",
     "output_type": "stream",
     "text": [
      "Number of lowercase letters: 15\n"
     ]
    }
   ],
   "source": [
    "# Q-27\n",
    "def count_lowercase(string):\n",
    "    count = 0\n",
    "    for char in string:\n",
    "        if char.islower():\n",
    "            count += 1\n",
    "    return count\n",
    "\n",
    "input_string = \"My name is Rahul Kumar\"\n",
    "lowercase_count = count_lowercase(input_string)\n",
    "print(\"Number of lowercase letters:\", lowercase_count)"
   ]
  },
  {
   "cell_type": "code",
   "execution_count": 118,
   "id": "0fa03476-50bb-49cb-848e-13baee1e2da9",
   "metadata": {},
   "outputs": [
    {
     "name": "stdout",
     "output_type": "stream",
     "text": [
      "Swapped case string: mY NAME IS rAHUL kUMAR\n"
     ]
    }
   ],
   "source": [
    "# Q-28\n",
    "def swap_case(string):\n",
    "    return string.swapcase()\n",
    "\n",
    "input_string = \"My name is Rahul Kumar\"\n",
    "swapped_string = swap_case(input_string)\n",
    "print(\"Swapped case string:\", swapped_string)"
   ]
  },
  {
   "cell_type": "code",
   "execution_count": 122,
   "id": "8606677f-ed2f-43c1-86b5-1acb3c7924b9",
   "metadata": {},
   "outputs": [
    {
     "name": "stdout",
     "output_type": "stream",
     "text": [
      "Modified string: My name  Rahul kumar\n"
     ]
    }
   ],
   "source": [
    "# Q-29\n",
    "def remove_word(string, word):\n",
    "    return string.replace(word, '')\n",
    "\n",
    "input_string = \"My name is Rahul kumar\"\n",
    "word_to_remove = \"is\"\n",
    "modified_string = remove_word(input_string, word_to_remove)\n",
    "print(\"Modified string:\", modified_string)"
   ]
  },
  {
   "cell_type": "code",
   "execution_count": 127,
   "id": "310b4944-5935-40a9-a2fa-967f8b382819",
   "metadata": {},
   "outputs": [
    {
     "name": "stdout",
     "output_type": "stream",
     "text": [
      "Valid email address.\n"
     ]
    }
   ],
   "source": [
    "# Q-30\n",
    "import re\n",
    "\n",
    "def check_valid_email(email):\n",
    "    pattern = r'^[a-zA-Z0-9._%+-]+@[a-zA-Z0-9.-]+\\.[a-zA-Z]{2,}$'\n",
    "    return bool(re.match(pattern, email))\n",
    "\n",
    "email_address = \"rahul01@email.com\"\n",
    "if check_valid_email(email_address):\n",
    "    print(\"Valid email address.\")\n",
    "else:\n",
    "    print(\"Invalid email address.\")"
   ]
  },
  {
   "cell_type": "code",
   "execution_count": 128,
   "id": "66e722b9-222c-48d1-a2e7-d61580c8283b",
   "metadata": {},
   "outputs": [
    {
     "name": "stdout",
     "output_type": "stream",
     "text": [
      "Username: rahul01\n"
     ]
    }
   ],
   "source": [
    "# Q -31\n",
    "def extract_username(email):\n",
    "    return email.split('@')[0]\n",
    "\n",
    "email_address = \"rahul01@email.com\"\n",
    "username = extract_username(email_address)\n",
    "print(\"Username:\", username)"
   ]
  },
  {
   "cell_type": "code",
   "execution_count": 130,
   "id": "2d406f6d-7a94-4709-af1b-148c95782bd7",
   "metadata": {},
   "outputs": [
    {
     "name": "stdout",
     "output_type": "stream",
     "text": [
      "Domain: email.com\n"
     ]
    }
   ],
   "source": [
    "# Q-32\n",
    "def extract_domain(email):\n",
    "    return email.split('@')[1]\n",
    "\n",
    "email_address = \"rahul01@email.com\"\n",
    "domain = extract_domain(email_address)\n",
    "print(\"Domain:\", domain)"
   ]
  },
  {
   "cell_type": "code",
   "execution_count": 2,
   "id": "a333bb92-74b1-4edd-8477-9e7fc308e186",
   "metadata": {},
   "outputs": [
    {
     "name": "stdout",
     "output_type": "stream",
     "text": [
      "Modified string: My name is Rahul kumar.\n"
     ]
    }
   ],
   "source": [
    "# Q-33\n",
    "def replace_multiple_spaces(string):\n",
    "    while '  ' in string:\n",
    "        string = string.replace('  ', ' ')\n",
    "    return string\n",
    "\n",
    "input_string = \"My  name  is Rahul kumar.\"\n",
    "modified_string = replace_multiple_spaces(input_string)\n",
    "print(\"Modified string:\", modified_string)"
   ]
  },
  {
   "cell_type": "code",
   "execution_count": 5,
   "id": "56ffc30e-2560-4768-84f5-3f56144d6dda",
   "metadata": {},
   "outputs": [
    {
     "name": "stdout",
     "output_type": "stream",
     "text": [
      "Valid URL.\n"
     ]
    }
   ],
   "source": [
    "# Q-34\n",
    "import re\n",
    "\n",
    "def is_valid_url(url):\n",
    "    pattern = r'^(http|https)://[a-zA-Z0-9-.]+\\.[a-zA-Z]{2,}(?:[/?#].*)?$'\n",
    "    return bool(re.match(pattern, url))\n",
    "\n",
    "url = \"https://www.rahul01.com\"\n",
    "if is_valid_url(url):\n",
    "    print(\"Valid URL.\")\n",
    "else:\n",
    "    print(\"Invalid URL.\")"
   ]
  },
  {
   "cell_type": "code",
   "execution_count": 8,
   "id": "ed3cb6cf-3eb4-4812-80e1-5dde2db46543",
   "metadata": {},
   "outputs": [
    {
     "name": "stdout",
     "output_type": "stream",
     "text": [
      "Protocol: http\n"
     ]
    }
   ],
   "source": [
    "# Q-35\n",
    "def extract_protocol(url):\n",
    "    return url.split('://')[0]\n",
    "\n",
    "url = \"http://www.rahul01.com\"\n",
    "protocol = extract_protocol(url)\n",
    "print(\"Protocol:\", protocol)"
   ]
  },
  {
   "cell_type": "code",
   "execution_count": 10,
   "id": "898bb57a-d268-4762-81da-93e6f0fbc86a",
   "metadata": {},
   "outputs": [
    {
     "name": "stdout",
     "output_type": "stream",
     "text": [
      "Character frequency: {'R': 1, 'a': 2, 'h': 1, 'u': 2, 'l': 1, '_': 1, 'k': 1, 'm': 1, 'r': 1}\n"
     ]
    }
   ],
   "source": [
    "# Q-36\n",
    "def character_frequency(string):\n",
    "    frequency = {}\n",
    "    for char in string:\n",
    "        if char in frequency:\n",
    "            frequency[char] += 1\n",
    "        else:\n",
    "            frequency[char] = 1\n",
    "    return frequency\n",
    "\n",
    "input_string = \"Rahul_kumar\"\n",
    "frequency = character_frequency(input_string)\n",
    "print(\"Character frequency:\", frequency)"
   ]
  },
  {
   "cell_type": "code",
   "execution_count": 13,
   "id": "6a6d393e-867f-4b4d-bbbe-81b597243937",
   "metadata": {},
   "outputs": [
    {
     "name": "stdout",
     "output_type": "stream",
     "text": [
      "Modified string: Rahulkumar\n"
     ]
    }
   ],
   "source": [
    "# Q-37\n",
    "def remove_punctuation(string):\n",
    "    return ''.join(char for char in string if char.isalnum() or char.isspace())\n",
    "\n",
    "input_string = \"Rahul_kumar!\"\n",
    "modified_string = remove_punctuation(input_string)\n",
    "print(\"Modified string:\", modified_string)"
   ]
  },
  {
   "cell_type": "code",
   "execution_count": 15,
   "id": "1888282e-8655-484f-872c-14ad5152b5a2",
   "metadata": {},
   "outputs": [
    {
     "name": "stdout",
     "output_type": "stream",
     "text": [
      "The string contains only digits.\n"
     ]
    }
   ],
   "source": [
    "# Q-38\n",
    "def contains_only_digits(string):\n",
    "    return all(char.isdigit() for char in string)\n",
    "\n",
    "input_string = \"4171\"\n",
    "if contains_only_digits(input_string):\n",
    "    print(\"The string contains only digits.\")\n",
    "else:\n",
    "    print(\"The string contains characters other than digits.\")"
   ]
  },
  {
   "cell_type": "code",
   "execution_count": 18,
   "id": "38242c12-58b3-4bfd-b03d-0d3fc9895b5a",
   "metadata": {},
   "outputs": [
    {
     "name": "stdout",
     "output_type": "stream",
     "text": [
      "The string contains only alphabets.\n"
     ]
    }
   ],
   "source": [
    "# Q-39\n",
    "def contains_only_alphabets(string):\n",
    "    return all(char.isalpha() for char in string)\n",
    "\n",
    "input_string = \"Rahul\"\n",
    "if contains_only_alphabets(input_string):\n",
    "    print(\"The string contains only alphabets.\")\n",
    "else:\n",
    "    print(\"The string contains characters other than alphabets.\")"
   ]
  },
  {
   "cell_type": "code",
   "execution_count": 19,
   "id": "012b83f0-83b8-4c5f-9e94-c4bf4bfed2e1",
   "metadata": {},
   "outputs": [
    {
     "name": "stdout",
     "output_type": "stream",
     "text": [
      "List of characters: ['R', 'a', 'h', 'u', 'l', '_', 'k', 'u', 'm', 'a', 'r']\n"
     ]
    }
   ],
   "source": [
    "# Q-40\n",
    "def string_to_list(string):\n",
    "    return list(string)\n",
    "\n",
    "input_string = \"Rahul_kumar\"\n",
    "character_list = string_to_list(input_string)\n",
    "print(\"List of characters:\", character_list)"
   ]
  },
  {
   "cell_type": "code",
   "execution_count": 1,
   "id": "5255aeb4-7197-4b54-9d80-d396008f196d",
   "metadata": {},
   "outputs": [
    {
     "name": "stdout",
     "output_type": "stream",
     "text": [
      "The strings are anagrams.\n"
     ]
    }
   ],
   "source": [
    "# Q-41\n",
    "def are_anagrams(str1, str2):\n",
    "    str1 = str1.lower().replace(\" \", \"\")\n",
    "    str2 = str2.lower().replace(\" \", \"\")\n",
    "    return sorted(str1) == sorted(str2)\n",
    "\n",
    "string1 = \"taste\"\n",
    "string2 = \"state\"\n",
    "if are_anagrams(string1, string2):\n",
    "    print(\"The strings are anagrams.\")\n",
    "else:\n",
    "    print(\"The strings are not anagrams.\")"
   ]
  },
  {
   "cell_type": "code",
   "execution_count": 3,
   "id": "644834ce-7ad4-4cc1-a0ef-8e7367fd7aec",
   "metadata": {},
   "outputs": [],
   "source": [
    "# Q-42\n",
    "# Didn't understood."
   ]
  },
  {
   "cell_type": "code",
   "execution_count": 4,
   "id": "1b317c93-1c07-4d4a-b764-4aff14723d7d",
   "metadata": {},
   "outputs": [],
   "source": [
    "# Q-43\n",
    "# Didn't understood."
   ]
  },
  {
   "cell_type": "code",
   "execution_count": 9,
   "id": "e8c6a19c-62cd-43b4-825c-9ed3759edf50",
   "metadata": {},
   "outputs": [
    {
     "name": "stdout",
     "output_type": "stream",
     "text": [
      "Most frequent word: Rahul\n"
     ]
    }
   ],
   "source": [
    "# Q-44\n",
    "from collections import Counter\n",
    "\n",
    "def most_frequent_word(string):\n",
    "    words = string.split()\n",
    "    word_counts = Counter(words)\n",
    "    most_common_word = word_counts.most_common(1)[0][0]\n",
    "    return most_common_word\n",
    "\n",
    "input_string = \"My name is Rahul kumar friends call me Rahul .\"\n",
    "most_common = most_frequent_word(input_string)\n",
    "print(\"Most frequent word:\", most_common)"
   ]
  },
  {
   "cell_type": "code",
   "execution_count": 10,
   "id": "9c06ebb2-17c0-4dc5-bb51-0f25deaad162",
   "metadata": {},
   "outputs": [
    {
     "name": "stdout",
     "output_type": "stream",
     "text": [
      "Unique words: {'My', 'friends', 'is', 'kumar', 'name', 'me', 'call', '.', 'Rahul'}\n"
     ]
    }
   ],
   "source": [
    "# Q-45\n",
    "def unique_words(string):\n",
    "    words = string.split()\n",
    "    unique_words_set = set(words)\n",
    "    return unique_words_set\n",
    "\n",
    "input_string = \"My name is Rahul kumar friends call me Rahul .\"\n",
    "unique_words_set = unique_words(input_string)\n",
    "print(\"Unique words:\", unique_words_set)"
   ]
  },
  {
   "cell_type": "code",
   "execution_count": 18,
   "id": "674cf217-40c8-4fc1-bcdf-1afb3ad4f842",
   "metadata": {},
   "outputs": [],
   "source": [
    "# Q-46\n",
    "# Didn't understood"
   ]
  },
  {
   "cell_type": "code",
   "execution_count": 22,
   "id": "50c89901-95f6-4757-a955-0ef6997a2c92",
   "metadata": {},
   "outputs": [
    {
     "name": "stdout",
     "output_type": "stream",
     "text": [
      "The string contains special characters.\n"
     ]
    }
   ],
   "source": [
    "# Q-47\n",
    "def contains_special_characters(string):\n",
    "    for char in string:\n",
    "        if not char.isalnum() and not char.isspace():\n",
    "            return True\n",
    "    return False\n",
    "\n",
    "input_string = \"My name is rahul kumar.\"\n",
    "if contains_special_characters(input_string):\n",
    "    print(\"The string contains special characters.\")\n",
    "else:\n",
    "    print(\"The string does not contain special characters.\")"
   ]
  },
  {
   "cell_type": "code",
   "execution_count": 28,
   "id": "79e39fdf-2762-4a57-8068-d322553e88c3",
   "metadata": {},
   "outputs": [
    {
     "name": "stdin",
     "output_type": "stream",
     "text": [
      "Enter a String = My name is rahul kumar\n",
      "Enter the n-th index = 7\n"
     ]
    },
    {
     "name": "stdout",
     "output_type": "stream",
     "text": [
      "The new string = \n",
      "My nameis rahul kumar\n"
     ]
    }
   ],
   "source": [
    "# Q-48\n",
    "def removechar(str1, n):\n",
    "\tx = str1[ : n]\n",
    "\ty = str1[n + 1: ]\n",
    "\treturn x + y\n",
    "\n",
    "if __name__ == '__main__':\n",
    "\tstr1 = input(\"Enter a String =\")\n",
    "\tn = int(input(\"Enter the n-th index =\"))\n",
    "\n",
    "print(\"The new string = \")\n",
    "print(removechar(str1, n))"
   ]
  },
  {
   "cell_type": "code",
   "execution_count": 32,
   "id": "6e9abe8d-d1b7-45c7-ad00-8cd87dcf6d9d",
   "metadata": {},
   "outputs": [
    {
     "name": "stdout",
     "output_type": "stream",
     "text": [
      "Modified string: My name is rahul kumar\n"
     ]
    }
   ],
   "source": [
    "# Q-49\n",
    "def insert_word_at_nth_position(string, word, n):\n",
    "    # Split the string into words\n",
    "    words = string.split()\n",
    "    \n",
    "    if 0 <= n <= len(words):\n",
    "        words.insert(n, word)\n",
    "        modified_string = ' '.join(words)\n",
    "        return modified_string\n",
    "    else:\n",
    "        return \"Invalid index.\".format(n)\n",
    "\n",
    "input_string = \"My name rahul kumar\"\n",
    "word_to_insert = \"is\"\n",
    "n = 2\n",
    "modified_string = insert_word_at_nth_position(input_string, word_to_insert, n)\n",
    "print(\"Modified string:\", modified_string)"
   ]
  },
  {
   "cell_type": "code",
   "execution_count": 33,
   "id": "859f3ab3-4078-4d27-8374-2b7ee66edbfb",
   "metadata": {},
   "outputs": [],
   "source": [
    "# Q-50\n",
    "# Didn't understood."
   ]
  },
  {
   "cell_type": "code",
   "execution_count": 2,
   "id": "c2635f85-b846-48f1-bd98-b1d3ec44d23e",
   "metadata": {},
   "outputs": [
    {
     "name": "stdout",
     "output_type": "stream",
     "text": [
      "[1, 2, 3, 4, 5, 6, 7, 8, 9, 10]\n"
     ]
    }
   ],
   "source": [
    "# List based assignment problems.\n",
    "# Q-1\n",
    "x = [1, 2, 3, 4, 5, 6, 7, 8, 9, 10]\n",
    "print (x)"
   ]
  },
  {
   "cell_type": "code",
   "execution_count": 3,
   "id": "7bba8917-3698-4635-a3b5-dc3e89faa0be",
   "metadata": {},
   "outputs": [
    {
     "name": "stdout",
     "output_type": "stream",
     "text": [
      "Length of the list: 10\n"
     ]
    }
   ],
   "source": [
    "# Q-2\n",
    "def find_length(lst):\n",
    "    count = 0\n",
    "    for length in lst:\n",
    "        count += 1\n",
    "    return count\n",
    "\n",
    "my_list = [1, 2, 3, 4, 5, 6, 7, 8, 9, 10]\n",
    "length = find_length(my_list)\n",
    "print(\"Length of the list:\", length)"
   ]
  },
  {
   "cell_type": "code",
   "execution_count": 4,
   "id": "6f28b87c-9056-4c7c-9b7f-5188e7992cf5",
   "metadata": {},
   "outputs": [
    {
     "name": "stdout",
     "output_type": "stream",
     "text": [
      "[1, 2, 3, 4, 5, 6, 7, 8, 9, 10, 11]\n"
     ]
    }
   ],
   "source": [
    "# Q-3\n",
    "my_list = [1, 2, 3, 4, 5, 6, 7, 8, 9, 10]\n",
    "my_list.append(11)\n",
    "print(my_list)"
   ]
  },
  {
   "cell_type": "code",
   "execution_count": 5,
   "id": "de802240-c354-4911-b0f7-5d38ed6dd93c",
   "metadata": {},
   "outputs": [
    {
     "name": "stdout",
     "output_type": "stream",
     "text": [
      "[1, 2, 99, 3, 4, 5, 6, 7, 8, 9, 10]\n"
     ]
    }
   ],
   "source": [
    "# Q-4\n",
    "my_list = [1, 2, 3, 4, 5, 6, 7, 8, 9, 10]\n",
    "my_list.insert(2,99)\n",
    "print(my_list)"
   ]
  },
  {
   "cell_type": "code",
   "execution_count": 6,
   "id": "0423a6fb-bcca-4c94-8bbe-6792dac36f3e",
   "metadata": {},
   "outputs": [
    {
     "name": "stdout",
     "output_type": "stream",
     "text": [
      "[1, 2, 3, 4, 5, 6, 7, 8, 9, 10]\n"
     ]
    }
   ],
   "source": [
    "# Q-5\n",
    "my_list = [1, 2,99, 3, 4, 5, 6, 7, 8, 9, 10]\n",
    "my_list.remove(99)\n",
    "print(my_list)"
   ]
  },
  {
   "cell_type": "code",
   "execution_count": 8,
   "id": "e67b3787-a3ed-4871-81f0-425fa251b416",
   "metadata": {},
   "outputs": [
    {
     "name": "stdout",
     "output_type": "stream",
     "text": [
      "[1, 2, 3, 4, 5, 6, 7, 8, 9, 10]\n"
     ]
    }
   ],
   "source": [
    "# Q-6\n",
    "my_list = [1, 2,99, 3, 4, 5, 6, 7, 8, 9, 10]\n",
    "my_list.pop(2)\n",
    "print(my_list)"
   ]
  },
  {
   "cell_type": "code",
   "execution_count": 10,
   "id": "36e6e809-f2c6-4020-8ac7-c9704cde996b",
   "metadata": {},
   "outputs": [
    {
     "name": "stdout",
     "output_type": "stream",
     "text": [
      "exist\n"
     ]
    }
   ],
   "source": [
    "# Q-7\n",
    "lst = [ 1, 6, 3, 5, 3, 4 ] \n",
    "x = 4\n",
    "if x in lst: \n",
    "\tprint(\"exist\") \n",
    "else: \n",
    "\tprint(\"not exist\")"
   ]
  },
  {
   "cell_type": "code",
   "execution_count": 11,
   "id": "736073cd-c2f1-4323-b07c-14c9246e67ec",
   "metadata": {},
   "outputs": [
    {
     "name": "stdout",
     "output_type": "stream",
     "text": [
      "Index of the first occurrence of 3 : 2\n"
     ]
    }
   ],
   "source": [
    "# Q-8\n",
    "my_list = [1, 2, 3, 4, 5, 3]\n",
    "x = 3\n",
    "\n",
    "if x in my_list:\n",
    "    index = my_list.index(x)\n",
    "    print(\"Index of the first occurrence of\", x, \":\", index)\n",
    "else:\n",
    "    print(\"Element\", x, \"does not exist in the list.\")"
   ]
  },
  {
   "cell_type": "code",
   "execution_count": 17,
   "id": "9254e3da-52e7-45c0-9848-a56c40bd9bd0",
   "metadata": {},
   "outputs": [
    {
     "name": "stdout",
     "output_type": "stream",
     "text": [
      "Occurrence of 2 in the list: 2\n"
     ]
    }
   ],
   "source": [
    "# Q-9\n",
    "my_list = [1, 2, 3, 4, 5, 3, 1, 2, 3, 5, 1]\n",
    "x = 2\n",
    "\n",
    "occurrences = my_list.count(x)\n",
    "print(\"Occurrence of\", x, \"in the list:\", occurrences)"
   ]
  },
  {
   "cell_type": "code",
   "execution_count": 19,
   "id": "7dbe7111-c88b-47d5-837d-a62cd8c587c3",
   "metadata": {},
   "outputs": [
    {
     "name": "stdout",
     "output_type": "stream",
     "text": [
      "Reversed list: [10, 9, 8, 7, 6, 5, 4, 3, 2, 1]\n"
     ]
    }
   ],
   "source": [
    "# Q-10\n",
    "my_list = [1, 2, 3, 4, 5, 6, 7, 8, 9, 10]\n",
    "my_list.reverse()\n",
    "print(\"Reversed list:\", my_list)"
   ]
  },
  {
   "cell_type": "code",
   "execution_count": 21,
   "id": "d9903f55-36c5-4aba-9e8b-62a75dd56242",
   "metadata": {},
   "outputs": [
    {
     "name": "stdout",
     "output_type": "stream",
     "text": [
      "Sorted list: [1, 2, 3, 4, 5, 6, 7, 8, 9, 10]\n"
     ]
    }
   ],
   "source": [
    "# Q-11\n",
    "my_list = [8, 2, 3, 7, 5, 4, 6, 9, 1, 10]\n",
    "my_list.sort()\n",
    "print(\"Sorted list:\", my_list)"
   ]
  },
  {
   "cell_type": "code",
   "execution_count": 23,
   "id": "2ab85b97-5ab7-4d46-b31e-0342ad26e977",
   "metadata": {},
   "outputs": [
    {
     "name": "stdout",
     "output_type": "stream",
     "text": [
      "Sorted list: [10, 9, 8, 7, 6, 5, 4, 3, 2, 1]\n"
     ]
    }
   ],
   "source": [
    "# Q-12\n",
    "my_list = [8, 2, 3, 7, 5, 4, 6, 9, 1, 10]\n",
    "my_list.sort ( reverse = True )\n",
    "print(\"Sorted list:\", my_list)"
   ]
  },
  {
   "cell_type": "code",
   "execution_count": 24,
   "id": "1e54d3c1-8b82-4a07-b568-e21679991410",
   "metadata": {},
   "outputs": [
    {
     "name": "stdout",
     "output_type": "stream",
     "text": [
      "[2, 4, 6, 8, 10, 12, 14, 16, 18, 20]\n"
     ]
    }
   ],
   "source": [
    "# Q-13\n",
    "even_numbers = [num for num in range(1, 21) if num % 2 == 0]\n",
    "print(even_numbers)"
   ]
  },
  {
   "cell_type": "code",
   "execution_count": 25,
   "id": "c9bf507a-c3ad-438c-ba6c-b2372e7b40d6",
   "metadata": {},
   "outputs": [
    {
     "name": "stdout",
     "output_type": "stream",
     "text": [
      "[1, 3, 5, 7, 9, 11, 13, 15, 17, 19]\n"
     ]
    }
   ],
   "source": [
    "# Q-14\n",
    "odd_numbers = [num for num in range(1, 21) if num % 2 != 0]\n",
    "print(odd_numbers)"
   ]
  },
  {
   "cell_type": "code",
   "execution_count": 33,
   "id": "df56b78f-731e-43db-854e-4840fbbb15b5",
   "metadata": {},
   "outputs": [
    {
     "name": "stdout",
     "output_type": "stream",
     "text": [
      "Total sum : 55\n"
     ]
    }
   ],
   "source": [
    "# Q-15\n",
    "my_list = [1, 2, 3, 4, 5, 6, 7, 8, 9, 10]\n",
    "Total_sum = sum(my_list)\n",
    "print(\"Total sum :\",Total_sum)"
   ]
  },
  {
   "cell_type": "code",
   "execution_count": 34,
   "id": "e27c39dd-5f45-4e6e-ac98-2cef02811407",
   "metadata": {},
   "outputs": [
    {
     "name": "stdout",
     "output_type": "stream",
     "text": [
      "Maximum value : 10\n"
     ]
    }
   ],
   "source": [
    "# Q-16\n",
    "my_list = [1, 2, 3, 4, 5, 6, 7, 8, 9, 10]\n",
    "max_value = max(my_list)\n",
    "print(\"Maximum value :\",max_value)"
   ]
  },
  {
   "cell_type": "code",
   "execution_count": 35,
   "id": "cebb0d17-4262-4659-9e33-f7e86b82cb61",
   "metadata": {},
   "outputs": [
    {
     "name": "stdout",
     "output_type": "stream",
     "text": [
      "Minimum value : 1\n"
     ]
    }
   ],
   "source": [
    "# Q-17\n",
    "my_list = [1, 2, 3, 4, 5, 6, 7, 8, 9, 10]\n",
    "min_value = min(my_list)\n",
    "print(\"Minimum value :\",min_value)"
   ]
  },
  {
   "cell_type": "code",
   "execution_count": 36,
   "id": "519b8bab-e52f-44b8-aff6-380db9c6e826",
   "metadata": {},
   "outputs": [
    {
     "name": "stdout",
     "output_type": "stream",
     "text": [
      "Squares are : [1, 4, 9, 16, 25, 36, 49, 64, 81, 100]\n"
     ]
    }
   ],
   "source": [
    "# Q-18\n",
    "squares = [num ** 2 for num in range(1, 11)]\n",
    "print(\"Squares are :\",squares)"
   ]
  },
  {
   "cell_type": "code",
   "execution_count": 39,
   "id": "6ac7a707-73ba-44f6-af09-b81b67c5ff22",
   "metadata": {},
   "outputs": [
    {
     "name": "stdout",
     "output_type": "stream",
     "text": [
      "[38, 45, 27, 8, 94, 95, 5, 32, 64, 91, 81, 99, 33, 41, 29, 7, 52, 90, 66, 10, 2, 17, 93, 77, 58, 76, 36, 52, 15, 34, 81, 100, 36, 19, 97, 9, 2, 2, 62, 24, 24, 21, 60, 60, 72, 72, 58, 79, 31, 22, 24, 5, 65, 96, 59, 8, 19, 96, 36, 45, 69, 45, 57, 83, 82, 72, 51, 77, 33, 24, 35, 31, 80, 52, 42, 90, 15, 26, 12, 58, 12, 20, 4, 80, 69, 55, 78, 11, 15, 70, 47, 10, 64, 97, 80, 17, 3, 96, 26, 30]\n"
     ]
    }
   ],
   "source": [
    "# Q-19\n",
    "import random\n",
    "random_numbers = [random.randint(1, 100) for x in range(100)]\n",
    "print(random_numbers)"
   ]
  },
  {
   "cell_type": "code",
   "execution_count": 41,
   "id": "83f742c7-cef0-4fae-b7b9-8f973050b564",
   "metadata": {},
   "outputs": [
    {
     "name": "stdout",
     "output_type": "stream",
     "text": [
      "List with duplicates removed: [1, 2, 3, 4, 5, 6]\n"
     ]
    }
   ],
   "source": [
    "# Q-20\n",
    "my_list = [1, 2, 3, 2, 4, 5, 6, 4]\n",
    "unique_list = list(set(my_list))\n",
    "print(\"List with duplicates removed:\", unique_list)"
   ]
  },
  {
   "cell_type": "code",
   "execution_count": 42,
   "id": "f3ffc499-cb53-4cee-a654-8a385e5fd3fb",
   "metadata": {},
   "outputs": [
    {
     "name": "stdout",
     "output_type": "stream",
     "text": [
      "Common elements between the two lists: [4, 5]\n"
     ]
    }
   ],
   "source": [
    "# Q-21\n",
    "list1 = [1, 2, 3, 4, 5]\n",
    "list2 = [4, 5, 6, 7, 8]\n",
    "common_elements = list(set(list1).intersection(list2))\n",
    "print(\"Common elements between the two lists:\", common_elements)"
   ]
  },
  {
   "cell_type": "code",
   "execution_count": 43,
   "id": "2edede21-6dab-4a3d-80ce-989053c1a3b9",
   "metadata": {},
   "outputs": [
    {
     "name": "stdout",
     "output_type": "stream",
     "text": [
      "different elements from the lists: [1, 2, 3]\n"
     ]
    }
   ],
   "source": [
    "# Q-22\n",
    "list1 = [1, 2, 3, 4, 5]\n",
    "list2 = [4, 5, 6, 7, 8]\n",
    "difference_list = [element for element in list1 if element not in list2]\n",
    "print(\"different elements from the lists:\", difference_list)"
   ]
  },
  {
   "cell_type": "code",
   "execution_count": 44,
   "id": "4a8e9cc4-6a58-4477-bc51-a35f3c21c96f",
   "metadata": {},
   "outputs": [
    {
     "name": "stdout",
     "output_type": "stream",
     "text": [
      "Merged list: [1, 2, 3, 4, 5, 6]\n"
     ]
    }
   ],
   "source": [
    "# Q-23\n",
    "list1 = [1, 2, 3]\n",
    "list2 = [4, 5, 6]\n",
    "\n",
    "merged_list = list1 + list2\n",
    "print(\"Merged list:\", merged_list)"
   ]
  },
  {
   "cell_type": "code",
   "execution_count": 46,
   "id": "781b0b84-8624-42e3-81d9-019635a2b170",
   "metadata": {},
   "outputs": [
    {
     "name": "stdout",
     "output_type": "stream",
     "text": [
      "[2, 4, 6, 8, 10, 12, 14, 16, 18, 20]\n"
     ]
    }
   ],
   "source": [
    "# Q-24\n",
    "my_list = [1, 2, 3, 4, 5, 6, 7, 8, 9, 10]\n",
    "multiplied_list = [elements * 2 for elements in my_list]\n",
    "print(multiplied_list)"
   ]
  },
  {
   "cell_type": "code",
   "execution_count": 47,
   "id": "08f8fdde-7ed3-4315-a317-3c0e185bcc25",
   "metadata": {},
   "outputs": [
    {
     "name": "stdout",
     "output_type": "stream",
     "text": [
      "[2, 4, 6, 8, 10]\n"
     ]
    }
   ],
   "source": [
    "# Q-25\n",
    "my_list = [1, 2, 3, 4, 5, 6, 7, 8, 9, 10]\n",
    "filtered_list = [num for num in my_list if num % 2 == 0]\n",
    "print(filtered_list)"
   ]
  },
  {
   "cell_type": "code",
   "execution_count": 48,
   "id": "6eb01d9f-11cc-492e-af63-ad6bb46196b1",
   "metadata": {},
   "outputs": [
    {
     "name": "stdout",
     "output_type": "stream",
     "text": [
      "List of integers: [1, 2, 3, 4, 5]\n"
     ]
    }
   ],
   "source": [
    "# Q-26\n",
    "string_list = [\"1\", \"2\", \"3\", \"4\", \"5\"]\n",
    "integer_list = [int(string) for string in string_list]\n",
    "print(\"List of integers:\", integer_list)"
   ]
  },
  {
   "cell_type": "code",
   "execution_count": 49,
   "id": "88e11e96-9e37-4efe-bc41-3c05862aa520",
   "metadata": {},
   "outputs": [
    {
     "name": "stdout",
     "output_type": "stream",
     "text": [
      "List of string: ['1', '2', '3', '4', '5']\n"
     ]
    }
   ],
   "source": [
    "# Q-27\n",
    "integer_list = [1, 2, 3, 4, 5]\n",
    "string_list = [str(integer) for integer in integer_list]\n",
    "print(\"List of string:\", string_list)"
   ]
  },
  {
   "cell_type": "code",
   "execution_count": 52,
   "id": "f5ca6574-4a24-41c2-b911-3a84d780fafe",
   "metadata": {},
   "outputs": [
    {
     "name": "stdout",
     "output_type": "stream",
     "text": [
      "List [[1, 2, 3, 4], [5, 6, 7], [8, 9, 10]]\n",
      "Flatten List [1, 2, 3, 4, 5, 6, 7, 8, 9, 10]\n"
     ]
    }
   ],
   "source": [
    "# Q-28\n",
    "my_list = [[1, 2, 3, 4], [5, 6, 7], [8, 9, 10]]\n",
    "flatten_List = [element for innerList in my_list for element in innerList]\n",
    "print('List', my_list)\n",
    "print('Flatten List', flatten_List)"
   ]
  },
  {
   "cell_type": "code",
   "execution_count": 54,
   "id": "285ea8ac-44c3-4596-9e97-604c32e693d0",
   "metadata": {},
   "outputs": [
    {
     "name": "stdout",
     "output_type": "stream",
     "text": [
      "First 10 Fibonacci numbers: [1, 2, 3, 5, 8, 13, 21, 34, 55, 89]\n"
     ]
    }
   ],
   "source": [
    "# Q-29\n",
    "def generate_fibonacci(n):\n",
    "    fibonacci_list = []\n",
    "    a, b = 1,2\n",
    "    for x in range(n):\n",
    "        fibonacci_list.append(a)\n",
    "        a, b = b, a + b\n",
    "    return fibonacci_list\n",
    "\n",
    "fibonacci_numbers = generate_fibonacci(10)\n",
    "print(\"First 10 Fibonacci numbers:\", fibonacci_numbers)"
   ]
  },
  {
   "cell_type": "code",
   "execution_count": 58,
   "id": "44767340-6133-4f9c-b649-f8f5b1f5a54a",
   "metadata": {},
   "outputs": [
    {
     "name": "stdout",
     "output_type": "stream",
     "text": [
      "The list is sorted.\n"
     ]
    }
   ],
   "source": [
    "# Q-30\n",
    "my_list = [1, 2, 3, 4, 5, 6, 7, 8, 9, 10]\n",
    "is_sorted = True\n",
    "for i in range(len(my_list) - 1):\n",
    "    if my_list[x] > my_list[x + 1]:\n",
    "        is_sorted = False\n",
    "        break\n",
    "\n",
    "if is_sorted:\n",
    "    print(\"The list is sorted.\")\n",
    "else:\n",
    "    print(\"The list is not sorted.\")"
   ]
  },
  {
   "cell_type": "code",
   "execution_count": 60,
   "id": "57a57011-17b5-4765-983b-ccdb236e170a",
   "metadata": {},
   "outputs": [
    {
     "name": "stdout",
     "output_type": "stream",
     "text": [
      "Original list: [1, 2, 3, 4, 5]\n",
      "List rotated to the left by 3 positions: [4, 5, 1, 2, 3]\n"
     ]
    }
   ],
   "source": [
    "# Q-31\n",
    "def rotate_left(lst, n):\n",
    "    n = n % len(lst) \n",
    "    return lst[n:] + lst[:n]\n",
    "\n",
    "my_list = [1, 2, 3, 4, 5]\n",
    "n = 3\n",
    "\n",
    "rotated_list = rotate_left(my_list, n)\n",
    "print(\"Original list:\", my_list)\n",
    "print(\"List rotated to the left by\", n, \"positions:\", rotated_list)"
   ]
  },
  {
   "cell_type": "code",
   "execution_count": 62,
   "id": "b98a96d8-c69b-43ad-a7d8-745c8dfa58f5",
   "metadata": {},
   "outputs": [
    {
     "name": "stdout",
     "output_type": "stream",
     "text": [
      "Original list: [1, 2, 3, 4, 5]\n",
      "List rotated to the left by 3 positions: [3, 4, 5, 1, 2]\n"
     ]
    }
   ],
   "source": [
    "# Q-32\n",
    "def rotate_right(lst, n):\n",
    "    n = n % len(lst) \n",
    "    return lst[-n:] + lst[:-n]\n",
    "\n",
    "my_list = [1, 2, 3, 4, 5]\n",
    "n = 3\n",
    "\n",
    "rotated_list = rotate_right(my_list, n)\n",
    "print(\"Original list:\", my_list)\n",
    "print(\"List rotated to the left by\", n, \"positions:\", rotated_list)"
   ]
  },
  {
   "cell_type": "code",
   "execution_count": 63,
   "id": "92634bad-7a87-4581-a939-195edcbd95b3",
   "metadata": {},
   "outputs": [
    {
     "name": "stdout",
     "output_type": "stream",
     "text": [
      "Prime numbers up to 50: [2, 3, 5, 7, 11, 13, 17, 19, 23, 29, 31, 37, 41, 43, 47]\n"
     ]
    }
   ],
   "source": [
    "# Q-33\n",
    "def is_prime(n):\n",
    "    if n <= 1:\n",
    "        return False\n",
    "    elif n == 2:\n",
    "        return True\n",
    "    elif n % 2 == 0:\n",
    "        return False\n",
    "    else:\n",
    "        for i in range(3, int(n**0.5) + 1, 2):\n",
    "            if n % i == 0:\n",
    "                return False\n",
    "        return True\n",
    "\n",
    "prime_numbers = [num for num in range(2, 51) if is_prime(num)]\n",
    "print(\"Prime numbers up to 50:\", prime_numbers)"
   ]
  },
  {
   "cell_type": "code",
   "execution_count": 65,
   "id": "f3b1b4b9-a79b-42a8-befa-4433fad43be2",
   "metadata": {},
   "outputs": [
    {
     "name": "stdout",
     "output_type": "stream",
     "text": [
      "List split into chunks of size 4 : [[1, 2, 3, 4], [5, 6, 7, 8], [9, 10]]\n"
     ]
    }
   ],
   "source": [
    "# Q-34\n",
    "def split_list_into_chunks(my_list, n):\n",
    "    return [my_list[i:i + n] for i in range(0, len(my_list), n)]\n",
    "\n",
    "my_list = [1, 2, 3, 4, 5, 6, 7, 8, 9, 10]\n",
    "chunk_size = 4\n",
    "\n",
    "chunks = split_list_into_chunks(my_list, chunk_size)\n",
    "print(\"List split into chunks of size\", chunk_size, \":\", chunks)"
   ]
  },
  {
   "cell_type": "code",
   "execution_count": 66,
   "id": "87c692cf-8303-43ed-aee2-1ac00fcc5021",
   "metadata": {},
   "outputs": [
    {
     "name": "stdout",
     "output_type": "stream",
     "text": [
      "Second largest number in the list: 30\n"
     ]
    }
   ],
   "source": [
    "# Q-35\n",
    "def second_largest(lst):\n",
    "    sorted_list = sorted(lst, reverse=True)\n",
    "    if len(sorted_list) < 2:\n",
    "        return None \n",
    "    return sorted_list[1]\n",
    "\n",
    "my_list = [10, 5, 20, 15, 0, 35, 25, 30]\n",
    "second_largest_number = second_largest(my_list)\n",
    "print(\"Second largest number in the list:\", second_largest_number)"
   ]
  },
  {
   "cell_type": "code",
   "execution_count": 68,
   "id": "82c35a55-660b-4fb7-adad-0b139767142f",
   "metadata": {},
   "outputs": [
    {
     "name": "stdout",
     "output_type": "stream",
     "text": [
      "Original list: [1, 2, 3, 4, 5, 6, 7, 8, 9, 10]\n",
      "List with elements squared: [1, 4, 9, 16, 25, 36, 49, 64, 81, 100]\n"
     ]
    }
   ],
   "source": [
    "# Q-36\n",
    "my_list = [1, 2, 3, 4, 5, 6, 7, 8, 9, 10]\n",
    "squared_list = [x ** 2 for x in my_list]\n",
    "print(\"Original list:\", my_list)\n",
    "print(\"List with elements squared:\", squared_list)"
   ]
  },
  {
   "cell_type": "code",
   "execution_count": 70,
   "id": "adbf2112-8101-4af8-b5c9-f2d8843d0338",
   "metadata": {},
   "outputs": [],
   "source": [
    "# Q-37\n",
    "# Don't know."
   ]
  },
  {
   "cell_type": "code",
   "execution_count": 71,
   "id": "250e9956-b4e5-4bcb-aaa0-169c732aeae3",
   "metadata": {},
   "outputs": [
    {
     "name": "stdout",
     "output_type": "stream",
     "text": [
      "Shuffled list: [2, 3, 5, 7, 10, 1, 4, 9, 6, 8]\n"
     ]
    }
   ],
   "source": [
    "# Q-38\n",
    "import random\n",
    "my_list = [1, 2, 3, 4, 5, 6, 7, 8, 9, 10]\n",
    "random.shuffle(my_list)\n",
    "print(\"Shuffled list:\", my_list)"
   ]
  },
  {
   "cell_type": "code",
   "execution_count": 72,
   "id": "84c6df96-36cd-476a-837f-b14eddd63876",
   "metadata": {},
   "outputs": [
    {
     "name": "stdout",
     "output_type": "stream",
     "text": [
      "First 10 factorial numbers: [1, 1, 2, 6, 24, 120, 720, 5040, 40320, 362880]\n"
     ]
    }
   ],
   "source": [
    "# Q-39\n",
    "def factorial(n):\n",
    "    if n == 0:\n",
    "        return 1\n",
    "    else:\n",
    "        return n * factorial(n - 1)\n",
    "\n",
    "factorial_numbers = [factorial(n) for n in range(10)]\n",
    "print(\"First 10 factorial numbers:\", factorial_numbers)"
   ]
  },
  {
   "cell_type": "code",
   "execution_count": 73,
   "id": "eb1933b4-c970-45ac-b487-2ffcd8e82f61",
   "metadata": {},
   "outputs": [
    {
     "name": "stdout",
     "output_type": "stream",
     "text": [
      "List1 and List2 have common elements: False\n",
      "List1 and List3 have common elements: True\n"
     ]
    }
   ],
   "source": [
    "# Q-40\n",
    "def have_common_element(list1, list2):\n",
    "    set1 = set(list1)\n",
    "    set2 = set(list2)\n",
    "    return bool(set1.intersection(set2))\n",
    "\n",
    "list1 = [1, 2, 3, 4, 5]\n",
    "list2 = [6, 7, 8, 9, 10]\n",
    "list3 = [5, 10, 15, 20]\n",
    "\n",
    "print(\"List1 and List2 have common elements:\", have_common_element(list1, list2))\n",
    "print(\"List1 and List3 have common elements:\", have_common_element(list1, list3))"
   ]
  },
  {
   "cell_type": "code",
   "execution_count": 74,
   "id": "e54830ed-dc9d-4b11-8c26-82b49f46122a",
   "metadata": {},
   "outputs": [
    {
     "name": "stdout",
     "output_type": "stream",
     "text": [
      "List after removing all elements: []\n"
     ]
    }
   ],
   "source": [
    "# Q-41\n",
    "my_list = [1, 2, 3, 4, 5, 6, 7, 8, 9, 10]\n",
    "my_list.clear()\n",
    "print(\"List after removing all elements:\", my_list)"
   ]
  },
  {
   "cell_type": "code",
   "execution_count": 76,
   "id": "626d54a2-843e-45b8-bc5f-6ce02ecf4a03",
   "metadata": {},
   "outputs": [
    {
     "name": "stdout",
     "output_type": "stream",
     "text": [
      "Original list: [1, -2, 3, -4, 5, -6]\n",
      "List with negative numbers replaced by 0: [1, 0, 3, 0, 5, 0]\n"
     ]
    }
   ],
   "source": [
    "# Q-42\n",
    "my_list = [1, -2, 3, -4, 5, -6]\n",
    "modified_list = [x if x >= 0 else 0 for x in my_list]\n",
    "print(\"Original list:\", my_list)\n",
    "print(\"List with negative numbers replaced by 0:\", modified_list)"
   ]
  },
  {
   "cell_type": "code",
   "execution_count": 77,
   "id": "771c10d1-580d-40ad-a29b-38e58608d7aa",
   "metadata": {},
   "outputs": [
    {
     "name": "stdout",
     "output_type": "stream",
     "text": [
      "List of words: ['My', 'name', 'is', 'Rahul', 'kumar']\n"
     ]
    }
   ],
   "source": [
    "# Q-43\n",
    "my_string = \"My name is Rahul kumar\"\n",
    "word_list = my_string.split()\n",
    "print(\"List of words:\", word_list)"
   ]
  },
  {
   "cell_type": "code",
   "execution_count": 79,
   "id": "168255a1-5fc6-4066-82c5-f73781013c9f",
   "metadata": {},
   "outputs": [
    {
     "name": "stdout",
     "output_type": "stream",
     "text": [
      "String: My name is Rahul Kumar\n"
     ]
    }
   ],
   "source": [
    "# Q-44\n",
    "word_list = ['My', 'name', 'is', 'Rahul', 'Kumar']\n",
    "my_string = ' '.join(word_list)\n",
    "print(\"String:\", my_string)"
   ]
  },
  {
   "cell_type": "code",
   "execution_count": 80,
   "id": "8ebc01d6-6fe7-4124-adb4-8c986529ab92",
   "metadata": {},
   "outputs": [
    {
     "name": "stdout",
     "output_type": "stream",
     "text": [
      "List of the first 5 powers of 2: [1, 2, 4, 8, 16]\n"
     ]
    }
   ],
   "source": [
    "# Q-45\n",
    "n = 5 \n",
    "powers_of_2 = [2 ** i for i in range(n)]\n",
    "print(\"List of the first\", n, \"powers of 2:\", powers_of_2)"
   ]
  },
  {
   "cell_type": "code",
   "execution_count": 82,
   "id": "30d4e1b6-2037-4862-8c8a-d80c962b40e8",
   "metadata": {},
   "outputs": [
    {
     "name": "stdout",
     "output_type": "stream",
     "text": [
      "Longest string: pomegranate\n"
     ]
    }
   ],
   "source": [
    "# Q-46\n",
    "def longest_string(strings):\n",
    "    max_length = 0\n",
    "    longest = \"\"\n",
    "    for string in strings:\n",
    "        if len(string) > max_length:\n",
    "            max_length = len(string)\n",
    "            longest = string\n",
    "    return longest\n",
    "\n",
    "string_list = [\"apple\", \"banana\", \"orange\", \"grapes\", \"pomegranate\"]\n",
    "longest = longest_string(string_list)\n",
    "print(\"Longest string:\", longest)"
   ]
  },
  {
   "cell_type": "code",
   "execution_count": 85,
   "id": "cea80734-c516-4011-9cd3-c971db2e1a7b",
   "metadata": {},
   "outputs": [
    {
     "name": "stdout",
     "output_type": "stream",
     "text": [
      "shortest string: apple\n"
     ]
    }
   ],
   "source": [
    "# Q-47\n",
    "def shortest_string(strings):\n",
    "    min_length = float('inf')\n",
    "    shortest = \"\"\n",
    "    for string in strings:\n",
    "        if len(string) < min_length:\n",
    "            min_length = len(string)\n",
    "            shortest = string\n",
    "    return shortest\n",
    "\n",
    "string_list = [\"apple\", \"banana\", \"orange\", \"grapes\", \"pomegranate\"]\n",
    "shortest = shortest_string(string_list)\n",
    "print(\"shortest string:\", shortest)"
   ]
  },
  {
   "cell_type": "code",
   "execution_count": 87,
   "id": "505e7047-d412-459f-9d28-8d022d1c0240",
   "metadata": {},
   "outputs": [
    {
     "name": "stdout",
     "output_type": "stream",
     "text": [
      "List of the first 10 triangular numbers: [1, 3, 6, 10, 15, 21, 28, 36, 45, 55]\n"
     ]
    }
   ],
   "source": [
    "# Q-48\n",
    "def triangular_number(n):\n",
    "    return n * (n + 1) // 2\n",
    "\n",
    "n = 10\n",
    "triangular_numbers = [triangular_number(i) for i in range(1, n + 1)]\n",
    "print(\"List of the first\", n, \"triangular numbers:\", triangular_numbers)"
   ]
  },
  {
   "cell_type": "code",
   "execution_count": 88,
   "id": "7a345f8e-2bd6-403d-b437-ff8e875ac15a",
   "metadata": {},
   "outputs": [],
   "source": [
    "# Q-49\n",
    "# Don't kmow."
   ]
  },
  {
   "cell_type": "code",
   "execution_count": 92,
   "id": "599bda9d-30bc-49b1-a798-ef5b6438d543",
   "metadata": {},
   "outputs": [
    {
     "name": "stdout",
     "output_type": "stream",
     "text": [
      "Original list: [1, 2, 3, 4, 5]\n",
      "List after swapping elements at indices 1 and 3 : [1, 4, 3, 2, 5]\n"
     ]
    }
   ],
   "source": [
    "# Q-50\n",
    "def swap_elements(lst, index1, index2):\n",
    "    lst[index1], lst[index2] = lst[index2], lst[index1]\n",
    "\n",
    "my_list = [1, 2, 3, 4, 5]\n",
    "index1 = 1\n",
    "index2 = 3\n",
    "\n",
    "print(\"Original list:\", my_list)\n",
    "swap_elements(my_list, index1, index2)\n",
    "print(\"List after swapping elements at indices\", index1, \"and\", index2, \":\", my_list)"
   ]
  },
  {
   "cell_type": "code",
   "execution_count": 1,
   "id": "8b6e2d22-0f4f-4b35-b34f-656a9fdf22f2",
   "metadata": {},
   "outputs": [
    {
     "name": "stdout",
     "output_type": "stream",
     "text": [
      "(1, 2, 3, 4, 5)\n"
     ]
    }
   ],
   "source": [
    "# Tuple based assignment problems.\n",
    "# Q-1\n",
    "my_tuple = (1, 2, 3, 4, 5)\n",
    "print(my_tuple)"
   ]
  },
  {
   "cell_type": "code",
   "execution_count": 2,
   "id": "36f996e5-38b5-4695-a787-7202f454154c",
   "metadata": {},
   "outputs": [
    {
     "name": "stdout",
     "output_type": "stream",
     "text": [
      "3\n"
     ]
    }
   ],
   "source": [
    "# Q-2\n",
    "my_tuple = (1, 2, 3, 4, 5)\n",
    "print(my_tuple[2])"
   ]
  },
  {
   "cell_type": "code",
   "execution_count": 4,
   "id": "be178f14-3bce-4618-a199-d3aef1e7dd36",
   "metadata": {},
   "outputs": [
    {
     "name": "stdout",
     "output_type": "stream",
     "text": [
      "Length of the tuple: 10\n"
     ]
    }
   ],
   "source": [
    "# Q-3\n",
    "def find_length(tup):\n",
    "    count = 0\n",
    "    for length in tup:\n",
    "        count += 1\n",
    "    return count\n",
    "\n",
    "my_tuple = (1, 2, 3, 4, 5, 6, 7, 8, 9, 10)\n",
    "length = find_length(my_tuple)\n",
    "print(\"Length of the tuple:\", length)"
   ]
  },
  {
   "cell_type": "code",
   "execution_count": 5,
   "id": "cf006823-a8ac-465e-baea-5fafe61d746c",
   "metadata": {},
   "outputs": [
    {
     "name": "stdout",
     "output_type": "stream",
     "text": [
      "Occurrence of 5 in the tuple: 2\n"
     ]
    }
   ],
   "source": [
    "# Q-4\n",
    "my_tuple = (1, 2, 3, 4, 5, 3, 1, 2, 3, 5, 1)\n",
    "x = 5\n",
    "\n",
    "occurrences = my_tuple.count(x)\n",
    "print(\"Occurrence of\", x, \"in the tuple:\", occurrences)"
   ]
  },
  {
   "cell_type": "code",
   "execution_count": 7,
   "id": "9d056cf3-da63-47ad-b6ed-300ec3713372",
   "metadata": {},
   "outputs": [
    {
     "name": "stdout",
     "output_type": "stream",
     "text": [
      "Index of 3 : 2\n"
     ]
    }
   ],
   "source": [
    "# Q-5\n",
    "my_tuple = (1, 2, 3, 4, 5)\n",
    "element_to_find = 3\n",
    "\n",
    "index = my_tuple.index(element_to_find)\n",
    "print(\"Index of\", element_to_find, \":\", index)"
   ]
  },
  {
   "cell_type": "code",
   "execution_count": 8,
   "id": "f0d8cf1e-438f-4986-92ba-55f2b03a6d21",
   "metadata": {},
   "outputs": [
    {
     "name": "stdout",
     "output_type": "stream",
     "text": [
      "3 exists in the tuple.\n"
     ]
    }
   ],
   "source": [
    "# Q-6\n",
    "my_tuple = (1, 2, 3, 4, 5)\n",
    "element_to_check = 3\n",
    "if element_to_check in my_tuple:\n",
    "    print(element_to_check, \"exists in the tuple.\")\n",
    "else:\n",
    "    print(element_to_check, \"does not exist in the tuple.\")"
   ]
  },
  {
   "cell_type": "code",
   "execution_count": 9,
   "id": "8e1ec518-1639-4dd0-9e28-6846e5acd469",
   "metadata": {},
   "outputs": [
    {
     "name": "stdout",
     "output_type": "stream",
     "text": [
      "[1, 2, 3, 4, 5]\n"
     ]
    }
   ],
   "source": [
    "# Q-7\n",
    "my_tuple = (1, 2, 3, 4, 5)\n",
    "my_list = list(my_tuple)\n",
    "print(my_list)"
   ]
  },
  {
   "cell_type": "code",
   "execution_count": 10,
   "id": "ad94da0f-4059-49f2-8f01-7d099151bdd0",
   "metadata": {},
   "outputs": [
    {
     "name": "stdout",
     "output_type": "stream",
     "text": [
      "(1, 2, 3, 4, 5)\n"
     ]
    }
   ],
   "source": [
    "# Q-8\n",
    "my_list = [1, 2, 3, 4, 5]\n",
    "my_tuple = tuple(my_list)\n",
    "print(my_tuple)"
   ]
  },
  {
   "cell_type": "code",
   "execution_count": 11,
   "id": "1380a2fc-13e3-47ed-8c46-6076caf1e931",
   "metadata": {},
   "outputs": [
    {
     "name": "stdout",
     "output_type": "stream",
     "text": [
      "a: 1\n",
      "b: 2\n",
      "c: 3\n"
     ]
    }
   ],
   "source": [
    "# Q-9\n",
    "my_tuple = (1, 2, 3)\n",
    "a, b, c = my_tuple\n",
    "\n",
    "print(\"a:\", a)\n",
    "print(\"b:\", b)\n",
    "print(\"c:\", c)"
   ]
  },
  {
   "cell_type": "code",
   "execution_count": 12,
   "id": "262aaef8-0c8c-44a4-9ea4-6194783b2ed7",
   "metadata": {},
   "outputs": [
    {
     "name": "stdout",
     "output_type": "stream",
     "text": [
      "(2, 4, 6, 8, 10)\n"
     ]
    }
   ],
   "source": [
    "# Q-10\n",
    "even_numbers = tuple(num for num in range(1, 11) if num % 2 == 0)\n",
    "print(even_numbers)"
   ]
  },
  {
   "cell_type": "code",
   "execution_count": 13,
   "id": "fa59256d-a551-4a5b-99de-569fbb425bb7",
   "metadata": {},
   "outputs": [
    {
     "name": "stdout",
     "output_type": "stream",
     "text": [
      "(1, 3, 5, 7, 9)\n"
     ]
    }
   ],
   "source": [
    "# Q-11\n",
    "odd_numbers = tuple(num for num in range(1, 11) if num % 2 != 0)\n",
    "print(odd_numbers)"
   ]
  },
  {
   "cell_type": "code",
   "execution_count": 14,
   "id": "f3afb1b4-fbeb-4e51-a720-7549cc17c96f",
   "metadata": {},
   "outputs": [
    {
     "name": "stdout",
     "output_type": "stream",
     "text": [
      "(1, 2, 3, 4, 5, 6)\n"
     ]
    }
   ],
   "source": [
    "# Q-12\n",
    "tuple1 = (1, 2, 3)\n",
    "tuple2 = (4, 5, 6)\n",
    "concatenated_tuple = tuple1 + tuple2\n",
    "\n",
    "print(concatenated_tuple)"
   ]
  },
  {
   "cell_type": "code",
   "execution_count": 1,
   "id": "413076ab-bb99-46e4-8f0e-94c252ecf5ee",
   "metadata": {},
   "outputs": [
    {
     "name": "stdout",
     "output_type": "stream",
     "text": [
      "(1, 2, 3, 4, 5, 1, 2, 3, 4, 5, 1, 2, 3, 4, 5)\n"
     ]
    }
   ],
   "source": [
    "# Q-13\n",
    "my_tuple = (1, 2, 3, 4, 5)\n",
    "repeated_tuple = my_tuple * 3\n",
    "\n",
    "print(repeated_tuple)"
   ]
  },
  {
   "cell_type": "code",
   "execution_count": 2,
   "id": "d6ca3ed9-2eb9-4d27-b86b-be2d16d2366b",
   "metadata": {},
   "outputs": [
    {
     "name": "stdout",
     "output_type": "stream",
     "text": [
      "The tuple is empty.\n"
     ]
    }
   ],
   "source": [
    "# Q-14\n",
    "my_tuple = ()\n",
    "\n",
    "if len(my_tuple) == 0:\n",
    "    print(\"The tuple is empty.\")\n",
    "else:\n",
    "    print(\"The tuple is not empty.\")"
   ]
  },
  {
   "cell_type": "code",
   "execution_count": 3,
   "id": "d7f126ba-ab9b-4b3b-b49c-43a56e1ccac8",
   "metadata": {},
   "outputs": [
    {
     "name": "stdout",
     "output_type": "stream",
     "text": [
      "((1, 2), (3, 4), (5, 6))\n"
     ]
    }
   ],
   "source": [
    "# Q-15\n",
    "nested_tuple = ((1, 2), (3, 4), (5, 6))\n",
    "print(nested_tuple)"
   ]
  },
  {
   "cell_type": "code",
   "execution_count": 5,
   "id": "6c4227bd-33ca-43ae-a5bc-75bbab3c2bdc",
   "metadata": {},
   "outputs": [
    {
     "name": "stdout",
     "output_type": "stream",
     "text": [
      "(1, 2)\n"
     ]
    }
   ],
   "source": [
    "# Q-16\n",
    "nested_tuple = ((1, 2), (3, 4), (5, 6))\n",
    "first_element = nested_tuple[0]\n",
    "print(first_element)"
   ]
  },
  {
   "cell_type": "code",
   "execution_count": 10,
   "id": "450c0991-14ef-4383-a5e2-70b60ff18410",
   "metadata": {},
   "outputs": [
    {
     "name": "stdout",
     "output_type": "stream",
     "text": [
      "(1,)\n"
     ]
    }
   ],
   "source": [
    "# Q-17\n",
    "my_tuple = (1,)\n",
    "print(my_tuple)"
   ]
  },
  {
   "cell_type": "code",
   "execution_count": 11,
   "id": "7e4ecf07-0fb1-459f-8838-7437304d4eec",
   "metadata": {},
   "outputs": [
    {
     "name": "stdout",
     "output_type": "stream",
     "text": [
      "Tuples are not equal\n",
      "Tuples are not equal\n"
     ]
    }
   ],
   "source": [
    "# Q-18\n",
    "tuple1 = (1, 2, 3)\n",
    "tuple2 = (1, 2, 4)\n",
    "\n",
    "# equality\n",
    "if tuple1 == tuple2:\n",
    "    print(\"Tuples are equal\")\n",
    "else:\n",
    "    print(\"Tuples are not equal\")\n",
    "\n",
    "# inequality\n",
    "if tuple1 != tuple2:\n",
    "    print(\"Tuples are not equal\")\n",
    "else:\n",
    "    print(\"Tuples are equal\")"
   ]
  },
  {
   "cell_type": "code",
   "execution_count": 12,
   "id": "b1ab9942-81d2-45f7-b1c5-a00e38b5f9cf",
   "metadata": {},
   "outputs": [],
   "source": [
    "# Q-19\n",
    "my_tuple = (1, 2, 3, 4, 5)\n",
    "del my_tuple"
   ]
  },
  {
   "cell_type": "code",
   "execution_count": 14,
   "id": "79a1745e-3683-42e8-b5ec-b32c556918b4",
   "metadata": {},
   "outputs": [
    {
     "name": "stdout",
     "output_type": "stream",
     "text": [
      "(5, 6, 7)\n"
     ]
    }
   ],
   "source": [
    "# Q-20\n",
    "my_tuple = (1, 2, 3, 4, 5, 6, 7, 8, 9, 10)\n",
    "sliced_tuple = my_tuple[4:7]\n",
    "\n",
    "print(sliced_tuple)"
   ]
  },
  {
   "cell_type": "code",
   "execution_count": 15,
   "id": "fc17e952-d4a9-438a-b4d0-b52949322699",
   "metadata": {},
   "outputs": [
    {
     "name": "stdout",
     "output_type": "stream",
     "text": [
      "Maximum value in the tuple: 15\n"
     ]
    }
   ],
   "source": [
    "# Q-21\n",
    "my_tuple = (5, 10, 2, 8, 15)\n",
    "max_value = max(my_tuple)\n",
    "\n",
    "print(\"Maximum value in the tuple:\", max_value)"
   ]
  },
  {
   "cell_type": "code",
   "execution_count": 16,
   "id": "76b4244a-08df-4433-a4f4-4e6aa5513912",
   "metadata": {},
   "outputs": [
    {
     "name": "stdout",
     "output_type": "stream",
     "text": [
      "Minimum value in the tuple: 2\n"
     ]
    }
   ],
   "source": [
    "# Q-22\n",
    "my_tuple = (5, 10, 2, 8, 15)\n",
    "min_value = min(my_tuple)\n",
    "\n",
    "print(\"Minimum value in the tuple:\", min_value)"
   ]
  },
  {
   "cell_type": "code",
   "execution_count": 18,
   "id": "cfbe71c7-a61d-4490-919d-7bd93fe2cb18",
   "metadata": {},
   "outputs": [
    {
     "name": "stdout",
     "output_type": "stream",
     "text": [
      "('R', 'a', 'h', 'u', 'l', '_', 'k', 'u', 'm', 'a', 'r')\n"
     ]
    }
   ],
   "source": [
    "# Q-23\n",
    "my_string = \"Rahul_kumar\"\n",
    "tuple_of_characters = tuple(my_string)\n",
    "\n",
    "print(tuple_of_characters)"
   ]
  },
  {
   "cell_type": "code",
   "execution_count": 21,
   "id": "131bbf12-7688-4724-98d9-6d262cf73469",
   "metadata": {},
   "outputs": [
    {
     "name": "stdout",
     "output_type": "stream",
     "text": [
      "Rahul\n"
     ]
    }
   ],
   "source": [
    "# Q-24\n",
    "tuple_of_characters = ('R','a','h','u','l')\n",
    "string_from_tuple = ''.join(tuple_of_characters)\n",
    "\n",
    "print(string_from_tuple)"
   ]
  },
  {
   "cell_type": "code",
   "execution_count": 23,
   "id": "915a9937-8caf-4584-a12d-73265d07f59f",
   "metadata": {},
   "outputs": [
    {
     "name": "stdout",
     "output_type": "stream",
     "text": [
      "(1, 'rahul', 1.01, True)\n"
     ]
    }
   ],
   "source": [
    "# Q-25\n",
    "mixed_tuple = (1, \"rahul\", 1.01, True)\n",
    "print(mixed_tuple)"
   ]
  },
  {
   "cell_type": "code",
   "execution_count": 24,
   "id": "a26c79c7-070e-4c2b-a2c3-a78bd3d24877",
   "metadata": {},
   "outputs": [
    {
     "name": "stdout",
     "output_type": "stream",
     "text": [
      "Tuples are identical.\n"
     ]
    }
   ],
   "source": [
    "# Q-26\n",
    "tuple1 = (1, 2, 3)\n",
    "tuple2 = (1, 2, 3)\n",
    "\n",
    "if tuple1 == tuple2:\n",
    "    print(\"Tuples are identical.\")\n",
    "else:\n",
    "    print(\"Tuples are not identical.\")"
   ]
  },
  {
   "cell_type": "code",
   "execution_count": 25,
   "id": "a78ae421-6ea4-42e2-95b8-df03e3681100",
   "metadata": {},
   "outputs": [
    {
     "name": "stdout",
     "output_type": "stream",
     "text": [
      "(1, 2, 3, 4, 5)\n"
     ]
    }
   ],
   "source": [
    "# Q-27\n",
    "my_tuple = (3, 1, 5, 2, 4)\n",
    "sorted_list = sorted(my_tuple)\n",
    "sorted_tuple = tuple(sorted_list)\n",
    "\n",
    "print(sorted_tuple)"
   ]
  },
  {
   "cell_type": "code",
   "execution_count": 26,
   "id": "4158aa34-4e81-4736-9e67-631ad9aeacd1",
   "metadata": {},
   "outputs": [
    {
     "name": "stdout",
     "output_type": "stream",
     "text": [
      "('1', '2', '3', '4', '5')\n"
     ]
    }
   ],
   "source": [
    "# Q-28\n",
    "tuple_of_integers = (1, 2, 3, 4, 5)\n",
    "tuple_of_strings = tuple(str(integer) for integer in tuple_of_integers)\n",
    "\n",
    "print(tuple_of_strings)"
   ]
  },
  {
   "cell_type": "code",
   "execution_count": 28,
   "id": "a3be763e-85bc-41a9-8dde-1070e8574c38",
   "metadata": {},
   "outputs": [
    {
     "name": "stdout",
     "output_type": "stream",
     "text": [
      "(1, 2, 3, 4, 5)\n"
     ]
    }
   ],
   "source": [
    "# Q-29\n",
    "tuple_of_string = ('1', '2', '3', '4', '5')\n",
    "tuple_of_integers = tuple(int(integer) for integer in tuple_of_string)\n",
    "\n",
    "print(tuple_of_strings)"
   ]
  },
  {
   "cell_type": "code",
   "execution_count": 29,
   "id": "035ec992-a504-4f43-85e0-db87c275c547",
   "metadata": {},
   "outputs": [
    {
     "name": "stdout",
     "output_type": "stream",
     "text": [
      "(1, 2, 3, 4, 5, 6)\n"
     ]
    }
   ],
   "source": [
    "# Q-30\n",
    "tuple1 = (1, 2, 3)\n",
    "tuple2 = (4, 5, 6)\n",
    "merged_tuple = tuple1 + tuple2\n",
    "\n",
    "print(merged_tuple)"
   ]
  },
  {
   "cell_type": "code",
   "execution_count": 30,
   "id": "0a1dc930-35b8-4816-9865-85ff6f6794ea",
   "metadata": {},
   "outputs": [
    {
     "name": "stdout",
     "output_type": "stream",
     "text": [
      "(1, 2, 3, 4, 5, 6, 7, 8, 9, 10)\n"
     ]
    }
   ],
   "source": [
    "# Q-31\n",
    "def flatten_tuple(nested_tuple):\n",
    "    flattened = []\n",
    "    for item in nested_tuple:\n",
    "        if isinstance(item, tuple):\n",
    "            flattened.extend(flatten_tuple(item))\n",
    "        else:\n",
    "            flattened.append(item)\n",
    "    return tuple(flattened)\n",
    "\n",
    "nested_tuple = ((1, 2), (3, (4, 5)), 6, (7, 8, (9, 10)))\n",
    "flattened_tuple = flatten_tuple(nested_tuple)\n",
    "\n",
    "print(flattened_tuple)"
   ]
  },
  {
   "cell_type": "code",
   "execution_count": 5,
   "id": "eb70c7d1-a81a-40d2-a0cd-558576fa5562",
   "metadata": {},
   "outputs": [
    {
     "name": "stdout",
     "output_type": "stream",
     "text": [
      "(2, 3, 5, 7, 11)\n"
     ]
    }
   ],
   "source": [
    "# Q-32\n",
    "def is_prime(n):\n",
    "    if n <= 1:\n",
    "        return False\n",
    "    for i in range(2, int(n**0.5) + 1):\n",
    "        if n % i == 0:\n",
    "            return False\n",
    "    return True\n",
    " \n",
    "primes = tuple(x for x in range(1,12) if is_prime(x))\n",
    "print(primes)"
   ]
  },
  {
   "cell_type": "code",
   "execution_count": 6,
   "id": "06c8f08b-73fd-469f-a648-a716f101c40f",
   "metadata": {},
   "outputs": [
    {
     "name": "stdout",
     "output_type": "stream",
     "text": [
      "Is (1, 2, 3, 2, 1) a palindrome? True\n",
      "Is (1, 2, 3, 4, 5) a palindrome? False\n"
     ]
    }
   ],
   "source": [
    "# Q-33\n",
    "def is_palindrome_tuple(input_tuple):\n",
    "    return input_tuple == input_tuple[::-1]\n",
    "palindrome_tuple = (1, 2, 3, 2, 1)\n",
    "non_palindrome_tuple = (1, 2, 3, 4, 5)\n",
    "\n",
    "print(\"Is\", palindrome_tuple, \"a palindrome?\", is_palindrome_tuple(palindrome_tuple))\n",
    "print(\"Is\", non_palindrome_tuple, \"a palindrome?\", is_palindrome_tuple(non_palindrome_tuple))"
   ]
  },
  {
   "cell_type": "code",
   "execution_count": 7,
   "id": "de3bdda8-3326-4dc7-b933-81686cc4c71c",
   "metadata": {},
   "outputs": [
    {
     "name": "stdout",
     "output_type": "stream",
     "text": [
      "(1, 4, 9, 16, 25)\n"
     ]
    }
   ],
   "source": [
    "# Q-34\n",
    "squares_tuple = tuple(i ** 2 for i in range(1, 6))\n",
    "print(squares_tuple)"
   ]
  },
  {
   "cell_type": "code",
   "execution_count": 8,
   "id": "dde35c50-f5c1-4301-9955-667715fb6432",
   "metadata": {},
   "outputs": [
    {
     "name": "stdout",
     "output_type": "stream",
     "text": [
      "(1, 3, 5, 7, 9)\n"
     ]
    }
   ],
   "source": [
    "# Q-35\n",
    "my_tuple = (1, 2, 3, 4, 5, 6, 7, 8, 9, 10)\n",
    "filtered_tuple = tuple(item for item in my_tuple if item % 2 != 0)\n",
    "\n",
    "print(filtered_tuple)"
   ]
  },
  {
   "cell_type": "code",
   "execution_count": 9,
   "id": "ca398cf5-62f8-4ffc-a58b-382df3242fb5",
   "metadata": {},
   "outputs": [
    {
     "name": "stdout",
     "output_type": "stream",
     "text": [
      "(2, 4, 6, 8, 10)\n"
     ]
    }
   ],
   "source": [
    "# Q-36\n",
    "my_tuple = (1, 2, 3, 4, 5)\n",
    "multiplied_tuple = tuple(item * 2 for item in my_tuple)\n",
    "\n",
    "print(multiplied_tuple)"
   ]
  },
  {
   "cell_type": "code",
   "execution_count": 10,
   "id": "f32f8c1c-93ec-4d8b-861e-0590be94437a",
   "metadata": {},
   "outputs": [
    {
     "name": "stdout",
     "output_type": "stream",
     "text": [
      "(13, 26, 26, 30, 82)\n"
     ]
    }
   ],
   "source": [
    "# Q-37\n",
    "import random\n",
    "random_tuple = tuple(random.randint(1, 100) for _ in range(5))\n",
    "\n",
    "print(random_tuple)"
   ]
  },
  {
   "cell_type": "code",
   "execution_count": 11,
   "id": "61c87d5c-f86a-4d18-9afa-f862dddb4e25",
   "metadata": {},
   "outputs": [
    {
     "name": "stdout",
     "output_type": "stream",
     "text": [
      "Is (1, 2, 3, 4, 5) sorted? True\n",
      "Is (5, 4, 3, 2, 1) sorted? False\n"
     ]
    }
   ],
   "source": [
    "# Q-38\n",
    "def is_sorted_tuple(input_tuple):\n",
    "    return input_tuple == tuple(sorted(input_tuple))\n",
    "sorted_tuple = (1, 2, 3, 4, 5)\n",
    "unsorted_tuple = (5, 4, 3, 2, 1)\n",
    "\n",
    "print(\"Is\", sorted_tuple, \"sorted?\", is_sorted_tuple(sorted_tuple))\n",
    "print(\"Is\", unsorted_tuple, \"sorted?\", is_sorted_tuple(unsorted_tuple))"
   ]
  },
  {
   "cell_type": "code",
   "execution_count": 12,
   "id": "7bb3bf44-d19f-464c-8c87-6c69ce976e42",
   "metadata": {},
   "outputs": [
    {
     "name": "stdout",
     "output_type": "stream",
     "text": [
      "Original tuple: (1, 2, 3, 4, 5)\n",
      "Rotated tuple: (3, 4, 5, 1, 2)\n"
     ]
    }
   ],
   "source": [
    "# Q-39\n",
    "def rotate_left_tuple(input_tuple, n):\n",
    "    length = len(input_tuple)\n",
    "    return input_tuple[n % length:] + input_tuple[:n % length]\n",
    "my_tuple = (1, 2, 3, 4, 5)\n",
    "\n",
    "rotated_tuple = rotate_left_tuple(my_tuple, 2)\n",
    "print(\"Original tuple:\", my_tuple)\n",
    "print(\"Rotated tuple:\", rotated_tuple)"
   ]
  },
  {
   "cell_type": "code",
   "execution_count": 13,
   "id": "a6b31c0a-f252-4f5a-9b5f-35f85b689df2",
   "metadata": {},
   "outputs": [
    {
     "name": "stdout",
     "output_type": "stream",
     "text": [
      "Original tuple: (1, 2, 3, 4, 5)\n",
      "Rotated tuple: (4, 5, 1, 2, 3)\n"
     ]
    }
   ],
   "source": [
    "# Q-40\n",
    "def rotate_right_tuple(input_tuple, n):\n",
    "    length = len(input_tuple)\n",
    "    return input_tuple[-(n % length):] + input_tuple[:-(n % length)]\n",
    "my_tuple = (1, 2, 3, 4, 5)\n",
    "\n",
    "rotated_tuple = rotate_right_tuple(my_tuple, 2)\n",
    "print(\"Original tuple:\", my_tuple)\n",
    "print(\"Rotated tuple:\", rotated_tuple)"
   ]
  },
  {
   "cell_type": "code",
   "execution_count": 14,
   "id": "78546815-669a-40ae-926a-ef841ea0a50e",
   "metadata": {},
   "outputs": [
    {
     "name": "stdout",
     "output_type": "stream",
     "text": [
      "(0, 1, 1, 2, 3)\n"
     ]
    }
   ],
   "source": [
    "# Q-41\n",
    "def fibonacci(n):\n",
    "    fib_sequence = [0, 1]\n",
    "    for i in range(2, n):\n",
    "        fib_sequence.append(fib_sequence[-1] + fib_sequence[-2])\n",
    "    return tuple(fib_sequence)\n",
    "fibonacci_tuple = fibonacci(5)\n",
    "\n",
    "print(fibonacci_tuple)"
   ]
  },
  {
   "cell_type": "code",
   "execution_count": 15,
   "id": "ca4ade1d-80e2-498d-9951-afa9380f34c3",
   "metadata": {},
   "outputs": [
    {
     "name": "stdin",
     "output_type": "stream",
     "text": [
      "Enter elements separated by commas:  1,2,3,4,5\n"
     ]
    },
    {
     "name": "stdout",
     "output_type": "stream",
     "text": [
      "Tuple created from user input: ('1', '2', '3', '4', '5')\n"
     ]
    }
   ],
   "source": [
    "# Q-42\n",
    "user_input = input(\"Enter elements separated by commas: \")\n",
    "user_input_list = user_input.split(',')\n",
    "user_input_tuple = tuple(user_input_list)\n",
    "\n",
    "print(\"Tuple created from user input:\", user_input_tuple)"
   ]
  },
  {
   "cell_type": "code",
   "execution_count": 16,
   "id": "9342f61c-ce6c-41d4-bfaa-39c4e5d2ebcb",
   "metadata": {},
   "outputs": [
    {
     "name": "stdout",
     "output_type": "stream",
     "text": [
      "Original tuple: (1, 2, 3, 4, 5)\n",
      "Swapped tuple: (1, 4, 3, 2, 5)\n"
     ]
    }
   ],
   "source": [
    "# Q-43\n",
    "def swap_elements(input_tuple, idx1, idx2):\n",
    "    temp_list = list(input_tuple)\n",
    "    temp_list[idx1], temp_list[idx2] = temp_list[idx2], temp_list[idx1]\n",
    "    return tuple(temp_list)\n",
    "my_tuple = (1, 2, 3, 4, 5)\n",
    "swapped_tuple = swap_elements(my_tuple, 1, 3)\n",
    "\n",
    "print(\"Original tuple:\", my_tuple)\n",
    "print(\"Swapped tuple:\", swapped_tuple)"
   ]
  },
  {
   "cell_type": "code",
   "execution_count": 17,
   "id": "8105b8df-5717-4554-b7b6-17846f622967",
   "metadata": {},
   "outputs": [
    {
     "name": "stdout",
     "output_type": "stream",
     "text": [
      "Original tuple: (1, 2, 3, 4, 5)\n",
      "Reversed tuple: (5, 4, 3, 2, 1)\n"
     ]
    }
   ],
   "source": [
    "# Q-44\n",
    "def reverse_tuple(input_tuple):\n",
    "    return input_tuple[::-1]\n",
    "my_tuple = (1, 2, 3, 4, 5)\n",
    "reversed_tuple = reverse_tuple(my_tuple)\n",
    "\n",
    "print(\"Original tuple:\", my_tuple)\n",
    "print(\"Reversed tuple:\", reversed_tuple)"
   ]
  },
  {
   "cell_type": "code",
   "execution_count": 18,
   "id": "98ece06e-8ec3-47ab-be1a-10176772c215",
   "metadata": {},
   "outputs": [
    {
     "name": "stdout",
     "output_type": "stream",
     "text": [
      "Tuple of the first 5 powers of 2: (1, 2, 4, 8, 16)\n"
     ]
    }
   ],
   "source": [
    "# Q-45\n",
    "def powers_of_2(n):\n",
    "    return tuple(2 ** i for i in range(n))\n",
    "n = 5\n",
    "powers_tuple = powers_of_2(n)\n",
    "\n",
    "print(\"Tuple of the first\", n, \"powers of 2:\", powers_tuple)"
   ]
  },
  {
   "cell_type": "code",
   "execution_count": 19,
   "id": "0ca8ff7f-579c-4000-92c6-313956f5f1b2",
   "metadata": {},
   "outputs": [
    {
     "name": "stdout",
     "output_type": "stream",
     "text": [
      "Longest string in the tuple: pomegranate\n"
     ]
    }
   ],
   "source": [
    "# Q-46\n",
    "def longest_string_in_tuple(tuple_of_strings):\n",
    "    longest_string = \"\"\n",
    "    for string in tuple_of_strings:\n",
    "        if len(string) > len(longest_string):\n",
    "            longest_string = string\n",
    "    return longest_string\n",
    "my_tuple = (\"apple\", \"banana\", \"orange\", \"grapes\", \"pomegranate\")\n",
    "longest = longest_string_in_tuple(my_tuple)\n",
    "\n",
    "print(\"Longest string in the tuple:\", longest)"
   ]
  },
  {
   "cell_type": "code",
   "execution_count": 25,
   "id": "8b2fa24a-a428-4ada-8dc1-c27afd51d00f",
   "metadata": {},
   "outputs": [
    {
     "name": "stdout",
     "output_type": "stream",
     "text": [
      "Shortest string in the tuple: apple\n"
     ]
    }
   ],
   "source": [
    "# Q-47\n",
    "def shortest_string_in_tuple(tuple_of_strings):\n",
    "    shortest_string = tuple_of_strings[0]\n",
    "    for string in tuple_of_strings[1:]:\n",
    "        if len(string) < len(shortest_string):\n",
    "            shortest_string = string\n",
    "    return shortest_string\n",
    "my_tuple = (\"apple\", \"banana\", \"orange\", \"grapes\", \"pomegranate\")\n",
    "shortest = shortest_string_in_tuple(my_tuple)\n",
    "\n",
    "print(\"Shortest string in the tuple:\", shortest)"
   ]
  },
  {
   "cell_type": "code",
   "execution_count": 27,
   "id": "5793797d-fcc4-4205-9edc-87709e1964d9",
   "metadata": {},
   "outputs": [
    {
     "name": "stdout",
     "output_type": "stream",
     "text": [
      "Tuple of the first 3 triangular numbers: (1, 3, 6)\n"
     ]
    }
   ],
   "source": [
    "# Q-48\n",
    "def triangular_numbers(n):\n",
    "    return tuple((i * (i + 1)) // 2 for i in range(1, n + 1))\n",
    "n = 3\n",
    "triangular_tuple = triangular_numbers(n)\n",
    "\n",
    "print(\"Tuple of the first\", n, \"triangular numbers:\", triangular_tuple)"
   ]
  },
  {
   "cell_type": "code",
   "execution_count": 28,
   "id": "17e8885e-79fe-4af8-b765-dec996db2db6",
   "metadata": {},
   "outputs": [],
   "source": [
    "# Q-49\n",
    "# Don't know."
   ]
  },
  {
   "cell_type": "code",
   "execution_count": 29,
   "id": "32924e2d-304e-491a-8c0e-e748ee290bf7",
   "metadata": {},
   "outputs": [
    {
     "name": "stdout",
     "output_type": "stream",
     "text": [
      "Tuple of alternating 1s and 0s of length 6 : (1, 0, 1, 0, 1, 0)\n"
     ]
    }
   ],
   "source": [
    "# Q-50\n",
    "def alternating_ones_zeros(n):\n",
    "    return tuple(1 if i % 2 == 0 else 0 for i in range(n))\n",
    "n = 6\n",
    "alternating_tuple = alternating_ones_zeros(n)\n",
    "\n",
    "print(\"Tuple of alternating 1s and 0s of length\", n, \":\", alternating_tuple)"
   ]
  },
  {
   "cell_type": "code",
   "execution_count": 30,
   "id": "855e576f-e9cc-4992-8fbb-b571095b06b5",
   "metadata": {},
   "outputs": [
    {
     "name": "stdout",
     "output_type": "stream",
     "text": [
      "{1, 2, 3, 4, 5}\n"
     ]
    }
   ],
   "source": [
    "# Set based assignment problems.\n",
    "# Q-1\n",
    "my_set = {1, 2, 3, 4, 5}\n",
    "print(my_set)"
   ]
  },
  {
   "cell_type": "code",
   "execution_count": 31,
   "id": "58fb86bf-b587-44cc-886b-fb733d5a697f",
   "metadata": {},
   "outputs": [
    {
     "name": "stdout",
     "output_type": "stream",
     "text": [
      "{1, 2, 3, 4, 5, 6}\n"
     ]
    }
   ],
   "source": [
    "# Q-2\n",
    "my_set = {1, 2, 3, 4, 5}\n",
    "my_set.add(6)\n",
    "\n",
    "print(my_set)"
   ]
  },
  {
   "cell_type": "code",
   "execution_count": 33,
   "id": "4a536799-900d-4fcb-bb77-378f444490e8",
   "metadata": {},
   "outputs": [
    {
     "name": "stdout",
     "output_type": "stream",
     "text": [
      "{1, 2, 4, 5}\n"
     ]
    }
   ],
   "source": [
    "# Q-3\n",
    "my_set = {1, 2, 3, 4, 5}\n",
    "my_set.remove(3)\n",
    "\n",
    "print(my_set)"
   ]
  },
  {
   "cell_type": "code",
   "execution_count": 34,
   "id": "d683398a-b7a2-4277-85eb-b5e83679b4e3",
   "metadata": {},
   "outputs": [
    {
     "name": "stdout",
     "output_type": "stream",
     "text": [
      "Element 3 exists in the set\n"
     ]
    }
   ],
   "source": [
    "# Q-4\n",
    "my_set = {1, 2, 3, 4, 5}\n",
    "if 3 in my_set:\n",
    "    print(\"Element 3 exists in the set\")\n",
    "else:\n",
    "    print(\"Element 3 does not exist in the set\")"
   ]
  },
  {
   "cell_type": "code",
   "execution_count": 35,
   "id": "4c69d8f7-b8a9-4128-bb4b-d288b09dcabf",
   "metadata": {},
   "outputs": [
    {
     "name": "stdout",
     "output_type": "stream",
     "text": [
      "Length of the set: 5\n"
     ]
    }
   ],
   "source": [
    "# Q-5\n",
    "def set_length(input_set):\n",
    "    count = 0\n",
    "    for _ in input_set:\n",
    "        count += 1\n",
    "    return count\n",
    "my_set = {1, 2, 3, 4, 5}\n",
    "\n",
    "length = set_length(my_set)\n",
    "print(\"Length of the set:\", length)"
   ]
  },
  {
   "cell_type": "code",
   "execution_count": 36,
   "id": "7833c2b4-cdc0-49bd-a96b-437c6bb42e08",
   "metadata": {},
   "outputs": [
    {
     "name": "stdout",
     "output_type": "stream",
     "text": [
      "Set after clearing: set()\n"
     ]
    }
   ],
   "source": [
    "# Q-6\n",
    "my_set = {1, 2, 3, 4, 5}\n",
    "my_set.clear()\n",
    "\n",
    "print(\"Set after clearing:\", my_set)"
   ]
  },
  {
   "cell_type": "code",
   "execution_count": 37,
   "id": "93a4c633-fb12-4b3e-ae3a-a138952ded36",
   "metadata": {},
   "outputs": [
    {
     "name": "stdout",
     "output_type": "stream",
     "text": [
      "{2, 4, 6, 8, 10}\n"
     ]
    }
   ],
   "source": [
    "# Q-7\n",
    "even_numbers_set = {num for num in range(1, 11) if num % 2 == 0}\n",
    "\n",
    "print(even_numbers_set)"
   ]
  },
  {
   "cell_type": "code",
   "execution_count": 38,
   "id": "450415ac-f46d-418b-b4e5-4ee4cd4ddc97",
   "metadata": {},
   "outputs": [
    {
     "name": "stdout",
     "output_type": "stream",
     "text": [
      "{1, 3, 5, 7, 9}\n"
     ]
    }
   ],
   "source": [
    "# Q-8\n",
    "odd_numbers_set = {num for num in range(1, 11) if num % 2 != 0}\n",
    "\n",
    "print(odd_numbers_set)"
   ]
  },
  {
   "cell_type": "code",
   "execution_count": 39,
   "id": "a4342fdb-5dcc-4290-abfa-d9abf93807d9",
   "metadata": {},
   "outputs": [
    {
     "name": "stdout",
     "output_type": "stream",
     "text": [
      "Union of set1 and set2: {1, 2, 3, 4, 5}\n"
     ]
    }
   ],
   "source": [
    "# Q-9\n",
    "set1 = {1, 2, 3}\n",
    "set2 = {3, 4, 5}\n",
    "union_set = set1.union(set2)\n",
    "\n",
    "print(\"Union of set1 and set2:\", union_set)"
   ]
  },
  {
   "cell_type": "code",
   "execution_count": 40,
   "id": "94b8d500-619f-4e62-9926-3172c56591d2",
   "metadata": {},
   "outputs": [
    {
     "name": "stdout",
     "output_type": "stream",
     "text": [
      "Intersection of set1 and set2: {3}\n"
     ]
    }
   ],
   "source": [
    "# Q-10\n",
    "set1 = {1, 2, 3}\n",
    "set2 = {3, 4, 5}\n",
    "intersection_set = set1.intersection(set2)\n",
    "\n",
    "print(\"Intersection of set1 and set2:\", intersection_set)"
   ]
  },
  {
   "cell_type": "code",
   "execution_count": 41,
   "id": "d3d66779-1d59-449c-8ea3-fe0f727d8989",
   "metadata": {},
   "outputs": [
    {
     "name": "stdout",
     "output_type": "stream",
     "text": [
      "Difference between set1 and set2: {1, 2}\n"
     ]
    }
   ],
   "source": [
    "# Q-11\n",
    "set1 = {1, 2, 3}\n",
    "set2 = {3, 4, 5}\n",
    "difference_set = set1.difference(set2)\n",
    "\n",
    "print(\"Difference between set1 and set2:\", difference_set)"
   ]
  },
  {
   "cell_type": "code",
   "execution_count": 42,
   "id": "db1c6cbc-eb3e-45c8-8f88-df1fac0cfb14",
   "metadata": {},
   "outputs": [
    {
     "name": "stdout",
     "output_type": "stream",
     "text": [
      "Is set1 a subset of set2? True\n"
     ]
    }
   ],
   "source": [
    "# Q-12\n",
    "set1 = {1, 2, 3}\n",
    "set2 = {1, 2, 3, 4, 5}\n",
    "is_subset = set1.issubset(set2)\n",
    "\n",
    "print(\"Is set1 a subset of set2?\", is_subset)"
   ]
  },
  {
   "cell_type": "code",
   "execution_count": 43,
   "id": "51cd6f46-518e-4df2-8899-cc51d5909d83",
   "metadata": {},
   "outputs": [
    {
     "name": "stdout",
     "output_type": "stream",
     "text": [
      "Is set1 a superset of set2? True\n"
     ]
    }
   ],
   "source": [
    "# Q-13\n",
    "set1 = {1, 2, 3, 4, 5}\n",
    "set2 = {1, 2, 3}\n",
    "is_superset = set1.issuperset(set2)\n",
    "\n",
    "print(\"Is set1 a superset of set2?\", is_superset)"
   ]
  },
  {
   "cell_type": "code",
   "execution_count": 44,
   "id": "9facddd7-2f26-40f6-9a91-0f6ed112bde1",
   "metadata": {},
   "outputs": [
    {
     "name": "stdout",
     "output_type": "stream",
     "text": [
      "{1, 2, 3, 4, 5}\n"
     ]
    }
   ],
   "source": [
    "# Q-14\n",
    "my_list = [1, 2, 3, 4, 5]\n",
    "my_set = set(my_list)\n",
    "\n",
    "print(my_set)"
   ]
  },
  {
   "cell_type": "code",
   "execution_count": 45,
   "id": "07f97554-51a5-4af7-9fa6-79186cb95d22",
   "metadata": {},
   "outputs": [
    {
     "name": "stdout",
     "output_type": "stream",
     "text": [
      "[1, 2, 3, 4, 5]\n"
     ]
    }
   ],
   "source": [
    "# Q-15\n",
    "my_set = {1, 2, 3, 4, 5}\n",
    "my_list = list(my_set)\n",
    "\n",
    "print(my_list)"
   ]
  },
  {
   "cell_type": "code",
   "execution_count": 71,
   "id": "e730b48a-87da-48bc-8041-19b80548ecce",
   "metadata": {},
   "outputs": [
    {
     "name": "stdout",
     "output_type": "stream",
     "text": [
      "Removed random element: 1\n",
      "Set after removal: {2, 3, 4, 5}\n"
     ]
    }
   ],
   "source": [
    "# Q-16\n",
    "import random\n",
    "my_set = {1, 2, 3, 4, 5}\n",
    "random_element = (my_set.pop())\n",
    "\n",
    "print(\"Removed random element:\", random_element)\n",
    "print(\"Set after removal:\", my_set)"
   ]
  },
  {
   "cell_type": "code",
   "execution_count": 53,
   "id": "88b915ab-bc4a-423b-ba74-1977f7e7602f",
   "metadata": {},
   "outputs": [
    {
     "name": "stdout",
     "output_type": "stream",
     "text": [
      "Poped element: 1\n",
      "Set after removal: {2, 3, 4, 5}\n"
     ]
    }
   ],
   "source": [
    "# Q-17\n",
    "my_set = {1, 2, 3, 4, 5}\n",
    "random_element = my_set.pop()\n",
    "\n",
    "print(\"Poped element:\", random_element)\n",
    "print(\"Set after removal:\", my_set)"
   ]
  },
  {
   "cell_type": "code",
   "execution_count": 54,
   "id": "f7e20d2b-f8a3-4e71-b500-e62341ad2ad8",
   "metadata": {},
   "outputs": [
    {
     "name": "stdout",
     "output_type": "stream",
     "text": [
      "Do set1 and set2 have no elements in common? True\n"
     ]
    }
   ],
   "source": [
    "# Q-18\n",
    "set1 = {1, 2, 3}\n",
    "set2 = {4, 5, 6}\n",
    "no_common_elements = set1.isdisjoint(set2)\n",
    "\n",
    "print(\"Do set1 and set2 have no elements in common?\", no_common_elements)"
   ]
  },
  {
   "cell_type": "code",
   "execution_count": 55,
   "id": "477f9e9c-ddd8-4508-97a5-84414eb86d93",
   "metadata": {},
   "outputs": [
    {
     "name": "stdout",
     "output_type": "stream",
     "text": [
      "Symmetric difference between set1 and set2: {1, 2, 5, 6}\n"
     ]
    }
   ],
   "source": [
    "# Q-19\n",
    "set1 = {1, 2, 3, 4}\n",
    "set2 = {3, 4, 5, 6}\n",
    "symmetric_difference_set = set1.symmetric_difference(set2)\n",
    "\n",
    "print(\"Symmetric difference between set1 and set2:\", symmetric_difference_set)"
   ]
  },
  {
   "cell_type": "code",
   "execution_count": 56,
   "id": "6513f5d1-8171-4d16-8860-63e814ad61d8",
   "metadata": {},
   "outputs": [
    {
     "name": "stdout",
     "output_type": "stream",
     "text": [
      "Set1 after updating with elements from set2: {1, 2, 3, 4, 5}\n"
     ]
    }
   ],
   "source": [
    "# Q-20\n",
    "set1 = {1, 2, 3}\n",
    "set2 = {3, 4, 5}\n",
    "set1.update(set2)\n",
    "\n",
    "print(\"Set1 after updating with elements from set2:\", set1)"
   ]
  },
  {
   "cell_type": "code",
   "execution_count": 57,
   "id": "3b150c63-98ea-488e-9102-9afc307dc414",
   "metadata": {},
   "outputs": [
    {
     "name": "stdout",
     "output_type": "stream",
     "text": [
      "{2, 3, 5, 7, 11}\n"
     ]
    }
   ],
   "source": [
    "# Q-21\n",
    "def is_prime(n):\n",
    "    if n <= 1:\n",
    "        return False\n",
    "    for i in range(2, int(n**0.5) + 1):\n",
    "        if n % i == 0:\n",
    "            return False\n",
    "    return True\n",
    " \n",
    "primes = set(x for x in range(1,12) if is_prime(x))\n",
    "print(primes)"
   ]
  },
  {
   "cell_type": "code",
   "execution_count": 58,
   "id": "5cdbb8a1-e62c-4e20-9316-2705abe089dc",
   "metadata": {},
   "outputs": [
    {
     "name": "stdout",
     "output_type": "stream",
     "text": [
      "The sets are identical.\n"
     ]
    }
   ],
   "source": [
    "# Q-22\n",
    "set1 = {1, 2, 3}\n",
    "set2 = {1, 2, 3}\n",
    "\n",
    "if set1 == set2:\n",
    "    print(\"The sets are identical.\")\n",
    "else:\n",
    "    print(\"The sets are not identical.\")"
   ]
  },
  {
   "cell_type": "code",
   "execution_count": 59,
   "id": "ad3c7b1c-65f1-4aab-b876-a5f9b8e8689e",
   "metadata": {},
   "outputs": [
    {
     "name": "stdout",
     "output_type": "stream",
     "text": [
      "frozenset({1, 2, 3, 4, 5})\n"
     ]
    }
   ],
   "source": [
    "# Q-23\n",
    "my_set = {1, 2, 3, 4, 5}\n",
    "frozen_set = frozenset(my_set)\n",
    "\n",
    "print(frozen_set)"
   ]
  },
  {
   "cell_type": "code",
   "execution_count": 60,
   "id": "f04c5511-13c7-4ac5-aa5c-cce1fba61955",
   "metadata": {},
   "outputs": [
    {
     "name": "stdout",
     "output_type": "stream",
     "text": [
      "The sets are disjoint.\n"
     ]
    }
   ],
   "source": [
    "# Q-24\n",
    "set1 = {1, 2, 3}\n",
    "set2 = {4, 5, 6}\n",
    "\n",
    "if set1.isdisjoint(set2):\n",
    "    print(\"The sets are disjoint.\")\n",
    "else:\n",
    "    print(\"The sets have elements in common.\")"
   ]
  },
  {
   "cell_type": "code",
   "execution_count": 61,
   "id": "a023598e-f09c-4534-9c51-5828d466c27b",
   "metadata": {},
   "outputs": [
    {
     "name": "stdout",
     "output_type": "stream",
     "text": [
      "Set of squares of numbers from 1 to 5: {1, 4, 9, 16, 25}\n"
     ]
    }
   ],
   "source": [
    "# Q-25\n",
    "squares_set = {x ** 2 for x in range(1, 6)}\n",
    "\n",
    "print(\"Set of squares of numbers from 1 to 5:\", squares_set)"
   ]
  },
  {
   "cell_type": "code",
   "execution_count": 62,
   "id": "b67e7708-eeee-4bcb-8234-869d0a5ec177",
   "metadata": {},
   "outputs": [
    {
     "name": "stdout",
     "output_type": "stream",
     "text": [
      "Set with only odd numbers: {1, 3, 5, 7, 9}\n"
     ]
    }
   ],
   "source": [
    "# Q-26\n",
    "original_set = {1, 2, 3, 4, 5, 6, 7, 8, 9, 10}\n",
    "odd_numbers_set = {x for x in original_set if x % 2 != 0}\n",
    "\n",
    "print(\"Set with only odd numbers:\", odd_numbers_set)"
   ]
  },
  {
   "cell_type": "code",
   "execution_count": 63,
   "id": "d713a4d9-0292-4caf-ba16-1d0724708b6e",
   "metadata": {},
   "outputs": [
    {
     "name": "stdout",
     "output_type": "stream",
     "text": [
      "Set with elements multiplied by 2: {2, 4, 6, 8, 10}\n"
     ]
    }
   ],
   "source": [
    "# Q-27\n",
    "original_set = {1, 2, 3, 4, 5}\n",
    "Multiplied_set = {x * 2 for x in original_set}\n",
    "\n",
    "print(\"Set with elements multiplied by 2:\", Multiplied_set)"
   ]
  },
  {
   "cell_type": "code",
   "execution_count": 64,
   "id": "5f950b25-145a-4ddd-9243-6fa8c55e540c",
   "metadata": {},
   "outputs": [
    {
     "name": "stdout",
     "output_type": "stream",
     "text": [
      "Set of random numbers: {3, 6}\n"
     ]
    }
   ],
   "source": [
    "# Q-28\n",
    "import random\n",
    "random_numbers_set = {random.randint(1, 10) for _ in range(5)}\n",
    "\n",
    "print(\"Set of random numbers:\", random_numbers_set)"
   ]
  },
  {
   "cell_type": "code",
   "execution_count": 72,
   "id": "d71cc190-053d-40cc-9e4a-4ce80476241d",
   "metadata": {},
   "outputs": [
    {
     "name": "stdout",
     "output_type": "stream",
     "text": [
      "The set is empty.\n"
     ]
    }
   ],
   "source": [
    "# Q-29\n",
    "my_set = set()\n",
    "\n",
    "if bool(my_set):\n",
    "    print(\"The set is not empty.\")\n",
    "else:\n",
    "    print(\"The set is empty.\")"
   ]
  },
  {
   "cell_type": "code",
   "execution_count": 76,
   "id": "632ee417-057f-4f92-bd0c-5f864e564539",
   "metadata": {},
   "outputs": [
    {
     "name": "stdout",
     "output_type": "stream",
     "text": [
      "Nested set: {frozenset({3, 4, 5}), frozenset({8, 6, 7}), frozenset({1, 2})}\n"
     ]
    }
   ],
   "source": [
    "# Q-30\n",
    "nested_set = {frozenset({1, 2}), frozenset({3, 4, 5}), frozenset({6, 7, 8})}\n",
    "\n",
    "print(\"Nested set:\", nested_set)"
   ]
  },
  {
   "cell_type": "code",
   "execution_count": 77,
   "id": "bd828a3f-4899-45c7-a057-865c3c7b05d3",
   "metadata": {},
   "outputs": [
    {
     "name": "stdout",
     "output_type": "stream",
     "text": [
      "Set after removing element 3: {1, 2, 4, 5}\n"
     ]
    }
   ],
   "source": [
    "# Q-31\n",
    "my_set = {1, 2, 3, 4, 5}\n",
    "my_set.discard(3)\n",
    "\n",
    "print(\"Set after removing element 3:\", my_set)"
   ]
  },
  {
   "cell_type": "code",
   "execution_count": 82,
   "id": "4c9131c1-3c7a-4250-8ce4-11702aed4b24",
   "metadata": {},
   "outputs": [
    {
     "name": "stdout",
     "output_type": "stream",
     "text": [
      "Equality: False\n",
      "Subset: True\n",
      "Superset: False\n",
      "Disjoint: False\n"
     ]
    }
   ],
   "source": [
    "# Q-32\n",
    "set1 = {1, 2, 3}\n",
    "set2 = {1, 2, 3, 4, 5}\n",
    "\n",
    "# Equality\n",
    "print(\"Equality:\", set1 == set2)\n",
    "\n",
    "# Subset\n",
    "print(\"Subset:\", set1.issubset(set2))\n",
    "\n",
    "# Superset\n",
    "print(\"Superset:\", set1.issuperset(set2))\n",
    "\n",
    "# Disjoint\n",
    "print(\"Disjoint:\", set1.isdisjoint(set2))"
   ]
  },
  {
   "cell_type": "code",
   "execution_count": 83,
   "id": "a432a684-11c4-4214-96d5-6afe6e046767",
   "metadata": {},
   "outputs": [
    {
     "name": "stdout",
     "output_type": "stream",
     "text": [
      "Set from string: {'U', 'A', 'R', 'H', 'L'}\n"
     ]
    }
   ],
   "source": [
    "# Q-33\n",
    "my_string = \"RAHUL\"\n",
    "my_set = set(my_string)\n",
    "\n",
    "print(\"Set from string:\", my_set)"
   ]
  },
  {
   "cell_type": "code",
   "execution_count": 84,
   "id": "dd46f739-a462-4932-81d0-a4b3c1f4ac0e",
   "metadata": {},
   "outputs": [
    {
     "name": "stdout",
     "output_type": "stream",
     "text": [
      "Set of integers: {1, 2, 3, 4, 5}\n"
     ]
    }
   ],
   "source": [
    "# Q-34\n",
    "set_of_strings = {\"1\", \"2\", \"3\", \"4\", \"5\"}\n",
    "set_of_integers = {int(string) for string in set_of_strings}\n",
    "\n",
    "print(\"Set of integers:\", set_of_integers)"
   ]
  },
  {
   "cell_type": "code",
   "execution_count": 86,
   "id": "d861f340-05ca-4385-b329-855dc1764919",
   "metadata": {},
   "outputs": [
    {
     "name": "stdout",
     "output_type": "stream",
     "text": [
      "Set of integers: {'4', '1', '2', '5', '3'}\n"
     ]
    }
   ],
   "source": [
    "# Q-35\n",
    "set_of_integers = {1, 2, 3, 4, 5}\n",
    "set_of_string = {str(integer) for integer in set_of_integers}\n",
    "\n",
    "print(\"Set of integers:\", set_of_string)"
   ]
  },
  {
   "cell_type": "code",
   "execution_count": 87,
   "id": "c707e117-54a3-41cb-8ac2-9df56e486be5",
   "metadata": {},
   "outputs": [
    {
     "name": "stdout",
     "output_type": "stream",
     "text": [
      "Set from tuple: {1, 2, 3, 4, 5}\n"
     ]
    }
   ],
   "source": [
    "# Q-36\n",
    "my_tuple = (1, 2, 3, 4, 5)\n",
    "my_set = set(my_tuple)\n",
    "\n",
    "print(\"Set from tuple:\", my_set)"
   ]
  },
  {
   "cell_type": "code",
   "execution_count": 88,
   "id": "c161197c-0ae2-4ed6-b326-243f68db2c11",
   "metadata": {},
   "outputs": [
    {
     "name": "stdout",
     "output_type": "stream",
     "text": [
      "Tuple from set: (1, 2, 3, 4, 5)\n"
     ]
    }
   ],
   "source": [
    "# Q-37\n",
    "my_set = (1, 2, 3, 4, 5)\n",
    "my_tuple = tuple(my_set)\n",
    "\n",
    "print(\"Tuple from set:\", my_tuple)"
   ]
  },
  {
   "cell_type": "code",
   "execution_count": 89,
   "id": "8b47b75c-b06b-4ecc-8baf-3f962315e836",
   "metadata": {},
   "outputs": [
    {
     "name": "stdout",
     "output_type": "stream",
     "text": [
      "Maximum value in the set: 9\n"
     ]
    }
   ],
   "source": [
    "# Q-38\n",
    "my_set = {1, 3, 5, 7, 9}\n",
    "max_value = max(my_set)\n",
    "\n",
    "print(\"Maximum value in the set:\", max_value)"
   ]
  },
  {
   "cell_type": "code",
   "execution_count": 90,
   "id": "01a26f0e-8cfe-4dca-bf84-00e8a5b725cc",
   "metadata": {},
   "outputs": [
    {
     "name": "stdout",
     "output_type": "stream",
     "text": [
      "Minimum value in the set: 1\n"
     ]
    }
   ],
   "source": [
    "# Q-39\n",
    "my_set = {1, 3, 5, 7, 9}\n",
    "min_value = min(my_set)\n",
    "\n",
    "print(\"Minimum value in the set:\", min_value)"
   ]
  },
  {
   "cell_type": "code",
   "execution_count": 91,
   "id": "709841e7-dbaf-41a0-807d-0f7df3abebdb",
   "metadata": {},
   "outputs": [
    {
     "name": "stdin",
     "output_type": "stream",
     "text": [
      "Enter elements separated by spaces:  2,3,8,9\n"
     ]
    },
    {
     "name": "stdout",
     "output_type": "stream",
     "text": [
      "Set from user input: {'2,3,8,9'}\n"
     ]
    }
   ],
   "source": [
    "# Q-40\n",
    "input_string = input(\"Enter elements separated by spaces: \")\n",
    "elements = input_string.split()\n",
    "user_set = set(elements)\n",
    "\n",
    "print(\"Set from user input:\", user_set)"
   ]
  },
  {
   "cell_type": "code",
   "execution_count": 92,
   "id": "91ef739c-576f-4d3e-a3d5-83b07e535085",
   "metadata": {},
   "outputs": [
    {
     "name": "stdout",
     "output_type": "stream",
     "text": [
      "The intersection of set1 and set2 is empty.\n"
     ]
    }
   ],
   "source": [
    "# Q-41\n",
    "set1 = {1, 2, 3}\n",
    "set2 = {4, 5, 6}\n",
    "\n",
    "if set1.isdisjoint(set2):\n",
    "    print(\"The intersection of set1 and set2 is empty.\")\n",
    "else:\n",
    "    print(\"The intersection of set1 and set2 is not empty.\")"
   ]
  },
  {
   "cell_type": "code",
   "execution_count": 95,
   "id": "c5a08ff0-6215-41ec-8aca-979479fe6221",
   "metadata": {},
   "outputs": [
    {
     "name": "stdout",
     "output_type": "stream",
     "text": [
      "Set of the first 5 Fibonacci numbers: {0, 1, 2, 3}\n"
     ]
    }
   ],
   "source": [
    "# Q-42\n",
    "def fibonacci_sequence(n):\n",
    "    fibonacci_set = set()\n",
    "    a, b = 0, 1\n",
    "    for _ in range(n):\n",
    "        fibonacci_set.add(a)\n",
    "        a, b = b, a + b\n",
    "    return fibonacci_set\n",
    "\n",
    "first_5_fibonacci_numbers = fibonacci_sequence(5)\n",
    "\n",
    "print(\"Set of the first 5 Fibonacci numbers:\", first_5_fibonacci_numbers)"
   ]
  },
  {
   "cell_type": "code",
   "execution_count": 96,
   "id": "6b5267ee-846f-4e2f-b073-ec15a2f4b073",
   "metadata": {},
   "outputs": [
    {
     "name": "stdout",
     "output_type": "stream",
     "text": [
      "List with duplicates removed: [1, 2, 3, 4, 5]\n"
     ]
    }
   ],
   "source": [
    "# Q-43\n",
    "my_list = [1, 2, 3, 3, 4, 4, 5, 5]\n",
    "unique_list = list(set(my_list))\n",
    "\n",
    "print(\"List with duplicates removed:\", unique_list)"
   ]
  },
  {
   "cell_type": "code",
   "execution_count": 97,
   "id": "7acb54b7-4b76-4b74-b6b4-7b3b37e34900",
   "metadata": {},
   "outputs": [
    {
     "name": "stdout",
     "output_type": "stream",
     "text": [
      "set1 and set2 have the same elements regardless of their count.\n",
      "set1 and set3 have the same elements regardless of their count.\n"
     ]
    }
   ],
   "source": [
    "# Q-44\n",
    "set1 = {1, 2, 3}\n",
    "set2 = {3, 2, 1}\n",
    "set3 = {1, 2, 2, 3, 3}\n",
    "\n",
    "if set1 == set2:\n",
    "    print(\"set1 and set2 have the same elements regardless of their count.\")\n",
    "else:\n",
    "    print(\"set1 and set2 do not have the same elements regardless of their count.\")\n",
    "\n",
    "if set1 == set3:\n",
    "    print(\"set1 and set3 have the same elements regardless of their count.\")\n",
    "else:\n",
    "    print(\"set1 and set3 do not have the same elements regardless of their count.\")"
   ]
  },
  {
   "cell_type": "code",
   "execution_count": 98,
   "id": "9fc78f04-504a-4e2b-9ad8-80bf64a0750c",
   "metadata": {},
   "outputs": [
    {
     "name": "stdout",
     "output_type": "stream",
     "text": [
      "Set of the first 5 powers of 2: {1, 2, 4, 8, 16}\n"
     ]
    }
   ],
   "source": [
    "# Q-45\n",
    "n = 5\n",
    "powers_of_2_set = {2 ** i for i in range(n)}\n",
    "\n",
    "print(\"Set of the first\", n, \"powers of 2:\", powers_of_2_set)"
   ]
  },
  {
   "cell_type": "code",
   "execution_count": 99,
   "id": "ab950baa-5a35-4333-b4fb-20ae68c7adc7",
   "metadata": {},
   "outputs": [
    {
     "name": "stdout",
     "output_type": "stream",
     "text": [
      "Common elements: {4, 5}\n"
     ]
    }
   ],
   "source": [
    "# Q-46\n",
    "my_set = {1, 2, 3, 4, 5}\n",
    "my_list = [4, 5, 6, 7, 8]\n",
    "common_elements = my_set.intersection(my_list)\n",
    "\n",
    "print(\"Common elements:\", common_elements)"
   ]
  },
  {
   "cell_type": "code",
   "execution_count": 100,
   "id": "0461527f-e9e2-4cc3-9aec-38fd6b6a9afd",
   "metadata": {},
   "outputs": [
    {
     "name": "stdout",
     "output_type": "stream",
     "text": [
      "Set of the first 5 triangular numbers: {1, 3, 6, 10, 15}\n"
     ]
    }
   ],
   "source": [
    "# Q-47\n",
    "n = 5\n",
    "triangular_numbers_set = {i * (i + 1) // 2 for i in range(1, n + 1)}\n",
    "\n",
    "print(\"Set of the first\", n, \"triangular numbers:\", triangular_numbers_set)"
   ]
  },
  {
   "cell_type": "code",
   "execution_count": 101,
   "id": "4d893f97-1a22-4f0b-9a33-94e22af4be22",
   "metadata": {},
   "outputs": [
    {
     "name": "stdout",
     "output_type": "stream",
     "text": [
      "subset is a subset of set1.\n"
     ]
    }
   ],
   "source": [
    "# Q-48\n",
    "set1 = {1, 2, 3, 4, 5}\n",
    "subset = {2, 3}\n",
    "\n",
    "if subset.issubset(set1):\n",
    "    print(\"subset is a subset of set1.\")\n",
    "else:\n",
    "    print(\"subset is not a subset of set1.\")"
   ]
  },
  {
   "cell_type": "code",
   "execution_count": 102,
   "id": "71db36ce-ba1b-43fd-9c90-d566076324f2",
   "metadata": {},
   "outputs": [],
   "source": [
    "# Q-49\n",
    "# Don't know."
   ]
  },
  {
   "cell_type": "code",
   "execution_count": 103,
   "id": "8599378e-8551-4962-8775-3f12c6bc3c3a",
   "metadata": {},
   "outputs": [
    {
     "name": "stdout",
     "output_type": "stream",
     "text": [
      "Merged set: {1, 2, 3, 4, 5, 6, 7}\n"
     ]
    }
   ],
   "source": [
    "# Q-50\n",
    "set1 = {1, 2, 3}\n",
    "set2 = {3, 4, 5}\n",
    "set3 = {5, 6, 7}\n",
    "\n",
    "merged_set = set1.union(set2, set3)\n",
    "\n",
    "print(\"Merged set:\", merged_set)"
   ]
  },
  {
   "cell_type": "code",
   "execution_count": null,
   "id": "347c2f58-98cb-4bbc-a764-46ff73e039b5",
   "metadata": {},
   "outputs": [],
   "source": []
  }
 ],
 "metadata": {
  "kernelspec": {
   "display_name": "Python 3 (ipykernel)",
   "language": "python",
   "name": "python3"
  },
  "language_info": {
   "codemirror_mode": {
    "name": "ipython",
    "version": 3
   },
   "file_extension": ".py",
   "mimetype": "text/x-python",
   "name": "python",
   "nbconvert_exporter": "python",
   "pygments_lexer": "ipython3",
   "version": "3.10.8"
  }
 },
 "nbformat": 4,
 "nbformat_minor": 5
}
