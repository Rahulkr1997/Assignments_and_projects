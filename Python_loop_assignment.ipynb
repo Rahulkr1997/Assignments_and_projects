{
 "cells": [
  {
   "cell_type": "code",
   "execution_count": 1,
   "id": "9b688f1b-84ae-4507-8ac2-0bfaed131c96",
   "metadata": {},
   "outputs": [
    {
     "name": "stdout",
     "output_type": "stream",
     "text": [
      "1\n",
      "2\n",
      "3\n",
      "4\n",
      "5\n",
      "6\n",
      "7\n",
      "8\n",
      "9\n",
      "10\n"
     ]
    }
   ],
   "source": [
    "# Basic level\n",
    "# Q-1\n",
    "for num in range(1,11):\n",
    "    print(num)"
   ]
  },
  {
   "cell_type": "code",
   "execution_count": 12,
   "id": "c39c823a-9559-4743-8cda-867c42dea3bc",
   "metadata": {},
   "outputs": [
    {
     "name": "stdout",
     "output_type": "stream",
     "text": [
      "Sum of all the numbers in the list : 55\n"
     ]
    }
   ],
   "source": [
    "# Q-2\n",
    "my_list = [1, 2, 3, 4, 5, 6, 7, 8, 9, 10]\n",
    "sum_of_my_list = 0\n",
    "for num in my_list:\n",
    "    sum_of_my_list += num\n",
    "    \n",
    "print(\"Sum of all the numbers in the list :\", sum_of_my_list)"
   ]
  },
  {
   "cell_type": "code",
   "execution_count": 14,
   "id": "06661687-e402-43fd-8ac7-acaa86b1a897",
   "metadata": {},
   "outputs": [
    {
     "name": "stdout",
     "output_type": "stream",
     "text": [
      "ramuk_luhaR"
     ]
    }
   ],
   "source": [
    "# Q-3\n",
    "my_string = \"Rahul_kumar\"\n",
    "for char in reversed(my_string):\n",
    "    print(char, end = \"\")"
   ]
  },
  {
   "cell_type": "code",
   "execution_count": 16,
   "id": "520a47b1-1ad2-4bfc-9ad1-ab4656121d8e",
   "metadata": {},
   "outputs": [
    {
     "name": "stdin",
     "output_type": "stream",
     "text": [
      "Enter a number : 8\n"
     ]
    },
    {
     "name": "stdout",
     "output_type": "stream",
     "text": [
      "Factorial of the given number is : 40320\n"
     ]
    }
   ],
   "source": [
    "# Q-4\n",
    "n = int(input(\"Enter a number :\"))\n",
    "factorial = 1\n",
    "if n >= 1:\n",
    "    for i in range (1,n+1):\n",
    "        factorial = factorial * i\n",
    "print(\"Factorial of the given number is :\",factorial)"
   ]
  },
  {
   "cell_type": "code",
   "execution_count": 21,
   "id": "3a03423b-34c0-4e0f-8708-b285c72e87a3",
   "metadata": {},
   "outputs": [
    {
     "name": "stdin",
     "output_type": "stream",
     "text": [
      "Enter the number you want to generate a multiplication table for : 10\n"
     ]
    },
    {
     "name": "stdout",
     "output_type": "stream",
     "text": [
      "10  *  1  =  10\n",
      "10  *  2  =  20\n",
      "10  *  3  =  30\n",
      "10  *  4  =  40\n",
      "10  *  5  =  50\n",
      "10  *  6  =  60\n",
      "10  *  7  =  70\n",
      "10  *  8  =  80\n",
      "10  *  9  =  90\n",
      "10  *  10  =  100\n"
     ]
    }
   ],
   "source": [
    "# Q=5\n",
    "my_num = int(input(\"Enter the number you want to generate a multiplication table for :\"))\n",
    "my_range = range(1,11)\n",
    "for x in my_range:\n",
    "    result = my_num * x\n",
    "    print(my_num,\" * \",x,\" = \",result)"
   ]
  },
  {
   "cell_type": "code",
   "execution_count": 23,
   "id": "7ceb5294-e364-4d1f-ac2c-ff702d3a3832",
   "metadata": {},
   "outputs": [
    {
     "name": "stdout",
     "output_type": "stream",
     "text": [
      "Total even number in the list is : 5\n",
      "Total odd number in the list is : 6\n"
     ]
    }
   ],
   "source": [
    "# Q-6\n",
    "my_list = [1, 2, 3, 4, 5, 6, 7, 8, 9, 10, 11]\n",
    "even_num = 0\n",
    "odd_num = 0\n",
    "for num in my_list:\n",
    "    if num % 2 == 0:\n",
    "        even_num += 1\n",
    "    else:\n",
    "        odd_num += 1\n",
    "\n",
    "print(\"Total even number in the list is :\",even_num)\n",
    "print(\"Total odd number in the list is :\",odd_num)"
   ]
  },
  {
   "cell_type": "code",
   "execution_count": 30,
   "id": "7ef5ed48-398e-4de6-9f75-b0620f4efa67",
   "metadata": {},
   "outputs": [
    {
     "name": "stdout",
     "output_type": "stream",
     "text": [
      "Square of the 1 is : 1\n",
      "Square of the 2 is : 4\n",
      "Square of the 3 is : 9\n",
      "Square of the 4 is : 16\n",
      "Square of the 5 is : 25\n"
     ]
    }
   ],
   "source": [
    "# Q-7\n",
    "for num in range(1,6):\n",
    "    print(f\"Square of the {num} is : {num**2}\")"
   ]
  },
  {
   "cell_type": "code",
   "execution_count": 33,
   "id": "39720aac-f5c3-43ad-90c0-a316b0787901",
   "metadata": {},
   "outputs": [
    {
     "name": "stdout",
     "output_type": "stream",
     "text": [
      "Length of the string is : 23\n"
     ]
    }
   ],
   "source": [
    "# Q-8\n",
    "my_string = \"Rahul_kumar_is_good_boy\"\n",
    "count = 0\n",
    "for i in my_string:\n",
    "    count += 1\n",
    "print(\"Length of the string is :\",count)"
   ]
  },
  {
   "cell_type": "code",
   "execution_count": 47,
   "id": "a7a532bd-aafd-4fcf-93e0-0e9c3968ae21",
   "metadata": {},
   "outputs": [
    {
     "name": "stdout",
     "output_type": "stream",
     "text": [
      "6.5\n"
     ]
    }
   ],
   "source": [
    "# Q-9\n",
    "my_list = [1, 2, 3, 4, 5, 6, 7, 8, 9, 10, 11, 12]\n",
    "sum_of_my_list = 0\n",
    "for num in my_list:\n",
    "    sum_of_my_list += num\n",
    "average = sum_of_my_list / len(my_list)\n",
    "print(average)"
   ]
  },
  {
   "cell_type": "code",
   "execution_count": 48,
   "id": "3caf2b5d-4dff-4883-bd33-8cdffa3ac83f",
   "metadata": {},
   "outputs": [
    {
     "name": "stdout",
     "output_type": "stream",
     "text": [
      "0 1 1 2 3 5 8 13 21 34 "
     ]
    }
   ],
   "source": [
    "# Q-10\n",
    "num = 10\n",
    "n1, n2 = 0, 1\n",
    "if num == 1:\n",
    "    print(n1)\n",
    "else:\n",
    "    print(n1, n2, end = \" \")\n",
    "    for i in range(2,num):\n",
    "        n3 = n1 + n2\n",
    "        n1 = n2\n",
    "        n2 = n3\n",
    "        print(n3, end = \" \")"
   ]
  },
  {
   "cell_type": "code",
   "execution_count": 6,
   "id": "3a4eed3f-f3de-4c53-807f-20f2f99c530f",
   "metadata": {},
   "outputs": [
    {
     "name": "stdout",
     "output_type": "stream",
     "text": [
      "Contains duplicates  False\n",
      "Contains duplicates  True\n"
     ]
    }
   ],
   "source": [
    "# Intermediate level\n",
    "# Q-11\n",
    "def check_duplicates(my_list):\n",
    "    seen = set()\n",
    "    for item in my_list:\n",
    "        if item in seen:\n",
    "            return True\n",
    "        seen.add(item)\n",
    "    return False\n",
    "my_list = [1, 2, 3, 4, 5, 6, 7, 8, 9, 10]\n",
    "print(\"Contains duplicates \", check_duplicates(my_list))\n",
    "\n",
    "my_list_with_duplicates = [1, 2, 3, 4, 5, 6, 7, 8, 9, 10, 3, 6, 8]\n",
    "print(\"Contains duplicates \", check_duplicates(my_list_with_duplicates))"
   ]
  },
  {
   "cell_type": "code",
   "execution_count": 1,
   "id": "0293776c-2105-4e47-a5f1-8c512d742ac2",
   "metadata": {},
   "outputs": [],
   "source": [
    "# Q-12\n",
    "def print_primes(start, end):\n",
    "    for num in range(start, end + 1):\n",
    "        if num > 1:\n",
    "            for i in range(2, num):\n",
    "                if num % i == 0:\n",
    "                    break\n",
    "            else:\n",
    "                print(num)"
   ]
  },
  {
   "cell_type": "code",
   "execution_count": 3,
   "id": "5f211edc-8769-4bd0-b6c1-bb206a92cb84",
   "metadata": {},
   "outputs": [
    {
     "name": "stdout",
     "output_type": "stream",
     "text": [
      "2\n",
      "3\n",
      "5\n",
      "7\n",
      "11\n",
      "13\n",
      "17\n",
      "19\n",
      "23\n",
      "29\n",
      "31\n",
      "37\n",
      "41\n",
      "43\n",
      "47\n",
      "53\n",
      "59\n",
      "61\n",
      "67\n",
      "71\n",
      "73\n",
      "79\n",
      "83\n",
      "89\n",
      "97\n"
     ]
    }
   ],
   "source": [
    "print_primes(1,100)"
   ]
  },
  {
   "cell_type": "code",
   "execution_count": 5,
   "id": "87b12bc1-d9e8-4d61-af46-319d0a0c8bb1",
   "metadata": {},
   "outputs": [
    {
     "name": "stdout",
     "output_type": "stream",
     "text": [
      "Number of vowels in the string:  4\n"
     ]
    }
   ],
   "source": [
    "# Q-13\n",
    "def count_vowels(input_string):\n",
    "    vowels = 'aeiouAEIOU'\n",
    "    count = 0\n",
    "    for char in input_string:\n",
    "        if char in vowels:\n",
    "            count += 1\n",
    "    return count\n",
    "\n",
    "input_string = \"Rahul_kumar\"\n",
    "print(\"Number of vowels in the string: \", count_vowels(input_string))"
   ]
  },
  {
   "cell_type": "code",
   "execution_count": 9,
   "id": "0b8a56f8-ecbf-4cf5-bb2c-d7e9d8ed14be",
   "metadata": {},
   "outputs": [
    {
     "name": "stdout",
     "output_type": "stream",
     "text": [
      "Maximum element in the 2D list:  30\n"
     ]
    }
   ],
   "source": [
    "# Q-14\n",
    "def find_max_2d_list(lst):\n",
    "    max_element = lst[0][0]\n",
    "    for row in lst:\n",
    "        for element in row:\n",
    "            if element > max_element:\n",
    "                max_element = element\n",
    "    return max_element\n",
    "\n",
    "lst = [[11, 20, 13], [14, 17, 22], [30, 10, 12]]\n",
    "print(\"Maximum element in the 2D list: \", find_max_2d_list(lst))"
   ]
  },
  {
   "cell_type": "code",
   "execution_count": 12,
   "id": "05937ff8-b48c-4002-8ea5-ac5175fb489f",
   "metadata": {},
   "outputs": [
    {
     "name": "stdout",
     "output_type": "stream",
     "text": [
      "Original List: [1, 2, 3, 4, 2, 5, 2, 5, 6, 8]\n",
      "Updated List after removing all occurrences of 5 : [1, 2, 3, 4, 2, 2, 6, 8]\n"
     ]
    }
   ],
   "source": [
    "# Q-15\n",
    "def remove_element(lst, element):\n",
    "    new_lst = [x for x in lst if x != element]\n",
    "    return new_lst\n",
    "\n",
    "original_list = [1, 2, 3, 4, 2, 5, 2, 5, 6, 8]\n",
    "element_to_remove = 5\n",
    "updated_list = remove_element(original_list, element_to_remove)\n",
    "print(\"Original List:\", original_list)\n",
    "print(\"Updated List after removing all occurrences of\", element_to_remove, \":\", updated_list)"
   ]
  },
  {
   "cell_type": "code",
   "execution_count": 15,
   "id": "836e53a6-550a-4c83-8429-eb99b666de6f",
   "metadata": {},
   "outputs": [
    {
     "name": "stdout",
     "output_type": "stream",
     "text": [
      "1 * 1 = 1\n",
      "1 * 2 = 2\n",
      "1 * 3 = 3\n",
      "1 * 4 = 4\n",
      "1 * 5 = 5\n",
      "\n",
      "2 * 1 = 2\n",
      "2 * 2 = 4\n",
      "2 * 3 = 6\n",
      "2 * 4 = 8\n",
      "2 * 5 = 10\n",
      "\n",
      "3 * 1 = 3\n",
      "3 * 2 = 6\n",
      "3 * 3 = 9\n",
      "3 * 4 = 12\n",
      "3 * 5 = 15\n",
      "\n",
      "4 * 1 = 4\n",
      "4 * 2 = 8\n",
      "4 * 3 = 12\n",
      "4 * 4 = 16\n",
      "4 * 5 = 20\n",
      "\n",
      "5 * 1 = 5\n",
      "5 * 2 = 10\n",
      "5 * 3 = 15\n",
      "5 * 4 = 20\n",
      "5 * 5 = 25\n",
      "\n"
     ]
    }
   ],
   "source": [
    "# Q-16\n",
    "def create_multiplication_table():\n",
    "    for i in range(1, 6):\n",
    "        for j in range(1, 6):\n",
    "            print(f\"{i} * {j} = {i * j}\")\n",
    "        print()\n",
    "\n",
    "create_multiplication_table()"
   ]
  },
  {
   "cell_type": "code",
   "execution_count": 17,
   "id": "fc8272fe-9e40-4341-88db-0b5d56266f1f",
   "metadata": {},
   "outputs": [
    {
     "name": "stdout",
     "output_type": "stream",
     "text": [
      "Fahrenheit temperatures: [32, 44, 56, 70]\n",
      "Celsius temperatures: [0.0, 6.666666666666667, 13.333333333333334, 21.11111111111111]\n"
     ]
    }
   ],
   "source": [
    "# Q-17\n",
    "def convert_fahrenheit_to_celsius(fahrenheit_temps):\n",
    "    celsius_temps = []\n",
    "    for temp in fahrenheit_temps:\n",
    "        celsius = (temp - 32) * 5.0/9.0\n",
    "        celsius_temps.append(celsius)\n",
    "    return celsius_temps\n",
    "\n",
    "fahrenheit_temps = [32, 44, 56, 70]\n",
    "celsius_temps = convert_fahrenheit_to_celsius(fahrenheit_temps)\n",
    "print(\"Fahrenheit temperatures:\", fahrenheit_temps)\n",
    "print(\"Celsius temperatures:\", celsius_temps)"
   ]
  },
  {
   "cell_type": "code",
   "execution_count": 18,
   "id": "d44ccef6-9b93-4a96-8886-4144e49d657c",
   "metadata": {},
   "outputs": [
    {
     "name": "stdout",
     "output_type": "stream",
     "text": [
      "Common elements from the two lists: [4, 5]\n"
     ]
    }
   ],
   "source": [
    "# Q-18\n",
    "def find_common_elements(l1, l2):\n",
    "    common_elements = []\n",
    "    for element in l1:\n",
    "        if element in l2 and element not in common_elements:\n",
    "            common_elements.append(element)\n",
    "    return common_elements\n",
    "\n",
    "l1 = [1, 2, 3, 4, 5]\n",
    "l2 = [4, 5, 6, 7, 8]\n",
    "common_elements = find_common_elements(l1, l2)\n",
    "print(\"Common elements from the two lists:\", common_elements)"
   ]
  },
  {
   "cell_type": "code",
   "execution_count": 25,
   "id": "ba186b3f-0fde-4c75-9773-4e9adf2fb3dd",
   "metadata": {},
   "outputs": [
    {
     "name": "stdout",
     "output_type": "stream",
     "text": [
      "    *\n",
      "   **\n",
      "  ***\n",
      " ****\n",
      "*****\n"
     ]
    }
   ],
   "source": [
    "# Q-19\n",
    "def print_triangle_pattern(n):\n",
    "    for i in range(1, n + 1):\n",
    "        print(' ' * (n - i) + '*' * i)\n",
    "\n",
    "n = 5\n",
    "print_triangle_pattern(n)"
   ]
  },
  {
   "cell_type": "code",
   "execution_count": 28,
   "id": "5fe2095d-9e7d-425a-bdcf-22b57d7c0793",
   "metadata": {},
   "outputs": [
    {
     "name": "stdout",
     "output_type": "stream",
     "text": [
      "The GCD of 256 and 144 is: 16\n"
     ]
    }
   ],
   "source": [
    "# Q-20\n",
    "def gcd(a, b):\n",
    "    smaller = min(a, b)\n",
    "    for i in range(1, smaller + 1):\n",
    "        if a % i == 0 and b % i == 0:\n",
    "            gcd = i\n",
    "    return gcd\n",
    "\n",
    "num1 = 256\n",
    "num2 = 144\n",
    "result = gcd(num1, num2)\n",
    "print(\"The GCD of\", num1, \"and\", num2, \"is:\", result)"
   ]
  },
  {
   "cell_type": "code",
   "execution_count": 30,
   "id": "b1c5b892-28c8-4c31-a83b-fff9d1bcee48",
   "metadata": {},
   "outputs": [
    {
     "name": "stdout",
     "output_type": "stream",
     "text": [
      "Sum of digits of numbers in the list: 44\n"
     ]
    }
   ],
   "source": [
    "# Advanced level\n",
    "# Q-21\n",
    "def sum_digits(lst):\n",
    "    return sum(int(digit) for num in lst for digit in str(num))\n",
    "\n",
    "numbers = [325, 865, 159]\n",
    "result = sum_digits(numbers)\n",
    "print(\"Sum of digits of numbers in the list:\", result)"
   ]
  },
  {
   "cell_type": "code",
   "execution_count": 31,
   "id": "f8ea4907-6854-4e4a-bb82-8c899bdbe40b",
   "metadata": {},
   "outputs": [
    {
     "name": "stdout",
     "output_type": "stream",
     "text": [
      "Prime factors of 60 : [2, 2, 3, 5]\n"
     ]
    }
   ],
   "source": [
    "# Q-22\n",
    "def prime_factors(n):\n",
    "    factors = []\n",
    "    for i in range(2, int(n ** 0.5) + 1):\n",
    "        while n % i == 0:\n",
    "            factors.append(i)\n",
    "            n //= i\n",
    "    if n > 2:\n",
    "        factors.append(n)\n",
    "    return [x for x in factors if is_prime(x)]\n",
    "\n",
    "def is_prime(n):\n",
    "    return n > 1 and all(n % i for i in range(2, int(n ** 0.5) + 1))\n",
    "\n",
    "number = 60\n",
    "result = prime_factors(number)\n",
    "print(\"Prime factors of\", number, \":\", result)"
   ]
  },
  {
   "cell_type": "code",
   "execution_count": 32,
   "id": "41c19e67-9218-470e-b8ca-8a864f0b3fd2",
   "metadata": {},
   "outputs": [
    {
     "name": "stdout",
     "output_type": "stream",
     "text": [
      "Original list: [1, 2, 2, 3, 4, 4, 5, 5, 5]\n",
      "Unique elements: [1, 2, 3, 4, 5]\n"
     ]
    }
   ],
   "source": [
    "# Q-23\n",
    "def extract_unique_elements(lst):\n",
    "    return list(set(lst))\n",
    "\n",
    "original_list = [1, 2, 2, 3, 4, 4, 5, 5, 5]\n",
    "unique_elements = extract_unique_elements(original_list)\n",
    "print(\"Original list:\", original_list)\n",
    "print(\"Unique elements:\", unique_elements)"
   ]
  },
  {
   "cell_type": "code",
   "execution_count": 34,
   "id": "74a6d5b9-8d65-4611-90bd-16f0b632c294",
   "metadata": {},
   "outputs": [
    {
     "name": "stdout",
     "output_type": "stream",
     "text": [
      "Palindromic numbers up to 100 : ['11', '22', '33', '44', '55', '66', '77', '88', '99']\n"
     ]
    }
   ],
   "source": [
    "# Q-24\n",
    "def generate_palindromic_numbers(limit):\n",
    "    return [str(i) for i in range(10, limit + 1) if str(i) == str(i)[::-1]]\n",
    "\n",
    "# Example usage\n",
    "limit = 100\n",
    "palindromic_numbers = generate_palindromic_numbers(limit)\n",
    "print(\"Palindromic numbers up to\", limit, \":\", palindromic_numbers)"
   ]
  },
  {
   "cell_type": "code",
   "execution_count": 38,
   "id": "1218b977-386b-4136-bf2a-0ab91fdb2f20",
   "metadata": {},
   "outputs": [
    {
     "name": "stdout",
     "output_type": "stream",
     "text": [
      "Flattened list: [1, 2, 3, 4, 5, 6, 7, 8, 9]\n"
     ]
    }
   ],
   "source": [
    "# Q-25\n",
    "def flatten(nested_list):\n",
    "    #Flattens a nested list.\n",
    "    return [item for sublist in nested_list for item in sublist]\n",
    "\n",
    "nested_list = [[1, 2, 3], [4, 5], [6, 7, 8, 9]]\n",
    "flattened_list = flatten(nested_list)\n",
    "print(\"Flattened list:\", flattened_list)"
   ]
  },
  {
   "cell_type": "code",
   "execution_count": 41,
   "id": "fa9a45a4-06e4-4de8-8219-ac6be7627a7b",
   "metadata": {},
   "outputs": [
    {
     "name": "stdout",
     "output_type": "stream",
     "text": [
      "Sum of even numbers: 30\n",
      "Sum of odd numbers: 25\n"
     ]
    }
   ],
   "source": [
    "# Q-26\n",
    "def sum_even_odd(lst):\n",
    "    even_sum = sum([num for num in lst if num % 2 == 0])\n",
    "    odd_sum = sum([num for num in lst if num % 2 != 0])\n",
    "    return even_sum, odd_sum\n",
    "\n",
    "lst = [1, 2, 3, 4, 5, 6, 7, 8, 9, 10]\n",
    "even_sum, odd_sum = sum_even_odd(lst)\n",
    "print(\"Sum of even numbers:\", even_sum)\n",
    "print(\"Sum of odd numbers:\", odd_sum)"
   ]
  },
  {
   "cell_type": "code",
   "execution_count": 42,
   "id": "a1c1f09e-ff9b-46b6-8f71-2a95104f37e3",
   "metadata": {},
   "outputs": [
    {
     "name": "stdout",
     "output_type": "stream",
     "text": [
      "Squares of odd numbers between 1 and 10: [1, 9, 25, 49, 81]\n"
     ]
    }
   ],
   "source": [
    "# Q-27\n",
    "def squares_of_odd_numbers():\n",
    "    return [i ** 2 for i in range(1, 11) if i % 2 != 0]\n",
    "\n",
    "squares = squares_of_odd_numbers()\n",
    "print(\"Squares of odd numbers between 1 and 10:\", squares)"
   ]
  },
  {
   "cell_type": "code",
   "execution_count": 43,
   "id": "4a763535-418c-4321-8cea-9e1efc062d9a",
   "metadata": {},
   "outputs": [
    {
     "name": "stdout",
     "output_type": "stream",
     "text": [
      "Dictionary: {'a': 1, 'b': 2, 'c': 3, 'd': 4}\n"
     ]
    }
   ],
   "source": [
    "# Q-28\n",
    "def combine_to_dict(keys, values):\n",
    "    return {key: value for key, value in zip(keys, values)}\n",
    "\n",
    "keys = ['a', 'b', 'c', 'd']\n",
    "values = [1, 2, 3, 4]\n",
    "new_dict = combine_to_dict(keys, values)\n",
    "print(\"Dictionary:\", new_dict)"
   ]
  },
  {
   "cell_type": "code",
   "execution_count": 45,
   "id": "5cae476c-eead-4300-92ed-12c970495eb7",
   "metadata": {},
   "outputs": [
    {
     "name": "stdout",
     "output_type": "stream",
     "text": [
      "Vowels in the string: ['a', 'u', 'u', 'a']\n"
     ]
    }
   ],
   "source": [
    "# Q-29\n",
    "def extract_vowels(string):\n",
    "    vowels = ['a', 'e', 'i', 'o', 'u']\n",
    "    return [char for char in string.lower() if char in vowels]\n",
    "\n",
    "input_string = \"Rahul_kumar\"\n",
    "vowel_list = extract_vowels(input_string)\n",
    "print(\"Vowels in the string:\", vowel_list)"
   ]
  },
  {
   "cell_type": "code",
   "execution_count": 46,
   "id": "dcf65b72-0031-4aa9-9fef-7961e5881929",
   "metadata": {},
   "outputs": [
    {
     "name": "stdout",
     "output_type": "stream",
     "text": [
      "Original list: ['apple123', 'hello45world', '678', 'abc']\n",
      "Cleaned list: ['123', '45', '678', '']\n"
     ]
    }
   ],
   "source": [
    "# Q-30\n",
    "def remove_non_numeric(lst):\n",
    "    return [''.join(char for char in string if char.isdigit()) for string in lst]\n",
    "\n",
    "string_list = ['apple123', 'hello45world', '678', 'abc']\n",
    "cleaned_list = remove_non_numeric(string_list)\n",
    "print(\"Original list:\", string_list)\n",
    "print(\"Cleaned list:\", cleaned_list)"
   ]
  },
  {
   "cell_type": "code",
   "execution_count": 47,
   "id": "1e089eb0-304b-4941-b141-b567dbe253e1",
   "metadata": {},
   "outputs": [
    {
     "name": "stdout",
     "output_type": "stream",
     "text": [
      "Prime numbers up to 30 : [2, 3, 5, 7, 11, 13, 17, 19, 23, 29]\n"
     ]
    }
   ],
   "source": [
    "# Challenge level\n",
    "# Q-31\n",
    "def sieve_of_eratosthenes(n):\n",
    "    primes = [True for _ in range(n + 1)]\n",
    "    primes[0] = primes[1] = False\n",
    "    p = 2\n",
    "    while p ** 2 <= n:\n",
    "        if primes[p]:\n",
    "            for i in range(p ** 2, n + 1, p):\n",
    "                primes[i] = False\n",
    "        p += 1\n",
    "    return [p for p in range(2, n + 1) if primes[p]]\n",
    "\n",
    "n = 30\n",
    "primes = sieve_of_eratosthenes(n)\n",
    "print(\"Prime numbers up to\", n, \":\", primes)"
   ]
  },
  {
   "cell_type": "code",
   "execution_count": 50,
   "id": "290b5e88-5385-4483-b3df-724c29edfe19",
   "metadata": {},
   "outputs": [
    {
     "name": "stdout",
     "output_type": "stream",
     "text": [
      "Pythagorean triplets up to the limit 15 are: [(3, 4, 5), (5, 12, 13), (6, 8, 10), (9, 12, 15)]\n"
     ]
    }
   ],
   "source": [
    "# Q-32\n",
    "def generate_pythagorean_triplets(limit):\n",
    "    # Generates a list of all Pythagorean triplets up to a specified limit.\n",
    "    return [(a, b, c) \n",
    "            for a in range(1, limit + 1) \n",
    "            for b in range(a, limit + 1) \n",
    "            for c in range(b, limit + 1) \n",
    "            if a**2 + b**2 == c**2]\n",
    "\n",
    "# Example usage\n",
    "limit = 15\n",
    "pythagorean_triplets = generate_pythagorean_triplets(limit)\n",
    "print(\"Pythagorean triplets up to the limit\", limit, \"are:\", pythagorean_triplets)"
   ]
  },
  {
   "cell_type": "code",
   "execution_count": 53,
   "id": "f346d51c-54ec-43d8-9536-6d31c840cf6c",
   "metadata": {},
   "outputs": [
    {
     "name": "stdout",
     "output_type": "stream",
     "text": [
      "Combinations of [1, 2] and ['a', 'b'] : [(1, 'a'), (1, 'b'), (2, 'a'), (2, 'b')]\n"
     ]
    }
   ],
   "source": [
    "# Q-33\n",
    "def create_combinations(lst1, lst2):\n",
    "    return [(x, y) for x in lst1 for y in lst2]\n",
    "\n",
    "list1 = [1, 2]\n",
    "list2 = ['a', 'b']\n",
    "combinations = create_combinations(list1, list2)\n",
    "print(\"Combinations of\", list1, \"and\", list2, \":\", combinations)"
   ]
  },
  {
   "cell_type": "code",
   "execution_count": 57,
   "id": "316ddf4b-768a-4ad1-8336-be352c3a7c1c",
   "metadata": {},
   "outputs": [
    {
     "name": "stdout",
     "output_type": "stream",
     "text": [
      "Numbers: [1, 2, 3, 4, 5, 5, 7, 9]\n",
      "Mean: 4.5\n",
      "Median: 4.5\n",
      "Mode: 5\n"
     ]
    }
   ],
   "source": [
    "# Q-34\n",
    "import statistics\n",
    "\n",
    "def calculate_mean(numbers):\n",
    "    return sum(numbers) / len(numbers) if numbers else 0\n",
    "\n",
    "def calculate_median(numbers):\n",
    "    sorted_numbers = sorted(numbers)\n",
    "    n = len(sorted_numbers)\n",
    "    mid = n // 2\n",
    "    if n % 2 == 0:\n",
    "        return (sorted_numbers[mid - 1] + sorted_numbers[mid]) / 2\n",
    "    else:\n",
    "        return sorted_numbers[mid]\n",
    "\n",
    "def calculate_mode(numbers):\n",
    "    frequency = {num: numbers.count(num) for num in numbers}\n",
    "    max_frequency = max(frequency.values())\n",
    "    modes = [num for num, freq in frequency.items() if freq == max_frequency]\n",
    "    return modes if len(modes) > 1 else modes[0]\n",
    "\n",
    "numbers = [1, 2, 3, 4, 5, 5, 7, 9]\n",
    "\n",
    "mean = calculate_mean(numbers)\n",
    "median = calculate_median(numbers)\n",
    "mode = calculate_mode(numbers)\n",
    "\n",
    "print(\"Numbers:\", numbers)\n",
    "print(\"Mean:\", mean)\n",
    "print(\"Median:\", median)\n",
    "print(\"Mode:\", mode)"
   ]
  },
  {
   "cell_type": "code",
   "execution_count": 59,
   "id": "7fd66e46-50a3-4dd4-b7ae-d1af3ec95be5",
   "metadata": {},
   "outputs": [
    {
     "name": "stdout",
     "output_type": "stream",
     "text": [
      "The longest word in the sentence is: studying\n"
     ]
    }
   ],
   "source": [
    "# Q-37\n",
    "def find_longest_word(sentence):\n",
    "    words = sentence.split()\n",
    "    longest_word = max(words, key=len)\n",
    "    return longest_word\n",
    "\n",
    "sentence = \"Rahul studying data science from pwskills\"\n",
    "longest_word = find_longest_word(sentence)\n",
    "print(\"The longest word in the sentence is:\", longest_word)"
   ]
  },
  {
   "cell_type": "code",
   "execution_count": null,
   "id": "644932e7-1274-4042-ba67-f5e240c60678",
   "metadata": {},
   "outputs": [],
   "source": []
  }
 ],
 "metadata": {
  "kernelspec": {
   "display_name": "Python 3 (ipykernel)",
   "language": "python",
   "name": "python3"
  },
  "language_info": {
   "codemirror_mode": {
    "name": "ipython",
    "version": 3
   },
   "file_extension": ".py",
   "mimetype": "text/x-python",
   "name": "python",
   "nbconvert_exporter": "python",
   "pygments_lexer": "ipython3",
   "version": "3.10.8"
  }
 },
 "nbformat": 4,
 "nbformat_minor": 5
}
