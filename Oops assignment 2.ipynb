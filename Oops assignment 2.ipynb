{
 "cells": [
  {
   "cell_type": "markdown",
   "id": "6456ab3d-352f-4edb-824b-b1b4bb88eda7",
   "metadata": {},
   "source": [
    "# constructor\n",
    "# Q-1\n",
    "Constructor in Python:\n",
    "A constructor in Python is a special method used to initialize objects of a class. It is called when an object is created and allows the class to set initial values for its attributes."
   ]
  },
  {
   "cell_type": "markdown",
   "id": "f6daf7ba-0553-439e-9496-35f48459f6b8",
   "metadata": {},
   "source": [
    "# Q-2\n",
    "Parameterless and Parameterized Constructor:\n",
    "Parameterless Constructor: A constructor that does not take any parameters other than self.\n",
    "Parameterized Constructor: A constructor that takes additional parameters to initialize the object with specific values."
   ]
  },
  {
   "cell_type": "code",
   "execution_count": 1,
   "id": "c4e10477-44b8-48e3-b040-e74ea7c17f80",
   "metadata": {},
   "outputs": [],
   "source": [
    "# Q-3\n",
    "class MyClass:\n",
    "    def __init__(self, value):\n",
    "        self.value = value"
   ]
  },
  {
   "cell_type": "markdown",
   "id": "44e1785e-8936-4dcc-9161-6540394d036e",
   "metadata": {},
   "source": [
    "# Q-4\n",
    "__init__ Method:\n",
    "The __init__ method is the constructor in Python. It initializes the object and sets initial values for its attributes."
   ]
  },
  {
   "cell_type": "code",
   "execution_count": 2,
   "id": "b5708b69-af24-4d83-accb-b31104d0dd27",
   "metadata": {},
   "outputs": [
    {
     "name": "stdout",
     "output_type": "stream",
     "text": [
      "Rahul 26\n"
     ]
    }
   ],
   "source": [
    "# Q-5\n",
    "class Person:\n",
    "    def __init__(self, name, age):\n",
    "        self.name = name\n",
    "        self.age = age\n",
    "\n",
    "person = Person(\"Rahul\", 26)\n",
    "print(person.name, person.age)"
   ]
  },
  {
   "cell_type": "code",
   "execution_count": 7,
   "id": "993527e5-084b-4aa5-ab7c-69a84388ffc9",
   "metadata": {},
   "outputs": [
    {
     "name": "stdout",
     "output_type": "stream",
     "text": [
      "Constructor called\n"
     ]
    },
    {
     "data": {
      "text/plain": [
       "<__main__.Test at 0x7f4c3d6090f0>"
      ]
     },
     "execution_count": 7,
     "metadata": {},
     "output_type": "execute_result"
    }
   ],
   "source": [
    "# Q-6\n",
    "class Test:\n",
    "    def __init__(self):\n",
    "        print(\"Constructor called\")\n",
    "\n",
    "Test()"
   ]
  },
  {
   "cell_type": "code",
   "execution_count": 12,
   "id": "666b24b8-99e7-47f2-97c0-e7f7b2b3a6d1",
   "metadata": {},
   "outputs": [
    {
     "name": "stdout",
     "output_type": "stream",
     "text": [
      "100\n"
     ]
    }
   ],
   "source": [
    "# Q-7\n",
    "# The self parameter refers to the instance of the class and allows access to its attributes and methods.\n",
    "class MyClass:\n",
    "    def __init__(self, value):\n",
    "        self.value = value\n",
    "        \n",
    "MyClass = MyClass(100)\n",
    "print(MyClass.value)"
   ]
  },
  {
   "cell_type": "code",
   "execution_count": 13,
   "id": "0d021e7a-c5d5-4b55-9e42-cddb90a52c16",
   "metadata": {},
   "outputs": [],
   "source": [
    "# Q-8\n",
    "# A default constructor is a constructor with no parameters. It is used when no specific initialization is required.\n",
    "class MyClass:\n",
    "    def __init__(self):\n",
    "        self.value = 0"
   ]
  },
  {
   "cell_type": "code",
   "execution_count": 14,
   "id": "85f59ad0-e2c2-4b0d-9409-0f15aaaf2609",
   "metadata": {},
   "outputs": [
    {
     "name": "stdout",
     "output_type": "stream",
     "text": [
      "50\n"
     ]
    }
   ],
   "source": [
    "# Q-9\n",
    "class Rectangle:\n",
    "    def __init__(self, width, height):\n",
    "        self.width = width\n",
    "        self.height = height\n",
    "\n",
    "    def area(self):\n",
    "        return self.width * self.height\n",
    "\n",
    "rect = Rectangle(5, 10)\n",
    "print(rect.area())"
   ]
  },
  {
   "cell_type": "code",
   "execution_count": 15,
   "id": "639e1f78-bed7-4b69-94c1-ce780cd0a04a",
   "metadata": {},
   "outputs": [],
   "source": [
    "# Q-10\n",
    "# Python does not support multiple constructors directly, but you can use default arguments or class methods.\n",
    "class MyClass:\n",
    "    def __init__(self, x=0, y=0):\n",
    "        self.x = x\n",
    "        self.y = y"
   ]
  },
  {
   "cell_type": "code",
   "execution_count": 16,
   "id": "bc2a26ab-8755-42e6-91d1-352da7ff0ac8",
   "metadata": {},
   "outputs": [],
   "source": [
    "# Q-11\n",
    "# Method Overloading:\n",
    "# Python does not support method overloading. Instead, you can use default parameters or variable-length arguments."
   ]
  },
  {
   "cell_type": "code",
   "execution_count": 20,
   "id": "95fa4be2-3e7c-4e27-afa4-e709968bac84",
   "metadata": {},
   "outputs": [
    {
     "name": "stdout",
     "output_type": "stream",
     "text": [
      "Rahul 26\n"
     ]
    }
   ],
   "source": [
    "# Q-12\n",
    "# Super function allows to call methods from parent class.\n",
    "class Parent:\n",
    "    def __init__(self, name):\n",
    "        self.name = name\n",
    "\n",
    "class Child(Parent):\n",
    "    def __init__(self, name, age):\n",
    "        super().__init__(name)\n",
    "        self.age = age\n",
    "        \n",
    "x = Child(\"Rahul\",26)\n",
    "print(x.name, x.age)"
   ]
  },
  {
   "cell_type": "code",
   "execution_count": 21,
   "id": "429c94f5-7a63-4a99-84bb-e27df66487a2",
   "metadata": {},
   "outputs": [
    {
     "name": "stdout",
     "output_type": "stream",
     "text": [
      "Title: My_born, Author: Rahul kumar, Year: 1997\n"
     ]
    }
   ],
   "source": [
    "# Q-13\n",
    "class Book:\n",
    "    def __init__(self, title, author, published_year):\n",
    "        self.title = title\n",
    "        self.author = author\n",
    "        self.published_year = published_year\n",
    "\n",
    "    def display_details(self):\n",
    "        print(f\"Title: {self.title}, Author: {self.author}, Year: {self.published_year}\")\n",
    "\n",
    "book = Book(\"My_born\", \"Rahul kumar\", 1997)\n",
    "book.display_details()"
   ]
  },
  {
   "cell_type": "markdown",
   "id": "671103ee-5737-474b-ba14-1a439c5e30d7",
   "metadata": {},
   "source": [
    "# Q-14\n",
    "Constructors vs Regular Methods:\n",
    "Constructors initialize the object.\n",
    "Regular methods perform operations on the object after it has been initialized."
   ]
  },
  {
   "cell_type": "code",
   "execution_count": 22,
   "id": "480d62fe-8f70-458b-bdcf-61f861cd3f74",
   "metadata": {},
   "outputs": [],
   "source": [
    "# Q-15\n",
    "# self parameter allows the constructor to reference instance variable\n",
    "class MyClass:\n",
    "    def __init__(self, value):\n",
    "        self.value = value"
   ]
  },
  {
   "cell_type": "code",
   "execution_count": 24,
   "id": "3dc1bcbc-3567-4146-8882-fbb3cab4f072",
   "metadata": {},
   "outputs": [
    {
     "name": "stdout",
     "output_type": "stream",
     "text": [
      "['Math', 'Science']\n"
     ]
    }
   ],
   "source": [
    "# Q-17\n",
    "class Student:\n",
    "    def __init__(self, subjects):\n",
    "        self.subjects = subjects\n",
    "\n",
    "student = Student([\"Math\", \"Science\"])\n",
    "print(student.subjects)"
   ]
  },
  {
   "cell_type": "code",
   "execution_count": 25,
   "id": "20976962-36e3-4a74-a920-642c52dacc81",
   "metadata": {},
   "outputs": [],
   "source": [
    "# Q-18\n",
    "class MyClass:\n",
    "    def __init__(self):\n",
    "        print(\"Object created\")\n",
    "\n",
    "    def __del__(self):\n",
    "        print(\"Object destroyed\")"
   ]
  },
  {
   "cell_type": "code",
   "execution_count": 26,
   "id": "424b9a85-f10b-45ca-afa5-45ae046a77fa",
   "metadata": {},
   "outputs": [
    {
     "name": "stdout",
     "output_type": "stream",
     "text": [
      "Base constructor\n",
      "Derived constructor\n"
     ]
    }
   ],
   "source": [
    "# Q-19\n",
    "class Base:\n",
    "    def __init__(self):\n",
    "        print(\"Base constructor\")\n",
    "\n",
    "class Derived(Base):\n",
    "    def __init__(self):\n",
    "        super().__init__()\n",
    "        print(\"Derived constructor\")\n",
    "\n",
    "obj = Derived()"
   ]
  },
  {
   "cell_type": "code",
   "execution_count": 29,
   "id": "021b1937-4b8f-4c61-ac06-7d8681a79999",
   "metadata": {},
   "outputs": [
    {
     "name": "stdout",
     "output_type": "stream",
     "text": [
      "Car make: Toyota, model: Corolla\n"
     ]
    }
   ],
   "source": [
    "# Q-20\n",
    "class Car:\n",
    "    def __init__(self, make=\"Unknown\", model=\"Unknown\"):\n",
    "        self.make = make\n",
    "        self.model = model\n",
    "\n",
    "    def display_info(self):\n",
    "        print(f\"Car make: {self.make}, model: {self.model}\")\n",
    "\n",
    "car = Car(\"Toyota\", \"Corolla\")\n",
    "car.display_info()"
   ]
  },
  {
   "cell_type": "markdown",
   "id": "e01fd751-e760-406a-bb9f-b14b4ffc3283",
   "metadata": {},
   "source": [
    "# Inheritance\n",
    "# Q-1\n",
    "Inheritance in Python:\n",
    "Inheritance allows a class (child class) to inherit attributes and methods from another class (parent class). It promotes code reusability and establishes a natural hierarchy between classes.\n"
   ]
  },
  {
   "cell_type": "code",
   "execution_count": 30,
   "id": "5c248e46-7866-4247-b341-c0401e40f917",
   "metadata": {},
   "outputs": [
    {
     "name": "stdout",
     "output_type": "stream",
     "text": [
      "Parent method\n"
     ]
    }
   ],
   "source": [
    "# Q-2\n",
    "# single inheritance\n",
    "class Parent:\n",
    "    def method(self):\n",
    "        print(\"Parent method\")\n",
    "\n",
    "class Child(Parent):\n",
    "    pass\n",
    "\n",
    "obj = Child()\n",
    "obj.method()"
   ]
  },
  {
   "cell_type": "code",
   "execution_count": 31,
   "id": "566841c0-ceca-4f91-9f7d-2493a9874fd1",
   "metadata": {},
   "outputs": [
    {
     "name": "stdout",
     "output_type": "stream",
     "text": [
      "Parent1 method\n",
      "Parent2 method\n"
     ]
    }
   ],
   "source": [
    "# multiple inheritance\n",
    "class Parent1:\n",
    "    def method1(self):\n",
    "        print(\"Parent1 method\")\n",
    "\n",
    "class Parent2:\n",
    "    def method2(self):\n",
    "        print(\"Parent2 method\")\n",
    "\n",
    "class Child(Parent1, Parent2):\n",
    "    pass\n",
    "\n",
    "obj = Child()\n",
    "obj.method1()\n",
    "obj.method2()"
   ]
  },
  {
   "cell_type": "code",
   "execution_count": 33,
   "id": "bdc4b3b1-2ebf-49cd-8d45-71317ac78761",
   "metadata": {},
   "outputs": [
    {
     "name": "stdout",
     "output_type": "stream",
     "text": [
      "Toyota Red 120\n"
     ]
    }
   ],
   "source": [
    "# Q-3\n",
    "class Vehicle:\n",
    "    def __init__(self, color, speed):\n",
    "        self.color = color\n",
    "        self.speed = speed\n",
    "\n",
    "class Car(Vehicle):\n",
    "    def __init__(self, color, speed, brand):\n",
    "        super().__init__(color, speed)\n",
    "        self.brand = brand\n",
    "\n",
    "car = Car(\"Red\", 120, \"Toyota\")\n",
    "print(car.brand, car.color, car.speed)"
   ]
  },
  {
   "cell_type": "code",
   "execution_count": 34,
   "id": "4db32477-9080-4bdf-bc37-ba7c80615109",
   "metadata": {},
   "outputs": [
    {
     "name": "stdout",
     "output_type": "stream",
     "text": [
      "Child speaks\n"
     ]
    }
   ],
   "source": [
    "# Q-4\n",
    "class Parent:\n",
    "    def speak(self):\n",
    "        print(\"Parent speaks\")\n",
    "\n",
    "class Child(Parent):\n",
    "    def speak(self):\n",
    "        print(\"Child speaks\")\n",
    "\n",
    "obj = Child()\n",
    "obj.speak()"
   ]
  },
  {
   "cell_type": "code",
   "execution_count": 35,
   "id": "01bf11f7-e3ff-4465-8af3-d7401226ce57",
   "metadata": {},
   "outputs": [
    {
     "name": "stdout",
     "output_type": "stream",
     "text": [
      "10\n"
     ]
    }
   ],
   "source": [
    "# Q-5\n",
    "class Parent:\n",
    "    def __init__(self, value):\n",
    "        self.value = value\n",
    "\n",
    "class Child(Parent):\n",
    "    def __init__(self, value):\n",
    "        super().__init__(value)\n",
    "        print(self.value)\n",
    "\n",
    "obj = Child(10)"
   ]
  },
  {
   "cell_type": "code",
   "execution_count": 38,
   "id": "5e8527c5-b2b9-46d8-acc2-e18dab7c65c8",
   "metadata": {},
   "outputs": [
    {
     "name": "stdout",
     "output_type": "stream",
     "text": [
      "10\n"
     ]
    }
   ],
   "source": [
    "# Q-6\n",
    "class Parent:\n",
    "    def __init__(self, value):\n",
    "        self.value = value\n",
    "\n",
    "class Child(Parent):\n",
    "    def __init__(self, value):\n",
    "        super().__init__(value)\n",
    "\n",
    "obj = Child(10)\n",
    "print(obj.value)"
   ]
  },
  {
   "cell_type": "code",
   "execution_count": 39,
   "id": "65e12500-048f-4452-b1c2-293511eaa73c",
   "metadata": {},
   "outputs": [
    {
     "name": "stdout",
     "output_type": "stream",
     "text": [
      "Woof Meow\n"
     ]
    }
   ],
   "source": [
    "# Q-7\n",
    "class Animal:\n",
    "    def speak(self):\n",
    "        pass\n",
    "\n",
    "class Dog(Animal):\n",
    "    def speak(self):\n",
    "        return \"Woof\"\n",
    "\n",
    "class Cat(Animal):\n",
    "    def speak(self):\n",
    "        return \"Meow\"\n",
    "\n",
    "dog = Dog()\n",
    "cat = Cat()\n",
    "print(dog.speak(), cat.speak())"
   ]
  },
  {
   "cell_type": "code",
   "execution_count": 40,
   "id": "4a3a95ea-4b7b-4ab1-8311-88dd2648e76a",
   "metadata": {},
   "outputs": [],
   "source": [
    "# Q-8\n",
    "# The isinstance function in Python plays a crucial role in type checking and inheritance. \n",
    "# It is used to verify if an object belongs to a specific class or type. \n",
    "# This function is particularly useful when dealing with inheritance, \n",
    "# as it allows you to check if an object is an instance of a parent class or any of its subclasses."
   ]
  },
  {
   "cell_type": "code",
   "execution_count": 45,
   "id": "22dbfe87-74ad-4d48-bc10-212bc89f4518",
   "metadata": {},
   "outputs": [
    {
     "name": "stdout",
     "output_type": "stream",
     "text": [
      "True\n"
     ]
    }
   ],
   "source": [
    "# Q-9\n",
    "# issubclass function checks if a class is a subclass of another class\n",
    "class Parent:\n",
    "    pass\n",
    "\n",
    "class Child(Parent):\n",
    "    pass\n",
    "\n",
    "print(issubclass(Child,Parent))"
   ]
  },
  {
   "cell_type": "code",
   "execution_count": 48,
   "id": "ff8d250a-84f7-4a85-bb49-09a80475560a",
   "metadata": {},
   "outputs": [
    {
     "name": "stdout",
     "output_type": "stream",
     "text": [
      "10 20\n"
     ]
    }
   ],
   "source": [
    "# Q-10\n",
    "# Constructors in parent classes are not automatically called. \n",
    "# You need to call them explicitly using super or the parent class name.\n",
    "class Parent:\n",
    "    def __init__(self, value):\n",
    "        self.value = value\n",
    "\n",
    "class Child(Parent):\n",
    "    def __init__(self, value, extra):\n",
    "        super().__init__(value)\n",
    "        self.extra = extra\n",
    "\n",
    "obj = Child(10, 20)\n",
    "print(obj.value, obj.extra)"
   ]
  },
  {
   "cell_type": "code",
   "execution_count": 52,
   "id": "1bb30760-04a9-472f-97a1-ebb68acd7b7a",
   "metadata": {},
   "outputs": [
    {
     "name": "stdout",
     "output_type": "stream",
     "text": [
      "Area of a circle is : 78.5 & Area of rectangle is : 24\n"
     ]
    }
   ],
   "source": [
    "# Q-11\n",
    "class Shape:\n",
    "    def area(self):\n",
    "        pass\n",
    "\n",
    "class Circle(Shape):\n",
    "    def __init__(self, radius):\n",
    "        self.radius = radius\n",
    "\n",
    "    def area(self):\n",
    "        return 3.14 * self.radius ** 2\n",
    "\n",
    "class Rectangle(Shape):\n",
    "    def __init__(self, width, height):\n",
    "        self.width = width\n",
    "        self.height = height\n",
    "\n",
    "    def area(self):\n",
    "        return self.width * self.height\n",
    "\n",
    "circle = Circle(5)\n",
    "rectangle = Rectangle(4, 6)\n",
    "print(\"Area of a circle is :\",circle.area(),\"&\",\"Area of rectangle is :\",rectangle.area())"
   ]
  },
  {
   "cell_type": "code",
   "execution_count": 53,
   "id": "454ea1ea-bb8a-4513-a92a-72a193f51052",
   "metadata": {},
   "outputs": [
    {
     "name": "stdout",
     "output_type": "stream",
     "text": [
      "78.5\n"
     ]
    }
   ],
   "source": [
    "# Q-12\n",
    "from abc import ABC, abstractmethod\n",
    "\n",
    "class Shape(ABC):\n",
    "    @abstractmethod\n",
    "    def area(self):\n",
    "        pass\n",
    "\n",
    "class Circle(Shape):\n",
    "    def __init__(self, radius):\n",
    "        self.radius = radius\n",
    "\n",
    "    def area(self):\n",
    "        return 3.14 * self.radius ** 2\n",
    "\n",
    "circle = Circle(5)\n",
    "print(circle.area())"
   ]
  },
  {
   "cell_type": "code",
   "execution_count": 57,
   "id": "3b3c8ae5-d9e9-4a55-9eb6-7ab4355c8f8e",
   "metadata": {},
   "outputs": [
    {
     "name": "stdout",
     "output_type": "stream",
     "text": [
      "10\n"
     ]
    }
   ],
   "source": [
    "# Q-13\n",
    "class Parent:\n",
    "    def __init__(self, value):\n",
    "        self._value = value\n",
    "\n",
    "    @property\n",
    "    def value(self):\n",
    "        return self._value\n",
    "\n",
    "class Child(Parent):\n",
    "    pass\n",
    "\n",
    "obj = Child(10)\n",
    "print(obj.value)"
   ]
  },
  {
   "cell_type": "code",
   "execution_count": 60,
   "id": "f8b8747c-393e-4e61-8a8d-a2086af6429a",
   "metadata": {},
   "outputs": [
    {
     "name": "stdout",
     "output_type": "stream",
     "text": [
      "Rahul 100000 IT\n"
     ]
    }
   ],
   "source": [
    "# Q-14\n",
    "class Employee:\n",
    "    def __init__(self, name, salary):\n",
    "        self.name = name\n",
    "        self.salary = salary\n",
    "\n",
    "class Manager(Employee):\n",
    "    def __init__(self, name, salary, department):\n",
    "        super().__init__(name, salary)\n",
    "        self.department = department\n",
    "\n",
    "manager = Manager(\"Rahul\", 100000, \"IT\")\n",
    "print(manager.name, manager.salary, manager.department)"
   ]
  },
  {
   "cell_type": "code",
   "execution_count": 62,
   "id": "10eaa959-9508-43d5-b293-d19737350c5e",
   "metadata": {},
   "outputs": [],
   "source": [
    "# Q-15\n",
    "# Python does not support method overloading. Instead, you use default parameters.\n",
    "class MyClass:\n",
    "    def method(self, x=None, y=None):\n",
    "        if x is not None and y is not None:\n",
    "            return x + y\n",
    "        elif x is not None:\n",
    "            return x\n",
    "        else:\n",
    "            return 0"
   ]
  },
  {
   "cell_type": "code",
   "execution_count": 64,
   "id": "6441c7cf-0d84-4e9f-b382-35e05dcf415f",
   "metadata": {},
   "outputs": [
    {
     "name": "stdout",
     "output_type": "stream",
     "text": [
      "10\n"
     ]
    }
   ],
   "source": [
    "# Q-16\n",
    "# The __init__ method initializes an object's state and can be used in child classes to initialize inherited attributes.\n",
    "class Parent:\n",
    "    def __init__(self, value):\n",
    "        self.value = value\n",
    "\n",
    "class Child(Parent):\n",
    "    def __init__(self, value, extra):\n",
    "        super().__init__(value)\n",
    "        self.extra = extra\n",
    "\n",
    "obj = Child(10, 20)\n",
    "print(obj.value)"
   ]
  },
  {
   "cell_type": "code",
   "execution_count": 67,
   "id": "42f3ee8c-f1ad-4639-85a0-130ca90a6134",
   "metadata": {},
   "outputs": [
    {
     "name": "stdout",
     "output_type": "stream",
     "text": [
      "Eagle is flying high Sparrow is flying low\n"
     ]
    }
   ],
   "source": [
    "# Q-17\n",
    "class Bird:\n",
    "    def fly(self):\n",
    "        pass\n",
    "\n",
    "class Eagle(Bird):\n",
    "    def fly(self):\n",
    "        return \"Eagle is flying high\"\n",
    "\n",
    "class Sparrow(Bird):\n",
    "    def fly(self):\n",
    "        return \"Sparrow is flying low\"\n",
    "\n",
    "eagle = Eagle()\n",
    "sparrow = Sparrow()\n",
    "print(eagle.fly(), sparrow.fly())"
   ]
  },
  {
   "cell_type": "markdown",
   "id": "0f5b83a3-1e48-4aa3-8e72-c02ed8dcfe7c",
   "metadata": {},
   "source": [
    "# Encapsulation\n",
    "# Q-1\n",
    "Concept of Encapsulation:\n",
    "Encapsulation is an object-oriented programming principle that bundles data (attributes) and methods (functions) that operate on the data into a single unit or class. It restricts direct access to some of the object's components, which can prevent the accidental modification of data."
   ]
  },
  {
   "cell_type": "markdown",
   "id": "f338b266-4ad3-4f61-9565-6b9e45820615",
   "metadata": {},
   "source": [
    "# Q-2\n",
    "Access Control: Controlling the access to class members (attributes and methods) through public, private, and protected access modifiers.\n",
    "\n",
    "Data Hiding: Hiding the internal state of an object and requiring all interaction to be performed through an object's methods."
   ]
  },
  {
   "cell_type": "code",
   "execution_count": 69,
   "id": "22bd89af-6c62-4b78-9a10-66928b1ebeb7",
   "metadata": {},
   "outputs": [
    {
     "name": "stdout",
     "output_type": "stream",
     "text": [
      "Rahul\n",
      "26\n",
      "NetWorth\n"
     ]
    }
   ],
   "source": [
    "# Q-3\n",
    "class Example:\n",
    "    def __init__(self, name, age):\n",
    "        self.name = name       # Public\n",
    "        self._age = age        # Protected\n",
    "        self.__secret = \"NetWorth\"  # Private\n",
    "\n",
    "    def get_secret(self):\n",
    "        return self.__secret\n",
    "\n",
    "obj = Example(\"Rahul\", 26)\n",
    "print(obj.name)  # Public access\n",
    "print(obj._age)  # Protected access\n",
    "print(obj.get_secret())  # Accessing private attribute via method"
   ]
  },
  {
   "cell_type": "markdown",
   "id": "80d21219-eafc-4709-90ad-61ac79ccb665",
   "metadata": {},
   "source": [
    "# Q-4\n",
    "Access Modifiers:\n",
    "\n",
    "Public: Accessible from anywhere (self.name).\n",
    "\n",
    "Protected: Accessible within the class and its subclasses (self._name).\n",
    "\n",
    "Private: Accessible only within the class itself (self.__name)."
   ]
  },
  {
   "cell_type": "code",
   "execution_count": 71,
   "id": "52dd010b-e7f2-478b-80b4-61c3596a3d5b",
   "metadata": {},
   "outputs": [
    {
     "name": "stdout",
     "output_type": "stream",
     "text": [
      "Rahul\n",
      "Kumar\n"
     ]
    }
   ],
   "source": [
    "# Q-5\n",
    "class Person:\n",
    "    def __init__(self, name):\n",
    "        self.__name = name\n",
    "\n",
    "    def get_name(self):\n",
    "        return self.__name\n",
    "\n",
    "    def set_name(self, name):\n",
    "        self.__name = name\n",
    "\n",
    "person = Person(\"Rahul\")\n",
    "print(person.get_name())\n",
    "person.set_name(\"Kumar\")\n",
    "print(person.get_name())"
   ]
  },
  {
   "cell_type": "code",
   "execution_count": 75,
   "id": "3d5d8215-47c3-4227-a372-5fb980626e46",
   "metadata": {},
   "outputs": [
    {
     "name": "stdout",
     "output_type": "stream",
     "text": [
      "10\n",
      "20\n"
     ]
    }
   ],
   "source": [
    "# Q-6\n",
    "class Example:\n",
    "    def __init__(self, value):\n",
    "        self.__value = value\n",
    "\n",
    "    def get_value(self):\n",
    "        return self.__value\n",
    "\n",
    "    def set_value(self, value):\n",
    "        if value > 0:\n",
    "            self.__value = value\n",
    "        else:\n",
    "            raise ValueError(\"Value must be positive\")\n",
    "\n",
    "obj = Example(10)\n",
    "print(obj.get_value())\n",
    "obj.set_value(20)\n",
    "print(obj.get_value())"
   ]
  },
  {
   "cell_type": "code",
   "execution_count": 78,
   "id": "6d6f81c0-4f19-4a6c-a714-14255cf88514",
   "metadata": {},
   "outputs": [
    {
     "name": "stdout",
     "output_type": "stream",
     "text": [
      "private\n"
     ]
    }
   ],
   "source": [
    "# Q-7\n",
    "class Example:\n",
    "    def __init__(self):\n",
    "        self.__private = \"private\"\n",
    "\n",
    "obj = Example()\n",
    "print(obj._Example__private)  # Accessing private attribute via name mangling"
   ]
  },
  {
   "cell_type": "code",
   "execution_count": 81,
   "id": "ab192033-24bd-41db-a86d-9d17f6a9c78d",
   "metadata": {},
   "outputs": [
    {
     "name": "stdout",
     "output_type": "stream",
     "text": [
      "500\n"
     ]
    }
   ],
   "source": [
    "# Q-8\n",
    "class BankAccount:\n",
    "    def __init__(self, account_number, balance=0):\n",
    "        self.__account_number = account_number\n",
    "        self.__balance = balance\n",
    "\n",
    "    def deposit(self, amount):\n",
    "        if amount > 0:\n",
    "            self.__balance += amount\n",
    "\n",
    "    def withdraw(self, amount):\n",
    "        if 0 < amount <= self.__balance:\n",
    "            self.__balance -= amount\n",
    "\n",
    "    def get_balance(self):\n",
    "        return self.__balance\n",
    "\n",
    "account = BankAccount(\"123456\")\n",
    "account.deposit(1000)\n",
    "account.withdraw(500)\n",
    "print(account.get_balance())"
   ]
  },
  {
   "cell_type": "markdown",
   "id": "07cef3c1-8a30-47a1-932a-f26f9779999f",
   "metadata": {},
   "source": [
    "# Q-9\n",
    "Advantages of Encapsulation:\n",
    "\n",
    "Code Maintainability: Makes the code more modular and easier to maintain.\n",
    "\n",
    "Security: Protects the integrity of the data by preventing unauthorized access and modification.\n",
    "\n",
    "Abstraction: Hides the complexity of the implementation from the user."
   ]
  },
  {
   "cell_type": "code",
   "execution_count": 82,
   "id": "c7254cb1-e022-4d40-9c1c-be32f99bffbb",
   "metadata": {},
   "outputs": [
    {
     "name": "stdout",
     "output_type": "stream",
     "text": [
      "private\n"
     ]
    }
   ],
   "source": [
    "# Q-10\n",
    "class Example:\n",
    "    def __init__(self):\n",
    "        self.__private = \"private\"\n",
    "\n",
    "obj = Example()\n",
    "print(obj._Example__private)  # Accessing private attribute via name mangling"
   ]
  },
  {
   "cell_type": "code",
   "execution_count": 83,
   "id": "2cb3ad99-3011-405d-aa22-8d4652528240",
   "metadata": {},
   "outputs": [
    {
     "name": "stdout",
     "output_type": "stream",
     "text": [
      "10\n",
      "20\n"
     ]
    }
   ],
   "source": [
    "# Q-12\n",
    "class Example:\n",
    "    def __init__(self, value):\n",
    "        self.__value = value\n",
    "\n",
    "    @property\n",
    "    def value(self):\n",
    "        return self.__value\n",
    "\n",
    "    @value.setter\n",
    "    def value(self, value):\n",
    "        if value > 0:\n",
    "            self.__value = value\n",
    "        else:\n",
    "            raise ValueError(\"Value must be positive\")\n",
    "\n",
    "obj = Example(10)\n",
    "print(obj.value)\n",
    "obj.value = 20\n",
    "print(obj.value)"
   ]
  },
  {
   "cell_type": "code",
   "execution_count": 90,
   "id": "97e8763c-85ad-439a-b557-8739b970897f",
   "metadata": {},
   "outputs": [
    {
     "name": "stdout",
     "output_type": "stream",
     "text": [
      "<bound method Example.set_value of <__main__.Example object at 0x7f4c1ef998a0>>\n",
      "20\n"
     ]
    }
   ],
   "source": [
    "# Q-13\n",
    "class Example:\n",
    "    def __init__(self, value):\n",
    "        self.__value = value\n",
    "\n",
    "    def get_value(self):\n",
    "        return self.__value\n",
    "\n",
    "    def set_value(self, value):\n",
    "        if value > 0:\n",
    "            self.__value = value\n",
    "        else:\n",
    "            raise ValueError(\"Value must be positive\")\n",
    "obj = Example(10)\n",
    "print(obj.set_value)\n",
    "obj.value = 20\n",
    "print(obj.value)"
   ]
  },
  {
   "cell_type": "code",
   "execution_count": 91,
   "id": "27bee9bf-d4ca-42e2-bcb7-f6cfb8d1dfcb",
   "metadata": {},
   "outputs": [
    {
     "name": "stdout",
     "output_type": "stream",
     "text": [
      "5000.0\n"
     ]
    }
   ],
   "source": [
    "# Q-14\n",
    "class Employee:\n",
    "    def __init__(self, employee_id, salary):\n",
    "        self.__employee_id = employee_id\n",
    "        self.__salary = salary\n",
    "\n",
    "    def calculate_bonus(self):\n",
    "        return self.__salary * 0.10\n",
    "\n",
    "emp = Employee(\"E123\", 50000)\n",
    "print(emp.calculate_bonus())"
   ]
  },
  {
   "cell_type": "markdown",
   "id": "7c4e1267-c51c-45e1-88df-caee93230f06",
   "metadata": {},
   "source": [
    "# Q-15\n",
    "Accessors and mutators play a crucial role in encapsulation by providing controlled access to class attributes.\n",
    "Accessors, also known as getter methods, allow read-only access to private variables, ensuring data integrity and security.\n",
    "On the other hand, mutators, or setter methods, enable safe modification of private variables,enforcing validation\n",
    "and encapsulation principles. By using accessors and mutators, developers can maintain control over attribute access,\n",
    "preventing direct manipulation of data and ensuring that modifications adhere to defined rules and constraints. \n",
    "This approach enhances code security, maintainability, and flexibility in managing object state within a class."
   ]
  },
  {
   "cell_type": "markdown",
   "id": "c22a2fef-4821-491a-812e-bc33d891d9ee",
   "metadata": {},
   "source": [
    "# Q-16\n",
    "Drawbacks of Encapsulation:\n",
    "\n",
    "1. Can introduce complexity if overused.\n",
    "\n",
    "2. May lead to performance overhead due to the use of getters and setters."
   ]
  },
  {
   "cell_type": "markdown",
   "id": "b8789442-02a9-44ce-bbe9-923701fce641",
   "metadata": {},
   "source": [
    "# Q-18\n",
    "Encapsulation Enhances Code Reusability and Modularity:\n",
    "By hiding the internal implementation details, encapsulation allows developers to reuse and modify code without affecting other parts of the program."
   ]
  },
  {
   "cell_type": "code",
   "execution_count": 92,
   "id": "933b70cf-df7d-4a89-bded-0efda9ccf35d",
   "metadata": {},
   "outputs": [],
   "source": [
    "# Q-19\n",
    "# Information Hiding:\n",
    "# Information hiding is the practice of restricting access to the internal details of an object,\n",
    "# ensuring that only necessary details are exposed. It is essential for creating a modular and maintainable codebase\n",
    "class Example:\n",
    "    def __init__(self, value):\n",
    "        self.__value = value\n",
    "\n",
    "    def get_value(self):\n",
    "        return self.__value"
   ]
  },
  {
   "cell_type": "code",
   "execution_count": 93,
   "id": "9293a830-fbfa-4664-b862-c9a364174674",
   "metadata": {},
   "outputs": [],
   "source": [
    "# Q-20\n",
    "class Customer:\n",
    "    def __init__(self, name, address, contact):\n",
    "        self.__name = name\n",
    "        self.__address = address\n",
    "        self.__contact = contact\n",
    "\n",
    "    def get_name(self):\n",
    "        return self.__name\n",
    "\n",
    "    def set_name(self, name):\n",
    "        self.__name = name\n",
    "\n",
    "    def get_address(self):\n",
    "        return self"
   ]
  },
  {
   "cell_type": "markdown",
   "id": "a31ed7a4-a6ea-4937-b3cc-0b15709809c9",
   "metadata": {},
   "source": [
    "# Polymorphism\n",
    "# Q-1\n",
    "Polymorphism in Python refers to the ability of different objects to respond to the same method call in different ways. It allows objects of different classes to be treated as objects of a common superclass. It is a key feature of object-oriented programming that enhances flexibility and integration."
   ]
  },
  {
   "cell_type": "markdown",
   "id": "694254b6-d9f7-4aeb-a550-5395dc845999",
   "metadata": {},
   "source": [
    "# Q-2\n",
    "Compile-Time vs. Runtime Polymorphism:\n",
    "\n",
    "Compile-Time Polymorphism: Also known as static polymorphism, it is achieved through method overloading or operator overloading. Python does not support method overloading directly but supports operator overloading.\n",
    "\n",
    "Runtime Polymorphism: Also known as dynamic polymorphism, it is achieved through method overriding, where the method to be called is determined at runtime based on the object's type."
   ]
  },
  {
   "cell_type": "code",
   "execution_count": 94,
   "id": "dd6a917f-6e18-4eab-ad10-fdaf34cec343",
   "metadata": {},
   "outputs": [
    {
     "name": "stdout",
     "output_type": "stream",
     "text": [
      "78.5\n",
      "16\n",
      "9.0\n"
     ]
    }
   ],
   "source": [
    "# Q-3\n",
    "class Shape:\n",
    "    def calculate_area(self):\n",
    "        pass\n",
    "\n",
    "class Circle(Shape):\n",
    "    def __init__(self, radius):\n",
    "        self.radius = radius\n",
    "\n",
    "    def calculate_area(self):\n",
    "        return 3.14 * self.radius * self.radius\n",
    "\n",
    "class Square(Shape):\n",
    "    def __init__(self, side):\n",
    "        self.side = side\n",
    "\n",
    "    def calculate_area(self):\n",
    "        return self.side * self.side\n",
    "\n",
    "class Triangle(Shape):\n",
    "    def __init__(self, base, height):\n",
    "        self.base = base\n",
    "        self.height = height\n",
    "\n",
    "    def calculate_area(self):\n",
    "        return 0.5 * self.base * self.height\n",
    "\n",
    "shapes = [Circle(5), Square(4), Triangle(3, 6)]\n",
    "for shape in shapes:\n",
    "    print(shape.calculate_area())"
   ]
  },
  {
   "cell_type": "code",
   "execution_count": 95,
   "id": "62a5c61b-1a1f-46c2-ae3e-137d19aa69d3",
   "metadata": {},
   "outputs": [
    {
     "name": "stdout",
     "output_type": "stream",
     "text": [
      "Woof!\n",
      "Meow!\n"
     ]
    }
   ],
   "source": [
    "# Q-4\n",
    "class Animal:\n",
    "    def speak(self):\n",
    "        pass\n",
    "\n",
    "class Dog(Animal):\n",
    "    def speak(self):\n",
    "        return \"Woof!\"\n",
    "\n",
    "class Cat(Animal):\n",
    "    def speak(self):\n",
    "        return \"Meow!\"\n",
    "\n",
    "animals = [Dog(), Cat()]\n",
    "for animal in animals:\n",
    "    print(animal.speak())"
   ]
  },
  {
   "cell_type": "code",
   "execution_count": 96,
   "id": "657f2adf-168b-4284-9750-4377ad7ed82b",
   "metadata": {},
   "outputs": [
    {
     "name": "stdout",
     "output_type": "stream",
     "text": [
      "5 7\n",
      "Woof!\n",
      "Meow!\n"
     ]
    }
   ],
   "source": [
    "# Q-5\n",
    "# Polymorphism: Involves different classes having methods with the same name.\n",
    "# Method Overloading: Involves a single class having multiple methods with the same name but different parameters.\n",
    "# Python does not support method overloading directly.\n",
    "# Operator Overloading (Polymorphism)\n",
    "class Vector:\n",
    "    def __init__(self, x, y):\n",
    "        self.x = x\n",
    "        self.y = y\n",
    "\n",
    "    def __add__(self, other):\n",
    "        return Vector(self.x + other.x, self.y + other.y)\n",
    "\n",
    "v1 = Vector(2, 3)\n",
    "v2 = Vector(3, 4)\n",
    "v3 = v1 + v2\n",
    "print(v3.x, v3.y)\n",
    "\n",
    "# Polymorphism (Method Overriding)\n",
    "class Animal:\n",
    "    def speak(self):\n",
    "        pass\n",
    "\n",
    "class Dog(Animal):\n",
    "    def speak(self):\n",
    "        return \"Woof!\"\n",
    "\n",
    "class Cat(Animal):\n",
    "    def speak(self):\n",
    "        return \"Meow!\"\n",
    "\n",
    "animals = [Dog(), Cat()]\n",
    "for animal in animals:\n",
    "    print(animal.speak())"
   ]
  },
  {
   "cell_type": "code",
   "execution_count": 97,
   "id": "54e492bd-e284-417f-afd5-32fc4f199bc8",
   "metadata": {},
   "outputs": [
    {
     "name": "stdout",
     "output_type": "stream",
     "text": [
      "Woof!\n",
      "Meow!\n",
      "Chirp!\n"
     ]
    }
   ],
   "source": [
    "# Q-6\n",
    "class Animal:\n",
    "    def speak(self):\n",
    "        pass\n",
    "\n",
    "class Dog(Animal):\n",
    "    def speak(self):\n",
    "        return \"Woof!\"\n",
    "\n",
    "class Cat(Animal):\n",
    "    def speak(self):\n",
    "        return \"Meow!\"\n",
    "\n",
    "class Bird(Animal):\n",
    "    def speak(self):\n",
    "        return \"Chirp!\"\n",
    "\n",
    "animals = [Dog(), Cat(), Bird()]\n",
    "for animal in animals:\n",
    "    print(animal.speak())"
   ]
  },
  {
   "cell_type": "code",
   "execution_count": 98,
   "id": "8bf36ce3-fdcd-4318-bbc7-5c293a8f912e",
   "metadata": {},
   "outputs": [
    {
     "name": "stdout",
     "output_type": "stream",
     "text": [
      "Woof!\n",
      "Meow!\n"
     ]
    }
   ],
   "source": [
    "# Q-7\n",
    "from abc import ABC, abstractmethod\n",
    "\n",
    "class Animal(ABC):\n",
    "    @abstractmethod\n",
    "    def speak(self):\n",
    "        pass\n",
    "\n",
    "class Dog(Animal):\n",
    "    def speak(self):\n",
    "        return \"Woof!\"\n",
    "\n",
    "class Cat(Animal):\n",
    "    def speak(self):\n",
    "        return \"Meow!\"\n",
    "\n",
    "animals = [Dog(), Cat()]\n",
    "for animal in animals:\n",
    "    print(animal.speak())"
   ]
  },
  {
   "cell_type": "code",
   "execution_count": 99,
   "id": "40c78ede-1bb8-419f-9d89-79ad5d876ecb",
   "metadata": {},
   "outputs": [
    {
     "name": "stdout",
     "output_type": "stream",
     "text": [
      "Car started\n",
      "Bicycle started\n",
      "Boat started\n"
     ]
    }
   ],
   "source": [
    "# Q-8\n",
    "class Vehicle:\n",
    "    def start(self):\n",
    "        pass\n",
    "\n",
    "class Car(Vehicle):\n",
    "    def start(self):\n",
    "        print(\"Car started\")\n",
    "\n",
    "class Bicycle(Vehicle):\n",
    "    def start(self):\n",
    "        print(\"Bicycle started\")\n",
    "\n",
    "class Boat(Vehicle):\n",
    "    def start(self):\n",
    "        print(\"Boat started\")\n",
    "\n",
    "vehicles = [Car(), Bicycle(), Boat()]\n",
    "for vehicle in vehicles:\n",
    "    vehicle.start()"
   ]
  },
  {
   "cell_type": "code",
   "execution_count": 100,
   "id": "cc63c377-860c-4b08-ba52-b19092dba2d2",
   "metadata": {},
   "outputs": [
    {
     "name": "stdout",
     "output_type": "stream",
     "text": [
      "True\n",
      "True\n"
     ]
    }
   ],
   "source": [
    "# Q-9\n",
    "# Significance of isinstance() and issubclass():\n",
    "# isinstance(): Checks if an object is an instance of a class or a tuple of classes.\n",
    "# issubclass(): Checks if a class is a subclass of another class or a tuple of classes.\n",
    "print(isinstance(5, int)) \n",
    "print(issubclass(bool, int)) "
   ]
  },
  {
   "cell_type": "code",
   "execution_count": 101,
   "id": "4a9d6a71-d282-4b8a-ba39-185838e5a8e0",
   "metadata": {},
   "outputs": [],
   "source": [
    "# Q-10\n",
    "# The @abstractmethod decorator is used to declare a method as abstract, which means it must be implemented by any subclass.\n",
    "from abc import ABC, abstractmethod\n",
    "\n",
    "class Animal(ABC):\n",
    "    @abstractmethod\n",
    "    def speak(self):\n",
    "        pass\n",
    "\n",
    "class Dog(Animal):\n",
    "    def speak(self):\n",
    "        return \"Woof!\""
   ]
  },
  {
   "cell_type": "code",
   "execution_count": 103,
   "id": "ebf3519f-ec31-4d02-8a02-843a668e324c",
   "metadata": {},
   "outputs": [
    {
     "name": "stdout",
     "output_type": "stream",
     "text": [
      "78.5\n",
      "24\n"
     ]
    }
   ],
   "source": [
    "# Q-11\n",
    "class Shape:\n",
    "    def area(self):\n",
    "        pass\n",
    "\n",
    "class Circle(Shape):\n",
    "    def __init__(self, radius):\n",
    "        self.radius = radius\n",
    "\n",
    "    def area(self):\n",
    "        return 3.14 * self.radius * self.radius\n",
    "\n",
    "class Rectangle(Shape):\n",
    "    def __init__(self, width, height):\n",
    "        self.width = width\n",
    "        self.height = height\n",
    "\n",
    "    def area(self):\n",
    "        return self.width * self.height\n",
    "\n",
    "shapes = [Circle(5), Rectangle(4, 6)]\n",
    "for shape in shapes:\n",
    "    print(shape.area())"
   ]
  },
  {
   "cell_type": "markdown",
   "id": "2e19b5e2-918a-447f-92c9-869b56cb7925",
   "metadata": {},
   "source": [
    "# Q-12\n",
    "Benefits of Polymorphism:\n",
    "\n",
    "Code Reusability: Write generic code that works with objects of multiple types.\n",
    "\n",
    "Flexibility: Easily extend the system with new classes.\n",
    "\n",
    "Maintenance: Simplifies code maintenance by allowing changes to classes independently."
   ]
  },
  {
   "cell_type": "code",
   "execution_count": 104,
   "id": "51b47179-70be-40f7-ac0f-d749fbc1548c",
   "metadata": {},
   "outputs": [
    {
     "name": "stdout",
     "output_type": "stream",
     "text": [
      "Some sound Woof!\n"
     ]
    }
   ],
   "source": [
    "# Q-13\n",
    "class Animal:\n",
    "    def speak(self):\n",
    "        return \"Some sound\"\n",
    "\n",
    "class Dog(Animal):\n",
    "    def speak(self):\n",
    "        return super().speak() + \" Woof!\"\n",
    "\n",
    "dog = Dog()\n",
    "print(dog.speak())"
   ]
  },
  {
   "cell_type": "code",
   "execution_count": 105,
   "id": "ba6ec23f-866c-4eab-9079-a20b5f6bc3ad",
   "metadata": {},
   "outputs": [
    {
     "name": "stdout",
     "output_type": "stream",
     "text": [
      "400\n",
      "-100\n"
     ]
    }
   ],
   "source": [
    "# Q-14\n",
    "class Account:\n",
    "    def __init__(self, balance):\n",
    "        self.balance = balance\n",
    "\n",
    "    def withdraw(self, amount):\n",
    "        pass\n",
    "\n",
    "class SavingsAccount(Account):\n",
    "    def withdraw(self, amount):\n",
    "        if amount <= self.balance:\n",
    "            self.balance -= amount\n",
    "            return self.balance\n",
    "        else:\n",
    "            return \"Insufficient funds\"\n",
    "\n",
    "class CheckingAccount(Account):\n",
    "    def withdraw(self, amount):\n",
    "        if amount <= self.balance + 1000:  # Overdraft limit\n",
    "            self.balance -= amount\n",
    "            return self.balance\n",
    "        else:\n",
    "            return \"Insufficient funds\"\n",
    "\n",
    "accounts = [SavingsAccount(1000), CheckingAccount(500)]\n",
    "for account in accounts:\n",
    "    print(account.withdraw(600))"
   ]
  },
  {
   "cell_type": "code",
   "execution_count": 106,
   "id": "839e3cd9-9e24-4c34-9d73-9eb9d35ac054",
   "metadata": {},
   "outputs": [
    {
     "name": "stdout",
     "output_type": "stream",
     "text": [
      "5 7\n",
      "6 9\n"
     ]
    }
   ],
   "source": [
    "# Q-15\n",
    "class Vector:\n",
    "    def __init__(self, x, y):\n",
    "        self.x = x\n",
    "        self.y = y\n",
    "\n",
    "    def __add__(self, other):\n",
    "        return Vector(self.x + other.x, self.y + other.y)\n",
    "\n",
    "    def __mul__(self, scalar):\n",
    "        return Vector(self.x * scalar, self.y * scalar)\n",
    "\n",
    "v1 = Vector(2, 3)\n",
    "v2 = Vector(3, 4)\n",
    "v3 = v1 + v2\n",
    "v4 = v1 * 3\n",
    "print(v3.x, v3.y)\n",
    "print(v4.x, v4.y)"
   ]
  },
  {
   "cell_type": "code",
   "execution_count": 107,
   "id": "94e5ea06-f444-4513-a479-b5fc6b21381f",
   "metadata": {},
   "outputs": [
    {
     "name": "stdout",
     "output_type": "stream",
     "text": [
      "Woof!\n",
      "Meow!\n"
     ]
    }
   ],
   "source": [
    "# Q-16\n",
    "class Animal:\n",
    "    def speak(self):\n",
    "        return \"Some sound\"\n",
    "\n",
    "class Dog(Animal):\n",
    "    def speak(self):\n",
    "        return \"Woof!\"\n",
    "\n",
    "class Cat(Animal):\n",
    "    def speak(self):\n",
    "        return \"Meow!\"\n",
    "\n",
    "animals = [Dog(), Cat()]\n",
    "for animal in animals:\n",
    "    print(animal.speak())"
   ]
  },
  {
   "cell_type": "code",
   "execution_count": 109,
   "id": "9fedc185-56e5-4b15-8a80-0f434719c4e9",
   "metadata": {},
   "outputs": [
    {
     "name": "stdout",
     "output_type": "stream",
     "text": [
      "8000\n",
      "6000\n",
      "5000\n"
     ]
    }
   ],
   "source": [
    "# Q-17\n",
    "class Employee:\n",
    "    def calculate_salary(self):\n",
    "        pass\n",
    "\n",
    "class Manager(Employee):\n",
    "    def calculate_salary(self):\n",
    "        return 8000\n",
    "\n",
    "class Developer(Employee):\n",
    "    def calculate_salary(self):\n",
    "        return 6000\n",
    "\n",
    "class Designer(Employee):\n",
    "    def calculate_salary(self):\n",
    "        return 5000\n",
    "\n",
    "employees = [Manager(), Developer(), Designer()]\n",
    "for employee in employees:\n",
    "    print(employee.calculate_salary())"
   ]
  },
  {
   "cell_type": "code",
   "execution_count": 111,
   "id": "572dd3ba-75af-4a9a-8def-6b87133b0b55",
   "metadata": {},
   "outputs": [
    {
     "name": "stdout",
     "output_type": "stream",
     "text": [
      "8\n",
      "15\n"
     ]
    }
   ],
   "source": [
    "# Q-18\n",
    "def add(a, b):\n",
    "    return a + b\n",
    "\n",
    "def multiply(a, b):\n",
    "    return a * b\n",
    "\n",
    "def operate(func, a, b):\n",
    "    return func(a, b)\n",
    "\n",
    "print(operate(add, 5, 3))\n",
    "print(operate(multiply, 5, 3))"
   ]
  },
  {
   "cell_type": "markdown",
   "id": "4fdad500-d941-46fd-8120-8e0033abf378",
   "metadata": {},
   "source": [
    "# Q-19\n",
    "Interfaces:\n",
    "Interfaces define a contract or a set of method signatures that a class must implement.\n",
    "Interfaces do not provide any implementation details; they only specify the method names, parameters, and return types.\n",
    "A class can implement multiple interfaces, allowing for multiple forms of polymorphism.\n",
    "\n",
    "Abstract Classes:\n",
    "Abstract classes are partially implemented classes that serve as a base for other classes.\n",
    "They can provide default method implementations and attribute definitions, as well as abstract methods that must be implemented by the subclasses."
   ]
  },
  {
   "cell_type": "code",
   "execution_count": 113,
   "id": "e738de05-f403-422b-ad42-94d8d3a87363",
   "metadata": {},
   "outputs": [
    {
     "name": "stdout",
     "output_type": "stream",
     "text": [
      "Lion:\n",
      "  Eating: Mammal is eating\n",
      "  Sleeping: Mammal is sleeping\n",
      "  Sound: Roar\n",
      "\n",
      "Eagle:\n",
      "  Eating: Bird is eating\n",
      "  Sleeping: Bird is sleeping\n",
      "  Sound: Screech\n",
      "\n",
      "Crocodile:\n",
      "  Eating: Reptile is eating\n",
      "  Sleeping: Reptile is sleeping\n",
      "  Sound: Growl\n",
      "\n"
     ]
    }
   ],
   "source": [
    "# Q-20\n",
    "from abc import ABC, abstractmethod\n",
    "\n",
    "# Base Animal class\n",
    "class Animal(ABC):\n",
    "    @abstractmethod\n",
    "    def eat(self):\n",
    "        pass\n",
    "    \n",
    "    @abstractmethod\n",
    "    def sleep(self):\n",
    "        pass\n",
    "    \n",
    "    @abstractmethod\n",
    "    def make_sound(self):\n",
    "        pass\n",
    "    \n",
    "class Mammal(Animal):\n",
    "    def eat(self):\n",
    "        return \"Mammal is eating\"\n",
    "\n",
    "    def sleep(self):\n",
    "        return \"Mammal is sleeping\"\n",
    "\n",
    "    def make_sound(self):\n",
    "        return \"Mammal sound\"\n",
    "\n",
    "class Bird(Animal):\n",
    "    def eat(self):\n",
    "        return \"Bird is eating\"\n",
    "\n",
    "    def sleep(self):\n",
    "        return \"Bird is sleeping\"\n",
    "\n",
    "    def make_sound(self):\n",
    "        return \"Bird sound\"\n",
    "\n",
    "class Reptile(Animal):\n",
    "    def eat(self):\n",
    "        return \"Reptile is eating\"\n",
    "\n",
    "    def sleep(self):\n",
    "        return \"Reptile is sleeping\"\n",
    "\n",
    "    def make_sound(self):\n",
    "        return \"Reptile sound\"\n",
    "\n",
    "class Lion(Mammal):\n",
    "    def make_sound(self):\n",
    "        return \"Roar\"\n",
    "\n",
    "class Eagle(Bird):\n",
    "    def make_sound(self):\n",
    "        return \"Screech\"\n",
    "    \n",
    "class Crocodile(Reptile):\n",
    "    def make_sound(self):\n",
    "        return \"Growl\"\n",
    "\n",
    "def simulate_zoo(animals):\n",
    "    for animal in animals:\n",
    "        print(f\"{animal.__class__.__name__}:\")\n",
    "        print(f\"  Eating: {animal.eat()}\")\n",
    "        print(f\"  Sleeping: {animal.sleep()}\")\n",
    "        print(f\"  Sound: {animal.make_sound()}\")\n",
    "        print()\n",
    "\n",
    "animals = [\n",
    "    Lion(),\n",
    "    Eagle(),\n",
    "    Crocodile()\n",
    "]\n",
    "\n",
    "simulate_zoo(animals)"
   ]
  },
  {
   "cell_type": "markdown",
   "id": "e984a712-7c22-4ea2-8936-cb3a41389f37",
   "metadata": {},
   "source": [
    "# Abstraction\n",
    "# Q-1\n",
    "Abstraction in Python is the concept of hiding the complex implementation details and showing only the essential features of the object. It is one of the core principles of object-oriented programming (OOP) that helps in managing complexity by allowing programmers to work with higher-level concepts rather than low-level details."
   ]
  },
  {
   "cell_type": "markdown",
   "id": "afb6c8d7-c17a-4e31-8eb1-5989693d76a8",
   "metadata": {},
   "source": [
    "# Q-2\n",
    "Benefits of Abstraction\n",
    "\n",
    "Code Organization: Abstraction helps in organizing code into classes and methods, making it more modular and easier to understand.\n",
    "\n",
    "Complexity Reduction: By hiding the complex details and showing only the necessary parts, abstraction reduces the complexity and makes the code more manageable.\n",
    "\n",
    "Improved Maintainability: Changes to the implementation can be made without affecting the higher-level code that uses these abstractions."
   ]
  },
  {
   "cell_type": "code",
   "execution_count": 114,
   "id": "dea17694-1abe-49fa-897a-221808bf8e72",
   "metadata": {},
   "outputs": [
    {
     "name": "stdout",
     "output_type": "stream",
     "text": [
      "The area of the Circle is 78.53981633974483\n",
      "The area of the Rectangle is 24\n"
     ]
    }
   ],
   "source": [
    "# Q-3\n",
    "from abc import ABC, abstractmethod\n",
    "import math\n",
    "\n",
    "class Shape(ABC):\n",
    "    @abstractmethod\n",
    "    def calculate_area(self):\n",
    "        pass\n",
    "\n",
    "class Circle(Shape):\n",
    "    def __init__(self, radius):\n",
    "        self.radius = radius\n",
    "    \n",
    "    def calculate_area(self):\n",
    "        return math.pi * self.radius ** 2\n",
    "\n",
    "class Rectangle(Shape):\n",
    "    def __init__(self, width, height):\n",
    "        self.width = width\n",
    "        self.height = height\n",
    "    \n",
    "    def calculate_area(self):\n",
    "        return self.width * self.height\n",
    "\n",
    "shapes = [Circle(5), Rectangle(4, 6)]\n",
    "\n",
    "for shape in shapes:\n",
    "    print(f\"The area of the {shape.__class__.__name__} is {shape.calculate_area()}\")"
   ]
  },
  {
   "cell_type": "code",
   "execution_count": 115,
   "id": "56495bc5-09e2-430b-8f7a-a2d3e6110651",
   "metadata": {},
   "outputs": [
    {
     "name": "stdout",
     "output_type": "stream",
     "text": [
      "Doing something\n"
     ]
    }
   ],
   "source": [
    "# Q-4\n",
    "from abc import ABC, abstractmethod\n",
    "\n",
    "class AbstractClassExample(ABC):\n",
    "    @abstractmethod\n",
    "    def do_something(self):\n",
    "        pass\n",
    "\n",
    "class ConcreteClassExample(AbstractClassExample):\n",
    "    def do_something(self):\n",
    "        print(\"Doing something\")\n",
    "\n",
    "obj = ConcreteClassExample()\n",
    "obj.do_something()"
   ]
  },
  {
   "cell_type": "markdown",
   "id": "60a54bac-2024-4e97-8612-316e1101f04b",
   "metadata": {},
   "source": [
    "# Q-5\n",
    " Differences Between Abstract and Regular Classes\n",
    " \n",
    "Instantiation: Abstract classes cannot be instantiated, whereas regular classes can.\n",
    "\n",
    "Purpose: Abstract classes are used to define a template for other classes, enforcing certain methods to be implemented in derived classes."
   ]
  },
  {
   "cell_type": "code",
   "execution_count": 118,
   "id": "5c34f3cf-5673-4c5c-bb3f-eaaf67177d70",
   "metadata": {},
   "outputs": [
    {
     "name": "stdout",
     "output_type": "stream",
     "text": [
      "Insufficient funds.\n",
      "Account balance: 1300.00\n"
     ]
    }
   ],
   "source": [
    "# Q-6\n",
    "from abc import ABC, abstractmethod\n",
    "\n",
    "class BankAccount(ABC):\n",
    "    @abstractmethod\n",
    "    def deposit(self, amount):\n",
    "        pass\n",
    "\n",
    "    @abstractmethod\n",
    "    def withdraw(self, amount):\n",
    "        pass\n",
    "\n",
    "    @abstractmethod\n",
    "    def get_balance(self):\n",
    "        pass\n",
    "\n",
    "class CheckingAccount(BankAccount):\n",
    "    def __init__(self, initial_balance=0):\n",
    "        self.__balance = initial_balance\n",
    "\n",
    "    def deposit(self, amount):\n",
    "        self.__balance += amount\n",
    "\n",
    "    def withdraw(self, amount):\n",
    "        if amount <= self.__balance:\n",
    "            self.__balance -= amount\n",
    "        else:\n",
    "            print(\"Insufficient funds.\")\n",
    "\n",
    "    def get_balance(self):\n",
    "        return self.__balance\n",
    "\n",
    "account = CheckingAccount(1000)\n",
    "\n",
    "account.deposit(500)\n",
    "account.withdraw(200)\n",
    "account.withdraw(2000)\n",
    "\n",
    "balance = account.get_balance()\n",
    "print(f\"Account balance: {balance:.2f}\")"
   ]
  },
  {
   "cell_type": "code",
   "execution_count": 121,
   "id": "d5a929fb-6254-469d-812a-ab88c7f41952",
   "metadata": {},
   "outputs": [
    {
     "name": "stdout",
     "output_type": "stream",
     "text": [
      "78.5\n",
      "31.5\n"
     ]
    }
   ],
   "source": [
    "# Q-7\n",
    "#Interfaces are not natively supported, but abstract classes and methods can be used to achieve similar functionality.\n",
    "#An interface is a blueprint for structuring classes, ensuring they adhere to specific rules and requirements, and fostering \n",
    "#maintainable and robust code. Interfaces are essential in object-oriented programming,enabling well-structured, extensible \n",
    "#code.\n",
    "from abc import ABC, abstractmethod\n",
    "\n",
    "class Shape(ABC):\n",
    "    @abstractmethod\n",
    "    def area(self):\n",
    "        pass\n",
    "\n",
    "    @abstractmethod\n",
    "    def perimeter(self):\n",
    "        pass\n",
    "\n",
    "class Circle(Shape):\n",
    "    def __init__(self, radius):\n",
    "        self.radius = radius\n",
    "\n",
    "    def area(self):\n",
    "        return 3.14 * self.radius ** 2\n",
    "\n",
    "    def perimeter(self):\n",
    "        return 2 * 3.15 * self.radius\n",
    "\n",
    "circle = Circle(5)\n",
    "\n",
    "print(circle.area())\n",
    "print(circle.perimeter())"
   ]
  },
  {
   "cell_type": "code",
   "execution_count": 124,
   "id": "b174e13c-4288-404b-9ae3-17cde47086ea",
   "metadata": {},
   "outputs": [
    {
     "name": "stdout",
     "output_type": "stream",
     "text": [
      "Dog is eating\n",
      "Dog is sleeping\n"
     ]
    }
   ],
   "source": [
    "# Q-8\n",
    "from abc import ABC, abstractmethod\n",
    "\n",
    "class Animal(ABC):\n",
    "    @abstractmethod\n",
    "    def eat(self):\n",
    "        pass\n",
    "    \n",
    "    @abstractmethod\n",
    "    def sleep(self):\n",
    "        pass\n",
    "\n",
    "class Dog(Animal):\n",
    "    def eat(self):\n",
    "        print(\"Dog is eating\")\n",
    "    \n",
    "    def sleep(self):\n",
    "        print(\"Dog is sleeping\")\n",
    "\n",
    "animals = [Dog()]\n",
    "\n",
    "for animal in animals:\n",
    "    animal.eat()\n",
    "    animal.sleep()"
   ]
  },
  {
   "cell_type": "markdown",
   "id": "9d47df8d-b534-469d-a320-ce333c4a131e",
   "metadata": {},
   "source": [
    "# Q-9\n",
    "Encapsulation is the practice of restricting direct access to some of an object's components and can be used to hide the internal representation, or state, of an object from the outside. This supports the concept of abstraction by providing a clear interface and hiding the implementation details."
   ]
  },
  {
   "cell_type": "markdown",
   "id": "de749160-9e84-4c22-b891-63194f019f74",
   "metadata": {},
   "source": [
    "# Q-10\n",
    "Abstract methods enforce that subclasses implement the specific method, ensuring a consistent interface across different implementations."
   ]
  },
  {
   "cell_type": "code",
   "execution_count": 127,
   "id": "278bc755-ad1e-4ccd-939d-85b9c92db26b",
   "metadata": {},
   "outputs": [
    {
     "name": "stdout",
     "output_type": "stream",
     "text": [
      "Car is starting\n",
      "Car is stopping\n"
     ]
    }
   ],
   "source": [
    "# Q-11\n",
    "from abc import ABC, abstractmethod\n",
    "\n",
    "class Vehicle(ABC):\n",
    "    @abstractmethod\n",
    "    def start(self):\n",
    "        pass\n",
    "    \n",
    "    @abstractmethod\n",
    "    def stop(self):\n",
    "        pass\n",
    "\n",
    "class Car(Vehicle):\n",
    "    def start(self):\n",
    "        print(\"Car is starting\")\n",
    "    \n",
    "    def stop(self):\n",
    "        print(\"Car is stopping\")\n",
    "\n",
    "vehicles = [Car()]\n",
    "\n",
    "for vehicle in vehicles:\n",
    "    vehicle.start()\n",
    "    vehicle.stop()"
   ]
  },
  {
   "cell_type": "code",
   "execution_count": 128,
   "id": "d2d58fd2-2426-45f5-a7cc-d62f85b57936",
   "metadata": {},
   "outputs": [
    {
     "name": "stdout",
     "output_type": "stream",
     "text": [
      "Some Value\n"
     ]
    }
   ],
   "source": [
    "# Q-12\n",
    "from abc import ABC, abstractmethod\n",
    "\n",
    "class BaseClass(ABC):\n",
    "    @property\n",
    "    @abstractmethod\n",
    "    def value(self):\n",
    "        pass\n",
    "\n",
    "class DerivedClass(BaseClass):\n",
    "    @property\n",
    "    def value(self):\n",
    "        return \"Some Value\"\n",
    "\n",
    "obj = DerivedClass()\n",
    "print(obj.value)"
   ]
  },
  {
   "cell_type": "code",
   "execution_count": 129,
   "id": "eb1e7b99-5f3c-47ea-97e1-c837611a7ecc",
   "metadata": {},
   "outputs": [
    {
     "name": "stdout",
     "output_type": "stream",
     "text": [
      "Manager salary\n",
      "Developer salary\n",
      "Designer salary\n"
     ]
    }
   ],
   "source": [
    "# Q-13\n",
    "from abc import ABC, abstractmethod\n",
    "\n",
    "class Employee(ABC):\n",
    "    @abstractmethod\n",
    "    def get_salary(self):\n",
    "        pass\n",
    "\n",
    "class Manager(Employee):\n",
    "    def get_salary(self):\n",
    "        return \"Manager salary\"\n",
    "\n",
    "class Developer(Employee):\n",
    "    def get_salary(self):\n",
    "        return \"Developer salary\"\n",
    "\n",
    "class Designer(Employee):\n",
    "    def get_salary(self):\n",
    "        return \"Designer salary\"\n",
    "\n",
    "employees = [Manager(), Developer(), Designer()]\n",
    "\n",
    "for employee in employees:\n",
    "    print(employee.get_salary())"
   ]
  },
  {
   "cell_type": "markdown",
   "id": "ae21d414-b4b6-44f9-9a17-c1bf4f411e9d",
   "metadata": {},
   "source": [
    "# Q-14\n",
    " Abstract vs Concrete Classes\n",
    " \n",
    "Abstract Classes: Cannot be instantiated; used to define an interface.\n",
    "\n",
    "Concrete Classes: Can be instantiated; provide implementation details."
   ]
  },
  {
   "cell_type": "markdown",
   "id": "12bcba92-2b8e-4e1a-8329-4d43451615c5",
   "metadata": {},
   "source": [
    "# Q-15.\n",
    "Abstract Data Types (ADTs)\n",
    "\n",
    "Abstract data types are models of data structures that provide a certain interface without specifying the implementation.\n",
    "Examples include stacks, queues, and lists."
   ]
  },
  {
   "cell_type": "code",
   "execution_count": 130,
   "id": "f251febd-9623-4c23-a293-ad96514e877f",
   "metadata": {},
   "outputs": [
    {
     "name": "stdout",
     "output_type": "stream",
     "text": [
      "Laptop is powering on\n",
      "Laptop is shutting down\n"
     ]
    }
   ],
   "source": [
    "# Q-16\n",
    "from abc import ABC, abstractmethod\n",
    "\n",
    "class Computer(ABC):\n",
    "    @abstractmethod\n",
    "    def power_on(self):\n",
    "        pass\n",
    "    \n",
    "    @abstractmethod\n",
    "    def shutdown(self):\n",
    "        pass\n",
    "\n",
    "class Laptop(Computer):\n",
    "    def power_on(self):\n",
    "        print(\"Laptop is powering on\")\n",
    "    \n",
    "    def shutdown(self):\n",
    "        print(\"Laptop is shutting down\")\n",
    "\n",
    "computers = [Laptop()]\n",
    "\n",
    "for computer in computers:\n",
    "    computer.power_on()\n",
    "    computer.shutdown()"
   ]
  },
  {
   "cell_type": "markdown",
   "id": "b6ad7fdb-3f43-4dc7-a5d5-e92701d8c2c3",
   "metadata": {},
   "source": [
    "# Q-17\n",
    "Benefits of Abstraction in Large-scale Projects\n",
    "\n",
    "Modularity: Breaking down complex systems into manageable parts.\n",
    "\n",
    "Reusability: Abstracted components can be reused across different parts of the project.\n",
    "\n",
    "Maintenance: Easier to update and maintain abstracted components without affecting other parts."
   ]
  },
  {
   "cell_type": "markdown",
   "id": "dd5b981c-efc7-4caf-95a6-24bb8601e6c8",
   "metadata": {},
   "source": [
    "# Q-18\n",
    "Enhancing Code Reusability and Modularity\n",
    "\n",
    "Abstraction allows developers to create reusable components that can be used in different contexts without knowing the implementation details."
   ]
  },
  {
   "cell_type": "code",
   "execution_count": 132,
   "id": "4e75be48-9139-41fe-8654-771ea6bd4d6b",
   "metadata": {},
   "outputs": [
    {
     "name": "stdout",
     "output_type": "stream",
     "text": [
      "Book 'Myborn' by Rahul kumar added to the library\n",
      "Borrowing book 'Myborn'\n"
     ]
    }
   ],
   "source": [
    "# Q-19\n",
    "from abc import ABC, abstractmethod\n",
    "\n",
    "class LibrarySystem(ABC):\n",
    "    @abstractmethod\n",
    "    def add_book(self, title, author):\n",
    "        pass\n",
    "    \n",
    "    @abstractmethod\n",
    "    def borrow_book(self, title):\n",
    "        pass\n",
    "\n",
    "class Library(LibrarySystem):\n",
    "    def __init__(self):\n",
    "        self.books = {}\n",
    "    \n",
    "    def add_book(self, title, author):\n",
    "        self.books[title] = author\n",
    "        print(f\"Book '{title}' by {author} added to the library\")\n",
    "    \n",
    "    def borrow_book(self, title):\n",
    "        if title in self.books:\n",
    "            print(f\"Borrowing book '{title}'\")\n",
    "            del self.books[title]\n",
    "        else:\n",
    "            print(f\"Book '{title}' is not available\")\n",
    "\n",
    "library = Library()\n",
    "library.add_book(\"Myborn\", \"Rahul kumar\")\n",
    "library.borrow_book(\"Myborn\")"
   ]
  },
  {
   "cell_type": "markdown",
   "id": "c849b6dd-db35-4018-b817-b5038a4d8806",
   "metadata": {},
   "source": [
    "# Q-20\n",
    "Method Abstraction and Polymorphism\n",
    "\n",
    "Method abstraction in Python allows defining methods in an abstract class that must be implemented by subclasses. This supports polymorphism by enabling different implementations of the method in different subclasses."
   ]
  },
  {
   "cell_type": "code",
   "execution_count": null,
   "id": "dd004ec4-f38f-46ef-9940-345058f59593",
   "metadata": {},
   "outputs": [],
   "source": []
  }
 ],
 "metadata": {
  "kernelspec": {
   "display_name": "Python 3 (ipykernel)",
   "language": "python",
   "name": "python3"
  },
  "language_info": {
   "codemirror_mode": {
    "name": "ipython",
    "version": 3
   },
   "file_extension": ".py",
   "mimetype": "text/x-python",
   "name": "python",
   "nbconvert_exporter": "python",
   "pygments_lexer": "ipython3",
   "version": "3.10.8"
  }
 },
 "nbformat": 4,
 "nbformat_minor": 5
}
