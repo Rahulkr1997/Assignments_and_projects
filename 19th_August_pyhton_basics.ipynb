{
 "cells": [
  {
   "cell_type": "code",
   "execution_count": 1,
   "id": "13c86889-200e-4146-9bbf-841aac07cd15",
   "metadata": {},
   "outputs": [],
   "source": [
    "#Python basic variable\n",
    "# Q-1"
   ]
  },
  {
   "cell_type": "code",
   "execution_count": 2,
   "id": "32833e01-a2cd-43b8-a5b1-c5de1c30f7c1",
   "metadata": {},
   "outputs": [
    {
     "name": "stdout",
     "output_type": "stream",
     "text": [
      "After swapping, x = 20\n",
      "After swapping, y = 10\n"
     ]
    }
   ],
   "source": [
    "x = 10\n",
    "y = 20\n",
    "\n",
    "# swapping without using temporary values\n",
    "\n",
    "x = x + y\n",
    "y = x - y\n",
    "x = x - y\n",
    "\n",
    "print (\"After swapping, x =\", x)\n",
    "print (\"After swapping, y =\", y)"
   ]
  },
  {
   "cell_type": "code",
   "execution_count": 6,
   "id": "25ae5297-ab2b-4e9f-af90-44ff3b4ecc33",
   "metadata": {},
   "outputs": [
    {
     "name": "stdin",
     "output_type": "stream",
     "text": [
      "Enter the length of the rectangle:  15\n",
      "Enter the width of the rectangle:  10\n"
     ]
    },
    {
     "name": "stdout",
     "output_type": "stream",
     "text": [
      "The area of the rectangle is: 150\n"
     ]
    }
   ],
   "source": [
    "# Q-2\n",
    "# Taking length and width as inputs from the user\n",
    "length = int(input(\"Enter the length of the rectangle: \"))\n",
    "width = int(input(\"Enter the width of the rectangle: \"))\n",
    "# int input is given so that only numbers can be multiplied and no error should come for string multiplication.\n",
    "\n",
    "# Calculate the area of the rectangle\n",
    "area = length * width\n",
    "\n",
    "# Display the result\n",
    "print(\"The area of the rectangle is:\", area)"
   ]
  },
  {
   "cell_type": "code",
   "execution_count": 8,
   "id": "a6f1eea9-0e18-45b1-8a8d-e9b992c4e4b2",
   "metadata": {},
   "outputs": [
    {
     "name": "stdin",
     "output_type": "stream",
     "text": [
      "Enter the temperature in Celsius:  32\n"
     ]
    },
    {
     "name": "stdout",
     "output_type": "stream",
     "text": [
      "Temperature in Fahrenheit: 89.6\n"
     ]
    }
   ],
   "source": [
    "# Q-3\n",
    "# Taking temperature in Celsius as input from the user\n",
    "celsius = float(input(\"Enter the temperature in Celsius: \"))\n",
    "#In this program, the user is prompted to enter the temperature in Celsius using input(). \n",
    "#The input is then converted to a floating-point number using float(). \n",
    "\n",
    "# Convert Celsius to Fahrenheit\n",
    "fahrenheit = (celsius * 9/5) + 32\n",
    "\n",
    "# Displaying the result\n",
    "print(\"Temperature in Fahrenheit:\", fahrenheit)"
   ]
  },
  {
   "cell_type": "code",
   "execution_count": 9,
   "id": "26374079-cdcf-4159-9d08-e33091cf8122",
   "metadata": {},
   "outputs": [
    {
     "name": "stdin",
     "output_type": "stream",
     "text": [
      "Enter a string:  My name is Rahul kumar.\n"
     ]
    },
    {
     "name": "stdout",
     "output_type": "stream",
     "text": [
      "Length of the string: 23\n"
     ]
    }
   ],
   "source": [
    "# String based questions\n",
    "# Q-1\n",
    "# Taking a string as input\n",
    "input_string = input(\"Enter a string: \")\n",
    "\n",
    "# Calculating the length of the string\n",
    "string_length = len(input_string)\n",
    "\n",
    "# Displaying the result\n",
    "print(\"Length of the string:\", string_length)"
   ]
  },
  {
   "cell_type": "code",
   "execution_count": 10,
   "id": "da8076e2-35a5-430c-8b3d-d2713fe3f6d3",
   "metadata": {},
   "outputs": [
    {
     "name": "stdin",
     "output_type": "stream",
     "text": [
      "Enter a sentence:  My name is Rahul kumar.\n"
     ]
    },
    {
     "name": "stdout",
     "output_type": "stream",
     "text": [
      "Number of vowels in the sentence: 7\n"
     ]
    }
   ],
   "source": [
    "# Q-2\n",
    "# Taking a sentence as input\n",
    "input_sentence = input(\"Enter a sentence: \")\n",
    "\n",
    "# Converting the input sentence to lowercase to make the count case-insensitive\n",
    "input_sentence = input_sentence.lower()\n",
    "\n",
    "# Counting the number of vowels in the sentence\n",
    "vowels_count = sum(1 for char in input_sentence if char in \"aeiou\")\n",
    "\n",
    "# Display the result\n",
    "print(\"Number of vowels in the sentence:\", vowels_count)"
   ]
  },
  {
   "cell_type": "code",
   "execution_count": 11,
   "id": "8529a59c-7555-4c1a-a259-0637cc9ca878",
   "metadata": {},
   "outputs": [
    {
     "name": "stdin",
     "output_type": "stream",
     "text": [
      "Enter a string:  My name is Rahul kumar.\n"
     ]
    },
    {
     "name": "stdout",
     "output_type": "stream",
     "text": [
      "Reversed string: .ramuk luhaR si eman yM\n"
     ]
    }
   ],
   "source": [
    "# Q-3\n",
    "# Taking a string as input\n",
    "input_string = input(\"Enter a string: \")\n",
    "\n",
    "# Reversing the string using string slicing\n",
    "reversed_string = input_string[::-1]\n",
    "\n",
    "# Display the reversed string\n",
    "print(\"Reversed string:\", reversed_string)"
   ]
  },
  {
   "cell_type": "code",
   "execution_count": 16,
   "id": "e3282219-b5fa-4e7e-939f-e755b0dff7c2",
   "metadata": {},
   "outputs": [
    {
     "name": "stdin",
     "output_type": "stream",
     "text": [
      "Enter a string:  qwerty ytrewq\n"
     ]
    },
    {
     "name": "stdout",
     "output_type": "stream",
     "text": [
      "The entered string is a palindrome.\n"
     ]
    }
   ],
   "source": [
    "# Q-4\n",
    "# Taking a string as input\n",
    "input_string = input(\"Enter a string: \")\n",
    "\n",
    "# Removing spaces and converting to lowercase for case-insensitive comparison\n",
    "cleaned_string = input_string.replace(\" \", \"\").lower()\n",
    "# In this process we replaced spaces to no space to check palindrome.\n",
    "\n",
    "# Checking if the cleaned string is a palindrome\n",
    "palindrome_check = cleaned_string == cleaned_string[::-1]\n",
    "\n",
    "# Display the result\n",
    "if palindrome_check:\n",
    "    print(\"The entered string is a palindrome.\")\n",
    "else:\n",
    "    print(\"The entered string is not a palindrome.\")"
   ]
  },
  {
   "cell_type": "code",
   "execution_count": 17,
   "id": "6e4a87d9-8eec-4db2-974c-a588e0ab1179",
   "metadata": {},
   "outputs": [
    {
     "name": "stdin",
     "output_type": "stream",
     "text": [
      "Enter a string:  My name is Rahul kumar.\n"
     ]
    },
    {
     "name": "stdout",
     "output_type": "stream",
     "text": [
      "Modified string without spaces: MynameisRahulkumar.\n"
     ]
    }
   ],
   "source": [
    "# Q-5\n",
    "# Taking a string as input\n",
    "input_string = input(\"Enter a string: \")\n",
    "\n",
    "# Removing spaces from the string\n",
    "modified_string = input_string.replace(\" \", \"\")\n",
    "\n",
    "# Display the modified string\n",
    "print(\"Modified string without spaces:\", modified_string)"
   ]
  },
  {
   "cell_type": "code",
   "execution_count": null,
   "id": "1b27bfc9-6949-4325-8e8c-ea25ca784577",
   "metadata": {},
   "outputs": [],
   "source": []
  }
 ],
 "metadata": {
  "kernelspec": {
   "display_name": "Python 3 (ipykernel)",
   "language": "python",
   "name": "python3"
  },
  "language_info": {
   "codemirror_mode": {
    "name": "ipython",
    "version": 3
   },
   "file_extension": ".py",
   "mimetype": "text/x-python",
   "name": "python",
   "nbconvert_exporter": "python",
   "pygments_lexer": "ipython3",
   "version": "3.10.8"
  }
 },
 "nbformat": 4,
 "nbformat_minor": 5
}
