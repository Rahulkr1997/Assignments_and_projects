{
 "cells": [
  {
   "cell_type": "code",
   "execution_count": 2,
   "id": "a218cbb4-b44f-40ce-a89b-9d41a620b0b7",
   "metadata": {},
   "outputs": [
    {
     "name": "stdout",
     "output_type": "stream",
     "text": [
      "The number is negative.\n"
     ]
    }
   ],
   "source": [
    "# Basic if-else statement\n",
    "# Q-1\n",
    "def check_positive_negative(number):\n",
    "    if number > 0:\n",
    "        print(\"The number is positive.\")\n",
    "    elif number < 0:\n",
    "        print(\"The number is negative.\")\n",
    "    else:\n",
    "        print(\"The number is zero.\")\n",
    "\n",
    "check_positive_negative(-5)"
   ]
  },
  {
   "cell_type": "code",
   "execution_count": 3,
   "id": "ad235eb8-956b-40ae-89d0-081ce6301be0",
   "metadata": {},
   "outputs": [
    {
     "name": "stdout",
     "output_type": "stream",
     "text": [
      "You are eligible to vote.\n"
     ]
    }
   ],
   "source": [
    "# Q-2\n",
    "def check_voting_eligibility(age):\n",
    "    if age >= 18:\n",
    "        print(\"You are eligible to vote.\")\n",
    "    else:\n",
    "        print(\"You are not eligible to vote yet.\")\n",
    "\n",
    "check_voting_eligibility(25)"
   ]
  },
  {
   "cell_type": "code",
   "execution_count": 4,
   "id": "304d4e3d-2b48-47db-8e08-fd6c6c92078d",
   "metadata": {},
   "outputs": [
    {
     "name": "stdout",
     "output_type": "stream",
     "text": [
      "The maximum number is: 20\n"
     ]
    }
   ],
   "source": [
    "# Q-3\n",
    "def find_maximum(num1, num2):\n",
    "    if num1 > num2:\n",
    "        return num1\n",
    "    else:\n",
    "        return num2\n",
    "\n",
    "result = find_maximum(10, 20)\n",
    "print(\"The maximum number is:\", result)"
   ]
  },
  {
   "cell_type": "code",
   "execution_count": 7,
   "id": "596b6bdb-655b-4cd5-b98c-c8aeae80eb4c",
   "metadata": {},
   "outputs": [
    {
     "name": "stdout",
     "output_type": "stream",
     "text": [
      "Leap year\n"
     ]
    }
   ],
   "source": [
    "# Q-4\n",
    "def check_leap_year(year):\n",
    "    if (year % 4 == 0 and year % 100 != 0) or (year % 400 == 0):\n",
    "        print(\"Leap year\")\n",
    "    else:\n",
    "        print(\"Not a leap year\")\n",
    "\n",
    "check_leap_year(2024)"
   ]
  },
  {
   "cell_type": "code",
   "execution_count": 10,
   "id": "b52cd4b7-6ad2-4bbc-9722-85957dc912e2",
   "metadata": {},
   "outputs": [
    {
     "name": "stdout",
     "output_type": "stream",
     "text": [
      "The character is a consonant.\n"
     ]
    }
   ],
   "source": [
    "# Q-5\n",
    "def check_vowel_consonant(char):\n",
    "    vowels = 'aeiou'\n",
    "    if char.lower() in vowels:\n",
    "        print(\"The character is a vowel.\")\n",
    "    else:\n",
    "        print(\"The character is a consonant.\")\n",
    "\n",
    "check_vowel_consonant('G')"
   ]
  },
  {
   "cell_type": "code",
   "execution_count": 17,
   "id": "621192c7-3655-465e-ad29-b1fa7197ed12",
   "metadata": {},
   "outputs": [
    {
     "name": "stdout",
     "output_type": "stream",
     "text": [
      "The number is odd.\n",
      "The number is even.\n"
     ]
    }
   ],
   "source": [
    "# Q-6\n",
    "def check_even_odd(number):\n",
    "    if number % 2 == 0:\n",
    "        print(\"The number is even.\")\n",
    "    else:\n",
    "        print(\"The number is odd.\")\n",
    "\n",
    "check_even_odd(7)\n",
    "check_even_odd(10)"
   ]
  },
  {
   "cell_type": "code",
   "execution_count": 13,
   "id": "8f2309e2-a0a9-4e6c-b643-b666a01c6209",
   "metadata": {},
   "outputs": [
    {
     "name": "stdout",
     "output_type": "stream",
     "text": [
      "Absolute value: 2\n"
     ]
    }
   ],
   "source": [
    "# Q-7\n",
    "def absolute_value(number):\n",
    "    if number < 0:\n",
    "        return -number\n",
    "    else:\n",
    "        return number\n",
    "\n",
    "result = absolute_value(-2)\n",
    "print(\"Absolute value:\", result)"
   ]
  },
  {
   "cell_type": "code",
   "execution_count": 14,
   "id": "5fdb8dc1-7116-49ad-b861-f1f65dd7f567",
   "metadata": {},
   "outputs": [
    {
     "name": "stdout",
     "output_type": "stream",
     "text": [
      "The largest number is: 20\n"
     ]
    }
   ],
   "source": [
    "# Q-8\n",
    "def find_largest(num1, num2, num3):\n",
    "    if num1 >= num2 and num1 >= num3:\n",
    "        return num1\n",
    "    elif num2 >= num1 and num2 >= num3:\n",
    "        return num2\n",
    "    else:\n",
    "        return num3\n",
    "\n",
    "result = find_largest(10, 20, 15)\n",
    "print(\"The largest number is:\", result)"
   ]
  },
  {
   "cell_type": "code",
   "execution_count": 16,
   "id": "8cdb4f25-f93d-4561-80ab-43ce663ae8c2",
   "metadata": {},
   "outputs": [
    {
     "name": "stdout",
     "output_type": "stream",
     "text": [
      "The string is a palindrome.\n",
      "The string is not a palindrome.\n"
     ]
    }
   ],
   "source": [
    "# Q-9\n",
    "def check_palindrome(string):\n",
    "    if string == string[::-1]:\n",
    "        print(\"The string is a palindrome.\")\n",
    "    else:\n",
    "        print(\"The string is not a palindrome.\")\n",
    "\n",
    "check_palindrome(\"radar\")\n",
    "check_palindrome(\"rahul\")"
   ]
  },
  {
   "cell_type": "code",
   "execution_count": 18,
   "id": "6f97af23-90d4-4e4e-aa1c-3dda5662fc41",
   "metadata": {},
   "outputs": [
    {
     "name": "stdout",
     "output_type": "stream",
     "text": [
      "Grade: B\n"
     ]
    }
   ],
   "source": [
    "# Q-10\n",
    "def calculate_grade(score):\n",
    "    if score >= 90:\n",
    "        return 'A'\n",
    "    elif score >= 80:\n",
    "        return 'B'\n",
    "    elif score >= 70:\n",
    "        return 'C'\n",
    "    elif score >= 60:\n",
    "        return 'D'\n",
    "    else:\n",
    "        return 'F'\n",
    "\n",
    "result = calculate_grade(85)\n",
    "print(\"Grade:\", result)"
   ]
  },
  {
   "cell_type": "code",
   "execution_count": 19,
   "id": "e7b8868e-d3b7-4c24-b7fb-3fefe2634419",
   "metadata": {},
   "outputs": [
    {
     "name": "stdout",
     "output_type": "stream",
     "text": [
      "The largest number is: 30\n"
     ]
    }
   ],
   "source": [
    "# Nested If-Else Statements\n",
    "# Q-11\n",
    "def find_largest(num1, num2, num3):\n",
    "    if num1 >= num2:\n",
    "        if num1 >= num3:\n",
    "            return num1\n",
    "        else:\n",
    "            return num3\n",
    "    else:\n",
    "        if num2 >= num3:\n",
    "            return num2\n",
    "        else:\n",
    "            return num3\n",
    "\n",
    "num1 = 10\n",
    "num2 = 20\n",
    "num3 = 30\n",
    "result = find_largest(num1, num2, num3)\n",
    "print(\"The largest number is:\", result)"
   ]
  },
  {
   "cell_type": "code",
   "execution_count": 20,
   "id": "d4929aa6-0688-4d24-8d58-6ad9248d9758",
   "metadata": {},
   "outputs": [
    {
     "name": "stdout",
     "output_type": "stream",
     "text": [
      "The triangle is: Equilateral\n"
     ]
    }
   ],
   "source": [
    "# Q-12\n",
    "def classify_triangle(a, b, c):\n",
    "    if a == b == c:\n",
    "        return \"Equilateral\"\n",
    "    elif a == b or a == c or b == c:\n",
    "        return \"Isosceles\"\n",
    "    else:\n",
    "        return \"Scalene\"\n",
    "\n",
    "a = 5\n",
    "b = 5\n",
    "c = 5\n",
    "result = classify_triangle(a, b, c)\n",
    "print(\"The triangle is:\", result)"
   ]
  },
  {
   "cell_type": "code",
   "execution_count": 21,
   "id": "a34b3a47-c542-4177-8c46-d1c53a5e00da",
   "metadata": {},
   "outputs": [
    {
     "name": "stdout",
     "output_type": "stream",
     "text": [
      "The year is a leap year.\n",
      "The year is not a century year.\n"
     ]
    }
   ],
   "source": [
    "# Q-13\n",
    "def check_leap_century(year):\n",
    "    if year % 4 == 0 and year % 100 != 0:\n",
    "        print(\"The year is a leap year.\")\n",
    "    if year % 400 == 0:\n",
    "        print(\"The year is a century year.\")\n",
    "    else:\n",
    "        print(\"The year is not a century year.\")\n",
    "\n",
    "check_leap_century(2024)"
   ]
  },
  {
   "cell_type": "code",
   "execution_count": 22,
   "id": "7c4546c8-8a45-4e4c-b8d7-4175b9eaefda",
   "metadata": {},
   "outputs": [
    {
     "name": "stdout",
     "output_type": "stream",
     "text": [
      "The number is positive.\n"
     ]
    }
   ],
   "source": [
    "# Q-14\n",
    "def check_number_sign(number):\n",
    "    if number > 0:\n",
    "        print(\"The number is positive.\")\n",
    "    elif number < 0:\n",
    "        print(\"The number is negative.\")\n",
    "    else:\n",
    "        print(\"The number is zero.\")\n",
    "\n",
    "check_number_sign(5)"
   ]
  },
  {
   "cell_type": "code",
   "execution_count": 23,
   "id": "d9050c0d-6475-435c-a984-5c19faf27230",
   "metadata": {},
   "outputs": [
    {
     "name": "stdout",
     "output_type": "stream",
     "text": [
      "The person is a teenager.\n"
     ]
    }
   ],
   "source": [
    "# Q-15\n",
    "def check_teenager(age):\n",
    "    if 13 <= age <= 19:\n",
    "        print(\"The person is a teenager.\")\n",
    "    else:\n",
    "        print(\"The person is not a teenager.\")\n",
    "\n",
    "check_teenager(17)"
   ]
  },
  {
   "cell_type": "code",
   "execution_count": 24,
   "id": "11514fcb-d39f-4419-bd6e-2b086b270005",
   "metadata": {},
   "outputs": [
    {
     "name": "stdout",
     "output_type": "stream",
     "text": [
      "The angle is: Acute\n"
     ]
    }
   ],
   "source": [
    "# Q-16\n",
    "def classify_angle(angle):\n",
    "    if angle < 90:\n",
    "        return \"Acute\"\n",
    "    elif angle == 90:\n",
    "        return \"Right\"\n",
    "    else:\n",
    "        return \"Obtuse\"\n",
    "\n",
    "angle = 45\n",
    "result = classify_angle(angle)\n",
    "print(\"The angle is:\", result)"
   ]
  },
  {
   "cell_type": "code",
   "execution_count": 25,
   "id": "b4e6fe7e-e84e-41e6-b56e-3a3f603d47fe",
   "metadata": {},
   "outputs": [
    {
     "name": "stdout",
     "output_type": "stream",
     "text": [
      "The roots are: 4.0 2.0\n"
     ]
    }
   ],
   "source": [
    "# Q-17\n",
    "import math\n",
    "\n",
    "def calculate_roots(a, b, c):\n",
    "    discriminant = b ** 2 - 4 * a * c\n",
    "    if discriminant > 0:\n",
    "        root1 = (-b + math.sqrt(discriminant)) / (2 * a)\n",
    "        root2 = (-b - math.sqrt(discriminant)) / (2 * a)\n",
    "        return root1, root2\n",
    "    elif discriminant == 0:\n",
    "        root = -b / (2 * a)\n",
    "        return root\n",
    "    else:\n",
    "        return None\n",
    "\n",
    "a = 1\n",
    "b = -6\n",
    "c = 8\n",
    "root1, root2 = calculate_roots(a, b, c)\n",
    "print(\"The roots are:\", root1, root2)"
   ]
  },
  {
   "cell_type": "code",
   "execution_count": 26,
   "id": "66ee9f92-385a-46ad-a152-e86bddf1b0b3",
   "metadata": {},
   "outputs": [
    {
     "name": "stdout",
     "output_type": "stream",
     "text": [
      "The day is: Wednesday\n"
     ]
    }
   ],
   "source": [
    "# Q-18\n",
    "def determine_day(day_number):\n",
    "    days = [\"Monday\", \"Tuesday\", \"Wednesday\", \"Thursday\", \"Friday\", \"Saturday\", \"Sunday\"]\n",
    "    return days[day_number - 1]\n",
    "\n",
    "day_number = 3\n",
    "result = determine_day(day_number)\n",
    "print(\"The day is:\", result)"
   ]
  },
  {
   "cell_type": "code",
   "execution_count": 27,
   "id": "e823481e-1d51-47d0-9665-6470b2795f27",
   "metadata": {},
   "outputs": [
    {
     "name": "stdout",
     "output_type": "stream",
     "text": [
      "The year is a leap year.\n",
      "The year is not evenly divisible by 400.\n"
     ]
    }
   ],
   "source": [
    "# Q-19\n",
    "def check_leap_divisible_by_400(year):\n",
    "    if year % 4 == 0 and year % 100 != 0:\n",
    "        print(\"The year is a leap year.\")\n",
    "    if year % 400 == 0:\n",
    "        print(\"The year is evenly divisible by 400.\")\n",
    "    else:\n",
    "        print(\"The year is not evenly divisible by 400.\")\n",
    "\n",
    "check_leap_divisible_by_400(2024)"
   ]
  },
  {
   "cell_type": "code",
   "execution_count": 28,
   "id": "8642d443-c4b5-4d90-951e-7673e744954b",
   "metadata": {},
   "outputs": [
    {
     "name": "stdout",
     "output_type": "stream",
     "text": [
      "The number is prime\n"
     ]
    }
   ],
   "source": [
    "# Q-20\n",
    "def check_prime(number):\n",
    "    if number <= 1:\n",
    "        return False\n",
    "    elif number == 2:\n",
    "        return True\n",
    "    elif number % 2 == 0:\n",
    "        return False\n",
    "    else:\n",
    "        for i in range(3, int(number ** 0.5) + 1, 2):\n",
    "            if number % i == 0:\n",
    "                return False\n",
    "        return True\n",
    "\n",
    "number = 7\n",
    "result = check_prime(number)\n",
    "print(\"The number is\", \"prime\" if result else \"not prime\")"
   ]
  },
  {
   "cell_type": "code",
   "execution_count": 29,
   "id": "993f5c12-6c7c-47af-b8fb-c7521c9236b2",
   "metadata": {},
   "outputs": [
    {
     "name": "stdout",
     "output_type": "stream",
     "text": [
      "Grade: B\n"
     ]
    }
   ],
   "source": [
    "# Elif Statements\n",
    "# Q-21\n",
    "def assign_grade(score):\n",
    "    if score >= 90:\n",
    "        return 'A'\n",
    "    elif score >= 80:\n",
    "        return 'B'\n",
    "    elif score >= 70:\n",
    "        return 'C'\n",
    "    elif score >= 60:\n",
    "        return 'D'\n",
    "    else:\n",
    "        return 'F'\n",
    "\n",
    "score = 85\n",
    "result = assign_grade(score)\n",
    "print(\"Grade:\", result)"
   ]
  },
  {
   "cell_type": "code",
   "execution_count": 30,
   "id": "7fb473d8-8b9e-48d7-9dc3-1ba4488c8e06",
   "metadata": {},
   "outputs": [
    {
     "name": "stdout",
     "output_type": "stream",
     "text": [
      "The triangle is: Equilateral\n"
     ]
    }
   ],
   "source": [
    "# Q-22\n",
    "def classify_triangle_angles(angle1, angle2, angle3):\n",
    "    if angle1 == angle2 == angle3 == 60:\n",
    "        return \"Equilateral\"\n",
    "    elif angle1 == angle2 or angle1 == angle3 or angle2 == angle3:\n",
    "        return \"Isosceles\"\n",
    "    else:\n",
    "        return \"Scalene\"\n",
    "\n",
    "angle1 = 60\n",
    "angle2 = 60\n",
    "angle3 = 60\n",
    "result = classify_triangle_angles(angle1, angle2, angle3)\n",
    "print(\"The triangle is:\", result)"
   ]
  },
  {
   "cell_type": "code",
   "execution_count": 31,
   "id": "1eaf50fa-966d-4af4-a1e9-612326919a14",
   "metadata": {},
   "outputs": [
    {
     "name": "stdout",
     "output_type": "stream",
     "text": [
      "BMI Category: Overweight\n"
     ]
    }
   ],
   "source": [
    "# Q-23\n",
    "def categorize_bmi(bmi):\n",
    "    if bmi < 18.5:\n",
    "        return \"Underweight\"\n",
    "    elif 18.5 <= bmi < 25:\n",
    "        return \"Normal\"\n",
    "    elif 25 <= bmi < 30:\n",
    "        return \"Overweight\"\n",
    "    else:\n",
    "        return \"Obese\"\n",
    "\n",
    "bmi = 26\n",
    "result = categorize_bmi(bmi)\n",
    "print(\"BMI Category:\", result)"
   ]
  },
  {
   "cell_type": "code",
   "execution_count": 32,
   "id": "fdeb187d-4cf2-434b-b798-f34b740d229d",
   "metadata": {},
   "outputs": [
    {
     "name": "stdout",
     "output_type": "stream",
     "text": [
      "The number is: Negative\n"
     ]
    }
   ],
   "source": [
    "# Q-24\n",
    "def check_number_sign(number):\n",
    "    if number > 0:\n",
    "        return \"Positive\"\n",
    "    elif number < 0:\n",
    "        return \"Negative\"\n",
    "    else:\n",
    "        return \"Zero\"\n",
    "\n",
    "number = -5\n",
    "result = check_number_sign(number)\n",
    "print(\"The number is:\", result)"
   ]
  },
  {
   "cell_type": "code",
   "execution_count": 33,
   "id": "59ef7674-64a6-4565-9454-ff52449644d5",
   "metadata": {},
   "outputs": [
    {
     "name": "stdout",
     "output_type": "stream",
     "text": [
      "The character is: Uppercase\n"
     ]
    }
   ],
   "source": [
    "# Q-25\n",
    "def check_character_type(char):\n",
    "    if char.isupper():\n",
    "        return \"Uppercase\"\n",
    "    elif char.islower():\n",
    "        return \"Lowercase\"\n",
    "    else:\n",
    "        return \"Special Character\"\n",
    "\n",
    "character = 'A'\n",
    "result = check_character_type(character)\n",
    "print(\"The character is:\", result)"
   ]
  },
  {
   "cell_type": "code",
   "execution_count": 34,
   "id": "073d5db5-1885-4b38-90b7-fa3d80e88186",
   "metadata": {},
   "outputs": [
    {
     "name": "stdout",
     "output_type": "stream",
     "text": [
      "Discounted Price: 1080.0\n"
     ]
    }
   ],
   "source": [
    "# Q-26\n",
    "def calculate_discounted_price(amount):\n",
    "    if amount >= 1000:\n",
    "        discount = 0.1\n",
    "    elif amount >= 500:\n",
    "        discount = 0.05\n",
    "    else:\n",
    "        discount = 0\n",
    "    discounted_price = amount - (amount * discount)\n",
    "    return discounted_price\n",
    "\n",
    "purchase_amount = 1200\n",
    "result = calculate_discounted_price(purchase_amount)\n",
    "print(\"Discounted Price:\", result)"
   ]
  },
  {
   "cell_type": "code",
   "execution_count": 2,
   "id": "6d912536-2d9f-44c7-941b-ab440bdf5500",
   "metadata": {},
   "outputs": [
    {
     "name": "stdout",
     "output_type": "stream",
     "text": [
      "Electricity Bill: 470.0\n"
     ]
    }
   ],
   "source": [
    "# Q-27\n",
    "def calculate_electricity_bill(units):\n",
    "    if units <= 100:\n",
    "        bill = units * 1.5\n",
    "    elif units <= 200:\n",
    "        bill = 100 * 1.5 + (units - 100) * 2.5\n",
    "    else:\n",
    "        bill = 100 * 1.5 + 100 * 2.5 + (units - 200) * 3.5\n",
    "    return bill\n",
    "\n",
    "consumed_units = 220\n",
    "result = calculate_electricity_bill(consumed_units)\n",
    "print(\"Electricity Bill:\", result)"
   ]
  },
  {
   "cell_type": "code",
   "execution_count": 8,
   "id": "b6acff3b-6f13-4976-add6-da1b563cded8",
   "metadata": {},
   "outputs": [
    {
     "name": "stdout",
     "output_type": "stream",
     "text": [
      "The shape is: Quadrilateral\n"
     ]
    }
   ],
   "source": [
    "# Q-28\n",
    "def classify_quadrilateral(angles, sides):\n",
    "    if angles == 4 and sides == 4:\n",
    "        if all(angle == 90 for angle in angles):\n",
    "            return \"Rectangle\"\n",
    "        elif all(angle == 90 for angle in angles) and all(side == side for side in sides):\n",
    "            return \"Square\"\n",
    "        else:\n",
    "            return \"Rhombus\"\n",
    "    else:\n",
    "        return \"Quadrilateral\"\n",
    "\n",
    "angles = [90, 90, 90, 90]\n",
    "sides = [5, 5, 5, 5]\n",
    "result = classify_quadrilateral(angles, sides)\n",
    "print(\"The shape is:\", result)"
   ]
  },
  {
   "cell_type": "code",
   "execution_count": 37,
   "id": "ebfc82a9-d089-4ef5-888d-cf36b6a3e3ee",
   "metadata": {},
   "outputs": [
    {
     "name": "stdout",
     "output_type": "stream",
     "text": [
      "The season is: Summer\n"
     ]
    }
   ],
   "source": [
    "# Q-29\n",
    "def determine_season(month):\n",
    "    if month in [12, 1, 2]:\n",
    "        return \"Winter\"\n",
    "    elif month in [3, 4, 5]:\n",
    "        return \"Spring\"\n",
    "    elif month in [6, 7, 8]:\n",
    "        return \"Summer\"\n",
    "    elif month in [9, 10, 11]:\n",
    "        return \"Fall\"\n",
    "    else:\n",
    "        return \"Invalid Month\"\n",
    "\n",
    "month = 7\n",
    "result = determine_season(month)\n",
    "print(\"The season is:\", result)"
   ]
  },
  {
   "cell_type": "code",
   "execution_count": 38,
   "id": "97482373-27e6-4cac-a3b8-859fa68f67d9",
   "metadata": {},
   "outputs": [
    {
     "name": "stdout",
     "output_type": "stream",
     "text": [
      "Leap Year: True\n",
      "Number of days in the month: 29\n"
     ]
    }
   ],
   "source": [
    "# Q-30\n",
    "def check_year_month(year, month):\n",
    "    if (year % 4 == 0 and year % 100 != 0) or (year % 400 == 0):\n",
    "        leap_year = True\n",
    "    else:\n",
    "        leap_year = False\n",
    "\n",
    "    if month in [1, 3, 5, 7, 8, 10, 12]:\n",
    "        days = 31\n",
    "    elif month in [4, 6, 9, 11]:\n",
    "        days = 30\n",
    "    elif month == 2:\n",
    "        days = 29 if leap_year else 28\n",
    "    else:\n",
    "        days = None\n",
    "    return leap_year, days\n",
    "\n",
    "year = 2024\n",
    "month = 2\n",
    "leap_year, days = check_year_month(year, month)\n",
    "print(\"Leap Year:\", leap_year)\n",
    "print(\"Number of days in the month:\", days)"
   ]
  },
  {
   "cell_type": "code",
   "execution_count": 9,
   "id": "02d72060-5558-4d3d-9260-66888fc79888",
   "metadata": {},
   "outputs": [],
   "source": [
    "# Basic level\n",
    "# Q-1\n",
    "def check_number(num):\n",
    "    if num > 0:\n",
    "        return \"Positive\"\n",
    "    elif num < 0:\n",
    "        return \"Negative\"\n",
    "    else:\n",
    "        return \"Zero\"\n",
    "\n",
    "number = -5\n",
    "result = check_number(number)\n",
    "print(\"The number is:\", result)"
   ]
  },
  {
   "cell_type": "code",
   "execution_count": 12,
   "id": "e060c400-be8f-4ad7-8615-873cab37c7e3",
   "metadata": {},
   "outputs": [
    {
     "name": "stdout",
     "output_type": "stream",
     "text": [
      "Eligible to vote\n"
     ]
    }
   ],
   "source": [
    "# Q-2\n",
    "def check_voting_eligibility(age):\n",
    "    if age >= 18:\n",
    "        return \"Eligible to vote\"\n",
    "    else:\n",
    "        return \"Not eligible to vote\"\n",
    "\n",
    "age = 20\n",
    "result = check_voting_eligibility(age)\n",
    "print(result)"
   ]
  },
  {
   "cell_type": "code",
   "execution_count": 18,
   "id": "219052ba-6038-4897-9a20-7b4d600873dd",
   "metadata": {},
   "outputs": [
    {
     "name": "stdout",
     "output_type": "stream",
     "text": [
      "The maximum number is: 20\n"
     ]
    }
   ],
   "source": [
    "# Q-3\n",
    "def find_maximum(num1, num2):\n",
    "    if num1 > num2:\n",
    "        return num1\n",
    "    else:\n",
    "        return num2\n",
    "\n",
    "a = 10\n",
    "b = 20\n",
    "max_num = find_maximum(a, b)\n",
    "print(\"The maximum number is:\", max_num)"
   ]
  },
  {
   "cell_type": "code",
   "execution_count": 19,
   "id": "e3001bbf-ed67-4e00-9d5b-81093aaa8c40",
   "metadata": {},
   "outputs": [
    {
     "name": "stdout",
     "output_type": "stream",
     "text": [
      "The student's grade is: B\n"
     ]
    }
   ],
   "source": [
    "# Q-4\n",
    "def calculate_grade(score):\n",
    "    if score >= 90:\n",
    "        return 'A'\n",
    "    elif score >= 80:\n",
    "        return 'B'\n",
    "    elif score >= 70:\n",
    "        return 'C'\n",
    "    elif score >= 60:\n",
    "        return 'D'\n",
    "    else:\n",
    "        return 'F'\n",
    "\n",
    "exam_score = 85\n",
    "grade = calculate_grade(exam_score)\n",
    "print(\"The student's grade is:\", grade)"
   ]
  },
  {
   "cell_type": "code",
   "execution_count": 20,
   "id": "e13abae9-69ff-45cf-a7e4-5f352ee6d412",
   "metadata": {},
   "outputs": [
    {
     "name": "stdout",
     "output_type": "stream",
     "text": [
      "Leap year\n"
     ]
    }
   ],
   "source": [
    "# Q-5\n",
    "def check_leap_year(year):\n",
    "    if (year % 4 == 0 and year % 100 != 0) or (year % 400 == 0):\n",
    "        return \"Leap year\"\n",
    "    else:\n",
    "        return \"Not a leap year\"\n",
    "\n",
    "year = 2024\n",
    "result = check_leap_year(year)\n",
    "print(result)"
   ]
  },
  {
   "cell_type": "code",
   "execution_count": 23,
   "id": "4ef871ed-d747-472f-b6d7-15eb13937358",
   "metadata": {},
   "outputs": [
    {
     "name": "stdout",
     "output_type": "stream",
     "text": [
      "The triangle is: Equilateral\n"
     ]
    }
   ],
   "source": [
    "# Q-6\n",
    "def classify_triangle(a, b, c):\n",
    "    if a == b == c:\n",
    "        return \"Equilateral\"\n",
    "    elif a == b or b == c or a == c:\n",
    "        return \"Isosceles\"\n",
    "    else:\n",
    "        return \"Scalene\"\n",
    "\n",
    "side1 = 5\n",
    "side2 = 5\n",
    "side3 = 5\n",
    "triangle_type = classify_triangle(side1, side2, side3)\n",
    "print(\"The triangle is:\", triangle_type)"
   ]
  },
  {
   "cell_type": "code",
   "execution_count": 24,
   "id": "8ef27dd6-1a47-43b7-bb4b-6bc17655580c",
   "metadata": {},
   "outputs": [
    {
     "name": "stdout",
     "output_type": "stream",
     "text": [
      "The largest number is: 20\n"
     ]
    }
   ],
   "source": [
    "# Q-7\n",
    "def find_largest(num1, num2, num3):\n",
    "    if num1 >= num2 and num1 >= num3:\n",
    "        return num1\n",
    "    elif num2 >= num1 and num2 >= num3:\n",
    "        return num2\n",
    "    else:\n",
    "        return num3\n",
    "\n",
    "a = 10\n",
    "b = 20\n",
    "c = 15\n",
    "largest = find_largest(a, b, c)\n",
    "print(\"The largest number is:\", largest)"
   ]
  },
  {
   "cell_type": "code",
   "execution_count": 27,
   "id": "db54c179-0230-480a-82b2-c36274e1a73a",
   "metadata": {},
   "outputs": [
    {
     "name": "stdout",
     "output_type": "stream",
     "text": [
      "The character is a Consonant\n"
     ]
    }
   ],
   "source": [
    "# Q-8\n",
    "def check_vowel_consonant(char):\n",
    "    vowels = 'aeiou'\n",
    "    if char.lower() in vowels:\n",
    "        return \"Vowel\"\n",
    "    elif char.isalpha():\n",
    "        return \"Consonant\"\n",
    "    else:\n",
    "        return \"Invalid input\"\n",
    "\n",
    "character = 'k'\n",
    "result = check_vowel_consonant(character)\n",
    "print(\"The character is a\", result)"
   ]
  },
  {
   "cell_type": "code",
   "execution_count": 30,
   "id": "0e91f13b-b1e4-4259-b65d-6279747e3cd6",
   "metadata": {},
   "outputs": [
    {
     "name": "stdout",
     "output_type": "stream",
     "text": [
      "The total cost is: 720.0\n"
     ]
    }
   ],
   "source": [
    "# Q-9\n",
    "def calculate_total_cost(amount):\n",
    "    if amount >= 1000:\n",
    "        discount = 0.2\n",
    "    elif amount >= 500:\n",
    "        discount = 0.1\n",
    "    else:\n",
    "        discount = 0\n",
    "    total_cost = amount - (amount * discount)\n",
    "    return total_cost\n",
    "\n",
    "purchase_amount = 800\n",
    "final_cost = calculate_total_cost(purchase_amount)\n",
    "print(\"The total cost is:\", final_cost)"
   ]
  },
  {
   "cell_type": "code",
   "execution_count": 31,
   "id": "c24812af-7e89-4cb6-8b9e-6c49aa9c80a1",
   "metadata": {},
   "outputs": [
    {
     "name": "stdout",
     "output_type": "stream",
     "text": [
      "The number is Odd\n"
     ]
    }
   ],
   "source": [
    "# Q-10\n",
    "def check_even_odd(num):\n",
    "    if num % 2 == 0:\n",
    "        return \"Even\"\n",
    "    else:\n",
    "        return \"Odd\"\n",
    "\n",
    "number = 7\n",
    "result = check_even_odd(number)\n",
    "print(\"The number is\", result)"
   ]
  },
  {
   "cell_type": "code",
   "execution_count": 32,
   "id": "aff03b4c-5d0f-4673-aacf-77c3dd4e0d88",
   "metadata": {},
   "outputs": [
    {
     "name": "stdout",
     "output_type": "stream",
     "text": [
      "The roots are: 4.0 2.0\n"
     ]
    }
   ],
   "source": [
    "# Intermediate Level\n",
    "# Q-11\n",
    "import math\n",
    "\n",
    "def calculate_roots(a, b, c):\n",
    "    discriminant = b ** 2 - 4 * a * c\n",
    "    if discriminant > 0:\n",
    "        root1 = (-b + math.sqrt(discriminant)) / (2 * a)\n",
    "        root2 = (-b - math.sqrt(discriminant)) / (2 * a)\n",
    "        return root1, root2\n",
    "    elif discriminant == 0:\n",
    "        root = -b / (2 * a)\n",
    "        return root\n",
    "    else:\n",
    "        return None\n",
    "a = 1\n",
    "b = -6\n",
    "c = 8\n",
    "root1, root2 = calculate_roots(a, b, c)\n",
    "print(\"The roots are:\", root1, root2)"
   ]
  },
  {
   "cell_type": "code",
   "execution_count": 33,
   "id": "b6daae47-d2fa-4a9d-90dc-25b5a0754829",
   "metadata": {},
   "outputs": [
    {
     "name": "stdout",
     "output_type": "stream",
     "text": [
      "The day is: Wednesday\n"
     ]
    }
   ],
   "source": [
    "# Q-12\n",
    "def determine_day(day_number):\n",
    "    days = [\"Monday\", \"Tuesday\", \"Wednesday\", \"Thursday\", \"Friday\", \"Saturday\", \"Sunday\"]\n",
    "    return days[day_number - 1]\n",
    "\n",
    "day_number = 3\n",
    "result = determine_day(day_number)\n",
    "print(\"The day is:\", result)"
   ]
  },
  {
   "cell_type": "code",
   "execution_count": 34,
   "id": "89851fb8-6a93-44b0-a4e6-c6df03162ee2",
   "metadata": {},
   "outputs": [
    {
     "name": "stdout",
     "output_type": "stream",
     "text": [
      "The factorial is: 120\n"
     ]
    }
   ],
   "source": [
    "# Q-13\n",
    "def calculate_factorial(n):\n",
    "    if n == 0:\n",
    "        return 1\n",
    "    else:\n",
    "        return n * calculate_factorial(n - 1)\n",
    "\n",
    "n = 5\n",
    "result = calculate_factorial(n)\n",
    "print(\"The factorial is:\", result)"
   ]
  },
  {
   "cell_type": "code",
   "execution_count": 35,
   "id": "6eeaa480-a16f-403d-9ae9-23d76e1b2abf",
   "metadata": {},
   "outputs": [
    {
     "name": "stdout",
     "output_type": "stream",
     "text": [
      "The largest number is: 20\n"
     ]
    }
   ],
   "source": [
    "# Q-14\n",
    "def find_largest(num1, num2, num3):\n",
    "    if num1 >= num2 and num1 >= num3:\n",
    "        return num1\n",
    "    elif num2 >= num1 and num2 >= num3:\n",
    "        return num2\n",
    "    else:\n",
    "        return num3\n",
    "\n",
    "a = 10\n",
    "b = 20\n",
    "c = 15\n",
    "largest = find_largest(a, b, c)\n",
    "print(\"The largest number is:\", largest)"
   ]
  },
  {
   "cell_type": "code",
   "execution_count": 36,
   "id": "e2cf7735-1992-4ab7-be15-354356841d14",
   "metadata": {},
   "outputs": [
    {
     "name": "stdout",
     "output_type": "stream",
     "text": [
      "Welcome to the ATM!\n",
      "1. Deposit\n",
      "2. Withdraw\n",
      "3. Check Balance\n"
     ]
    },
    {
     "name": "stdin",
     "output_type": "stream",
     "text": [
      "Enter your choice:  1\n",
      "Enter the amount to deposit:  5\n"
     ]
    },
    {
     "name": "stdout",
     "output_type": "stream",
     "text": [
      "Deposit successful!\n"
     ]
    }
   ],
   "source": [
    "# Q-15\n",
    "def atm_transaction():\n",
    "    print(\"Welcome to the ATM!\")\n",
    "    print(\"1. Deposit\")\n",
    "    print(\"2. Withdraw\")\n",
    "    print(\"3. Check Balance\")\n",
    "    choice = int(input(\"Enter your choice: \"))\n",
    "    if choice == 1:\n",
    "        amount = float(input(\"Enter the amount to deposit: \"))\n",
    "        print(\"Deposit successful!\")\n",
    "    elif choice == 2:\n",
    "        amount = float(input(\"Enter the amount to withdraw: \"))\n",
    "        print(\"Withdrawal successful!\")\n",
    "    elif choice == 3:\n",
    "        print(\"Your balance is: $100\")\n",
    "    else:\n",
    "        print(\"Invalid choice!\")\n",
    "\n",
    "atm_transaction()"
   ]
  },
  {
   "cell_type": "code",
   "execution_count": 37,
   "id": "6bc9f2bd-761e-479c-9c62-1af5720bd29c",
   "metadata": {},
   "outputs": [
    {
     "name": "stdout",
     "output_type": "stream",
     "text": [
      "The string is a palindrome.\n"
     ]
    }
   ],
   "source": [
    "# Q-16\n",
    "def check_palindrome(string):\n",
    "    if string == string[::-1]:\n",
    "        return \"The string is a palindrome.\"\n",
    "    else:\n",
    "        return \"The string is not a palindrome.\"\n",
    "\n",
    "string = \"radar\"\n",
    "result = check_palindrome(string)\n",
    "print(result)"
   ]
  },
  {
   "cell_type": "code",
   "execution_count": 38,
   "id": "92fb6381-d45a-48fc-a195-177e8afeadb2",
   "metadata": {},
   "outputs": [
    {
     "name": "stdout",
     "output_type": "stream",
     "text": [
      "The average is: 3.0\n"
     ]
    }
   ],
   "source": [
    "# Q-17\n",
    "def calculate_average(numbers):\n",
    "    numbers.sort()\n",
    "    average = sum(numbers[1:-1]) / (len(numbers) - 2)\n",
    "    return average\n",
    "\n",
    "numbers = [1, 2, 3, 4, 5]\n",
    "average = calculate_average(numbers)\n",
    "print(\"The average is:\", average)"
   ]
  },
  {
   "cell_type": "code",
   "execution_count": 39,
   "id": "bba2615c-35ff-42f2-abba-5b3bc09dfa49",
   "metadata": {},
   "outputs": [
    {
     "name": "stdout",
     "output_type": "stream",
     "text": [
      "The temperature in Fahrenheit is: 77.0\n"
     ]
    }
   ],
   "source": [
    "# Q-18\n",
    "def convert_temperature(celsius):\n",
    "    fahrenheit = (celsius * 9/5) + 32\n",
    "    return fahrenheit\n",
    "\n",
    "celsius = 25\n",
    "fahrenheit = convert_temperature(celsius)\n",
    "print(\"The temperature in Fahrenheit is:\", fahrenheit)"
   ]
  },
  {
   "cell_type": "code",
   "execution_count": 40,
   "id": "9399f97e-a608-453e-9c69-8ffe364bdca8",
   "metadata": {},
   "outputs": [
    {
     "name": "stdout",
     "output_type": "stream",
     "text": [
      "Welcome to the calculator!\n",
      "1. Addition\n",
      "2. Subtraction\n",
      "3. Multiplication\n",
      "4. Division\n"
     ]
    },
    {
     "name": "stdin",
     "output_type": "stream",
     "text": [
      "Enter your choice:  3\n",
      "Enter the first number:  45\n",
      "Enter the second number:  10\n"
     ]
    },
    {
     "name": "stdout",
     "output_type": "stream",
     "text": [
      "The result is: 450.0\n"
     ]
    }
   ],
   "source": [
    "# Q-19\n",
    "def calculator():\n",
    "    print(\"Welcome to the calculator!\")\n",
    "    print(\"1. Addition\")\n",
    "    print(\"2. Subtraction\")\n",
    "    print(\"3. Multiplication\")\n",
    "    print(\"4. Division\")\n",
    "    choice = int(input(\"Enter your choice: \"))\n",
    "    if choice == 1:\n",
    "        num1 = float(input(\"Enter the first number: \"))\n",
    "        num2 = float(input(\"Enter the second number: \"))\n",
    "        result = num1 + num2\n",
    "        print(\"The result is:\", result)\n",
    "    elif choice == 2:\n",
    "        num1 = float(input(\"Enter the first number: \"))\n",
    "        num2 = float(input(\"Enter the second number: \"))\n",
    "        result = num1 - num2\n",
    "        print(\"The result is:\", result)\n",
    "    elif choice == 3:\n",
    "        num1 = float(input(\"Enter the first number: \"))\n",
    "        num2 = float(input(\"Enter the second number: \"))\n",
    "        result = num1 * num2\n",
    "        print(\"The result is:\", result)\n",
    "    elif choice == 4:\n",
    "        num1 = float(input(\"Enter the first number: \"))\n",
    "        num2 = float(input(\"Enter the second number: \"))\n",
    "        if num2 != 0:\n",
    "            result = num1 / num2\n",
    "            print(\"The result is:\", result)\n",
    "        else:\n",
    "            print(\"Error: Division by zero!\")\n",
    "    else:\n",
    "        print(\"Invalid choice!\")\n",
    "\n",
    "calculator()"
   ]
  },
  {
   "cell_type": "code",
   "execution_count": 43,
   "id": "1e029be8-2fa0-44e0-ba5c-310bda43c594",
   "metadata": {},
   "outputs": [
    {
     "name": "stdout",
     "output_type": "stream",
     "text": [
      "The roots are: 0.8740078740118111 -14.874007874011811\n"
     ]
    }
   ],
   "source": [
    "# Q-20\n",
    "import math\n",
    "\n",
    "def calculate_roots(a, b, c, d):\n",
    "    discriminant = b ** 2 - 4 * a * c + 4 * a ** 3 * d\n",
    "    if discriminant > 0:\n",
    "        root1 = (-b + math.sqrt(discriminant)) / (2 * a)\n",
    "        root2 = (-b - math.sqrt(discriminant)) / (2 * a)\n",
    "        return root1, root2\n",
    "    elif discriminant == 0:\n",
    "        root = -b / (2 * a)\n",
    "        return root\n",
    "    else:\n",
    "        return None\n",
    "\n",
    "a = 1\n",
    "b = 14\n",
    "c = -8\n",
    "d = 5\n",
    "root1, root2 = calculate_roots(a, b, c, d)\n",
    "print(\"The roots are:\", root1, root2)"
   ]
  },
  {
   "cell_type": "code",
   "execution_count": 44,
   "id": "38b6e727-09d9-46c6-b517-2530bdeeabbe",
   "metadata": {},
   "outputs": [
    {
     "name": "stdout",
     "output_type": "stream",
     "text": [
      "The income tax is: 5000.0\n"
     ]
    }
   ],
   "source": [
    "# Advance level\n",
    "# Q-21\n",
    "def calculate_income_tax(income):\n",
    "    if income <= 10000:\n",
    "        tax_rate = 0.1\n",
    "    elif income <= 20000:\n",
    "        tax_rate = 0.15\n",
    "    elif income <= 50000:\n",
    "        tax_rate = 0.2\n",
    "    else:\n",
    "        tax_rate = 0.25\n",
    "    tax = income * tax_rate\n",
    "    return tax\n",
    "\n",
    "income = 25000\n",
    "tax = calculate_income_tax(income)\n",
    "print(\"The income tax is:\", tax)"
   ]
  },
  {
   "cell_type": "code",
   "execution_count": 50,
   "id": "f495e073-5636-461d-991a-2bcdaa3c20f1",
   "metadata": {},
   "outputs": [
    {
     "name": "stdin",
     "output_type": "stream",
     "text": [
      "Enter your choice (rock, paper, or scissors):  scissors\n"
     ]
    },
    {
     "name": "stdout",
     "output_type": "stream",
     "text": [
      "Computer chose: paper\n",
      "You win!\n"
     ]
    }
   ],
   "source": [
    "# Q-22\n",
    "import random\n",
    "\n",
    "def play_rock_paper_scissors():\n",
    "    choices = [\"rock\", \"paper\", \"scissors\"]\n",
    "    user_choice = input(\"Enter your choice (rock, paper, or scissors): \")\n",
    "    computer_choice = random.choice(choices)\n",
    "    print(\"Computer chose:\", computer_choice)\n",
    "    if user_choice == computer_choice:\n",
    "        print(\"It's a tie!\")\n",
    "    elif user_choice == \"rock\" and computer_choice == \"scissors\":\n",
    "        print(\"You win!\")\n",
    "    elif user_choice == \"paper\" and computer_choice == \"rock\":\n",
    "        print(\"You win!\")\n",
    "    elif user_choice == \"scissors\" and computer_choice == \"paper\":\n",
    "        print(\"You win!\")\n",
    "    else:\n",
    "        print(\"Computer wins!\")\n",
    "\n",
    "play_rock_paper_scissors()"
   ]
  },
  {
   "cell_type": "code",
   "execution_count": 52,
   "id": "d47d2d15-59b0-454f-8bfd-a465d22e9c68",
   "metadata": {},
   "outputs": [
    {
     "name": "stdout",
     "output_type": "stream",
     "text": [
      "Generated password: ns%3+7zp8JLQ\n"
     ]
    }
   ],
   "source": [
    "# Q-23\n",
    "import random\n",
    "import string\n",
    "\n",
    "def generate_password(length, complexity):\n",
    "    if complexity == \"simple\":\n",
    "        characters = string.ascii_letters + string.digits\n",
    "    elif complexity == \"medium\":\n",
    "        characters = string.ascii_letters + string.digits + string.punctuation\n",
    "    else:\n",
    "        characters = string.ascii_letters + string.digits + string.punctuation + string.whitespace\n",
    "    password = ''.join(random.choice(characters) for _ in range(length))\n",
    "    return password\n",
    "\n",
    "length = 12\n",
    "complexity = \" \"\n",
    "password = generate_password(length, complexity)\n",
    "print(\"Generated password:\", password)"
   ]
  },
  {
   "cell_type": "code",
   "execution_count": 53,
   "id": "a44a670b-d891-4f55-b2db-8291f3710c1b",
   "metadata": {},
   "outputs": [
    {
     "name": "stdout",
     "output_type": "stream",
     "text": [
      "Welcome to the adventure game!\n",
      "You are standing at the entrance of a dark cave.\n",
      "Do you want to:\n",
      "1. Enter the cave\n",
      "2. Go back\n"
     ]
    },
    {
     "name": "stdin",
     "output_type": "stream",
     "text": [
      "Enter your choice:  2\n"
     ]
    },
    {
     "name": "stdout",
     "output_type": "stream",
     "text": [
      "You go back to the entrance and decide to explore the surrounding area.\n",
      "Do you want to:\n",
      "1. Explore the forest\n",
      "2. Go back to the village\n"
     ]
    },
    {
     "name": "stdin",
     "output_type": "stream",
     "text": [
      "Enter your choice:  2\n"
     ]
    },
    {
     "name": "stdout",
     "output_type": "stream",
     "text": [
      "You go back to the village and decide to rest.\n",
      "Congratulations, you won the game!\n"
     ]
    }
   ],
   "source": [
    "# Q-24\n",
    "def play_adventure_game():\n",
    "    print(\"Welcome to the adventure game!\")\n",
    "    print(\"You are standing at the entrance of a dark cave.\")\n",
    "    print(\"Do you want to:\")\n",
    "    print(\"1. Enter the cave\")\n",
    "    print(\"2. Go back\")\n",
    "    choice = input(\"Enter your choice: \")\n",
    "    if choice == \"1\":\n",
    "        print(\"You enter the cave and find a treasure chest.\")\n",
    "        print(\"Do you want to:\")\n",
    "        print(\"1. Open the chest\")\n",
    "        print(\"2. Leave the cave\")\n",
    "        choice = input(\"Enter your choice: \")\n",
    "        if choice == \"1\":\n",
    "            print(\"You open the chest and find a magical sword.\")\n",
    "            print(\"Congratulations, you won the game!\")\n",
    "        else:\n",
    "            print(\"You leave the cave and go back to the entrance.\")\n",
    "    elif choice == \"2\":\n",
    "        print(\"You go back to the entrance and decide to explore the surrounding area.\")\n",
    "        print(\"Do you want to:\")\n",
    "        print(\"1. Explore the forest\")\n",
    "        print(\"2. Go back to the village\")\n",
    "        choice = input(\"Enter your choice: \")\n",
    "        if choice == \"1\":\n",
    "            print(\"You explore the forest and find a hidden temple.\")\n",
    "            print(\"Do you want to:\")\n",
    "            print(\"1. Enter the temple\")\n",
    "            print(\"2. Leave the forest\")\n",
    "            choice = input(\"Enter your choice: \")\n",
    "            if choice == \"1\":\n",
    "                print(\"You enter the temple and find a magical amulet.\")\n",
    "                print(\"Congratulations, you won the game!\")\n",
    "            else:\n",
    "                print(\"You leave the forest and go back to the village.\")\n",
    "        else:\n",
    "            print(\"You go back to the village and decide to rest.\")\n",
    "            print(\"Congratulations, you won the game!\")\n",
    "\n",
    "play_adventure_game()"
   ]
  },
  {
   "cell_type": "code",
   "execution_count": 55,
   "id": "02d44c8e-8594-4d9b-9919-03096d142e6f",
   "metadata": {},
   "outputs": [
    {
     "name": "stdout",
     "output_type": "stream",
     "text": [
      "The solution is: -0.5\n"
     ]
    }
   ],
   "source": [
    "# Q-25\n",
    "def solve_linear_equation(a, b):\n",
    "    if a == 0:\n",
    "        if b == 0:\n",
    "            return \"The equation has no solution.\"\n",
    "        else:\n",
    "            return \"The equation has no solution.\"\n",
    "    else:\n",
    "        x = -b / a\n",
    "        return x\n",
    "    \n",
    "a = 8\n",
    "b = 4\n",
    "x = solve_linear_equation(a, b)\n",
    "print(\"The solution is:\", x)"
   ]
  },
  {
   "cell_type": "code",
   "execution_count": 57,
   "id": "6e428e41-b6a4-4a99-a071-f7d2c58130cb",
   "metadata": {},
   "outputs": [
    {
     "name": "stdout",
     "output_type": "stream",
     "text": [
      "The year is a prime number: True\n"
     ]
    }
   ],
   "source": [
    "# Q-27\n",
    "def is_prime(year):\n",
    "    if year <= 1:\n",
    "        return False\n",
    "    elif year == 2:\n",
    "        return True\n",
    "    elif year % 2 == 0:\n",
    "        return False\n",
    "    else:\n",
    "        for i in range(3, int(year ** 0.5) + 1, 2):\n",
    "            if year % i == 0:\n",
    "                return False\n",
    "        return True\n",
    "\n",
    "year = 2131\n",
    "is_prime_year = is_prime(year)\n",
    "print(\"The year is a prime number:\", is_prime_year)"
   ]
  },
  {
   "cell_type": "code",
   "execution_count": 58,
   "id": "e8186048-06f4-4450-9fcb-f79c2abc628b",
   "metadata": {},
   "outputs": [
    {
     "name": "stdout",
     "output_type": "stream",
     "text": [
      "The sorted number is: 3\n"
     ]
    }
   ],
   "source": [
    "# Q-28\n",
    "def sort_numbers(num1, num2, num3):\n",
    "    if num1 <= num2 and num1 <= num3:\n",
    "        return num1\n",
    "    elif num2 <= num1 and num2 <= num3:\n",
    "        return num2\n",
    "    else:\n",
    "        return num3\n",
    "\n",
    "num1 = 5\n",
    "num2 = 3\n",
    "num3 = 8\n",
    "sorted_num = sort_numbers(num1, num2, num3)\n",
    "print(\"The sorted number is:\", sorted_num)"
   ]
  },
  {
   "cell_type": "code",
   "execution_count": 59,
   "id": "f8be526c-6166-4ea2-b5e5-60fe09127c2e",
   "metadata": {},
   "outputs": [
    {
     "name": "stdout",
     "output_type": "stream",
     "text": [
      "The roots are: [ 3.86080585  2.25410169 -0.11490754  0.        ]\n"
     ]
    }
   ],
   "source": [
    "# Q-29\n",
    "import numpy as np\n",
    "\n",
    "def solve_quartic_equation(a, b, c, d, e):\n",
    "    roots = np.roots([a, b, c, d, e])\n",
    "    return roots\n",
    "\n",
    "a = 1\n",
    "b = -6\n",
    "c = 8\n",
    "d = 1\n",
    "e = 0\n",
    "roots = solve_quartic_equation(a, b, c, d, e)\n",
    "print(\"The roots are:\", roots)"
   ]
  },
  {
   "cell_type": "code",
   "execution_count": 62,
   "id": "cb6debaa-af71-4fdf-b661-aa2066b1fb65",
   "metadata": {},
   "outputs": [
    {
     "name": "stdout",
     "output_type": "stream",
     "text": [
      "Your BMI category is: Normal\n"
     ]
    }
   ],
   "source": [
    "# Q-30\n",
    "def calculate_bmi(weight, height):\n",
    "    bmi = weight / (height ** 2)\n",
    "    if bmi < 18.5:\n",
    "        return \"Underweight\"\n",
    "    elif bmi >= 18.5 and bmi < 25:\n",
    "        return \"Normal\"\n",
    "    elif bmi >= 25 and bmi < 30:\n",
    "        return \"Overweight\"\n",
    "    else:\n",
    "        return \"Obese\"\n",
    "\n",
    "weight = 75\n",
    "height = 1.9\n",
    "bmi_category = calculate_bmi(weight, height)\n",
    "print(\"Your BMI category is:\", bmi_category)"
   ]
  },
  {
   "cell_type": "code",
   "execution_count": null,
   "id": "4a56dae6-a045-452b-b328-34dba9f60f3e",
   "metadata": {},
   "outputs": [],
   "source": []
  }
 ],
 "metadata": {
  "kernelspec": {
   "display_name": "Python 3 (ipykernel)",
   "language": "python",
   "name": "python3"
  },
  "language_info": {
   "codemirror_mode": {
    "name": "ipython",
    "version": 3
   },
   "file_extension": ".py",
   "mimetype": "text/x-python",
   "name": "python",
   "nbconvert_exporter": "python",
   "pygments_lexer": "ipython3",
   "version": "3.10.8"
  }
 },
 "nbformat": 4,
 "nbformat_minor": 5
}
