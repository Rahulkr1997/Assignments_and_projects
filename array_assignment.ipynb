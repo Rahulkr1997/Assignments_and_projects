{
 "cells": [
  {
   "cell_type": "code",
   "execution_count": 1,
   "id": "7a5b9371-6048-4213-92be-5872d197766e",
   "metadata": {},
   "outputs": [
    {
     "name": "stdout",
     "output_type": "stream",
     "text": [
      "True\n"
     ]
    }
   ],
   "source": [
    "# Array assignment\n",
    "# Q-1\n",
    "def contains_duplicates(arr):\n",
    "    return len(arr) != len(set(arr))\n",
    "\n",
    "arr = [1, 2, 4, 2, 5, 9]\n",
    "print(contains_duplicates(arr))"
   ]
  },
  {
   "cell_type": "code",
   "execution_count": 2,
   "id": "6e695e7b-b568-4391-9d17-a21d53f5bd6f",
   "metadata": {},
   "outputs": [
    {
     "name": "stdout",
     "output_type": "stream",
     "text": [
      "[5, 6, 7, 1, 2, 3, 4]\n"
     ]
    }
   ],
   "source": [
    "# Q-2\n",
    "def rotate_right(arr, k):\n",
    "    n = len(arr)\n",
    "    k = k % n\n",
    "    return arr[-k:] + arr[:-k]\n",
    "\n",
    "arr = [1, 2, 3, 4, 5, 6, 7]\n",
    "k = 3\n",
    "rotated_arr = rotate_right(arr, k)\n",
    "print(rotated_arr) "
   ]
  },
  {
   "cell_type": "code",
   "execution_count": 3,
   "id": "d3f8690b-458d-435d-81c5-5d2bc9d5b8de",
   "metadata": {},
   "outputs": [
    {
     "name": "stdout",
     "output_type": "stream",
     "text": [
      "[12, 9, 7, 5, 4, 2]\n"
     ]
    }
   ],
   "source": [
    "# Q-3\n",
    "def reverse_array(arr):\n",
    "    n = len(arr)\n",
    "    for i in range(n // 2):\n",
    "        arr[i], arr[n - 1 - i] = arr[n - 1 - i], arr[i]\n",
    "    \n",
    "    return arr\n",
    "\n",
    "arr = [2, 4, 5, 7, 9, 12]\n",
    "reversed_arr = reverse_array(arr)\n",
    "print(reversed_arr) "
   ]
  },
  {
   "cell_type": "code",
   "execution_count": 4,
   "id": "755e5418-acf3-4ebc-b08e-8976db8cd278",
   "metadata": {},
   "outputs": [
    {
     "name": "stdout",
     "output_type": "stream",
     "text": [
      "20\n"
     ]
    }
   ],
   "source": [
    "# Q-4\n",
    "arr = [10, 5, 20, 8, 15]\n",
    "max_element = max(arr)\n",
    "print(max_element)"
   ]
  },
  {
   "cell_type": "code",
   "execution_count": 5,
   "id": "25806254-1b44-4beb-8840-57189ac0d325",
   "metadata": {},
   "outputs": [
    {
     "name": "stdout",
     "output_type": "stream",
     "text": [
      "[1, 2, 3, 4, 5]\n"
     ]
    }
   ],
   "source": [
    "# Q-5\n",
    "def remove_duplicates(arr):\n",
    "    unique_index = 0\n",
    "    \n",
    "    for i in range(1, len(arr)):\n",
    "        if arr[i] != arr[unique_index]:\n",
    "            unique_index += 1\n",
    "            arr[unique_index] = arr[i]\n",
    "    return arr[:unique_index + 1]\n",
    "\n",
    "arr = [1, 1, 2, 2, 2, 3, 3, 4, 4, 4, 5, 5]\n",
    "unique_arr = remove_duplicates(arr)\n",
    "print(unique_arr)"
   ]
  },
  {
   "cell_type": "code",
   "execution_count": null,
   "id": "5820dd69-7039-4121-9716-009b5a98a0a0",
   "metadata": {},
   "outputs": [],
   "source": []
  }
 ],
 "metadata": {
  "kernelspec": {
   "display_name": "Python 3 (ipykernel)",
   "language": "python",
   "name": "python3"
  },
  "language_info": {
   "codemirror_mode": {
    "name": "ipython",
    "version": 3
   },
   "file_extension": ".py",
   "mimetype": "text/x-python",
   "name": "python",
   "nbconvert_exporter": "python",
   "pygments_lexer": "ipython3",
   "version": "3.10.8"
  }
 },
 "nbformat": 4,
 "nbformat_minor": 5
}
